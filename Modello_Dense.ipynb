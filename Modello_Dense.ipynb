{
  "cells": [
    {
      "cell_type": "markdown",
      "metadata": {
        "id": "view-in-github",
        "colab_type": "text"
      },
      "source": [
        "<a href=\"https://colab.research.google.com/github/TheRoberto2512/DeepBrainMRI/blob/main/Modello_Dense.ipynb\" target=\"_parent\"><img src=\"https://colab.research.google.com/assets/colab-badge.svg\" alt=\"Open In Colab\"/></a>"
      ]
    },
    {
      "cell_type": "markdown",
      "source": [
        "<font size=6>**SOMMARIO DEL NOTEBOOK**</font>\n",
        "\n",
        "In questo notebook andiamo a testare la massima efficacia che può ottenere un modello Dense, nonostante esso non sia adatto a questo tipo di task.\n",
        "\n",
        "\n",
        "**Indice:**\n",
        "*   [Installazioni, import librerie e funzioni utili](#1)\n",
        "*   [Caricamento del Dataset](#2)\n",
        "*   [Modello Dense](#3)\n",
        "*   [Risultati](#4)\n",
        "*   [Modello Finale](#5)\n",
        "\n"
      ],
      "metadata": {
        "id": "B-fgOvz6tw0S"
      }
    },
    {
      "cell_type": "markdown",
      "source": [
        "<a name=\"1\"></a>\n",
        "# Installazioni, import librerie e funzioni utili"
      ],
      "metadata": {
        "id": "RbFNuOqQumCH"
      }
    },
    {
      "cell_type": "code",
      "execution_count": null,
      "metadata": {
        "id": "g2FjUBluZ4WL"
      },
      "outputs": [],
      "source": [
        "! pip install tensorflow-gpu==2.8.3"
      ]
    },
    {
      "cell_type": "code",
      "execution_count": null,
      "metadata": {
        "id": "vHEXJnfs4sAg"
      },
      "outputs": [],
      "source": [
        "from sklearn.metrics import confusion_matrix\n",
        "from google.colab import drive, files\n",
        "import matplotlib.pyplot as plt\n",
        "import tensorflow as tf\n",
        "import pandas as pd                                                               # per gestire la serializzazione/deserializzazione dei risultati\n",
        "import numpy as np\n",
        "import shutil                                                                     # per fare spostamenti e copie tra drive e colab\n",
        "import os                                                                         # per gestire le cartelle dei dataset"
      ]
    },
    {
      "cell_type": "code",
      "source": [
        "drive.mount(\"/content/drive\", force_remount=True)                                 # montiamo il drive per prelevare i dataset"
      ],
      "metadata": {
        "id": "0gyHgKp1kXUl"
      },
      "execution_count": null,
      "outputs": []
    },
    {
      "cell_type": "markdown",
      "source": [
        "Qualora la cartella principale del progetto non si trovi nella home di Google Drive, personalizzare la seguente stringa:"
      ],
      "metadata": {
        "id": "qPc62odhDU7W"
      }
    },
    {
      "cell_type": "code",
      "source": [
        "main_folder_path = '/content/drive/MyDrive/DeepBrainMRI'"
      ],
      "metadata": {
        "id": "PkjRUX4pCuze"
      },
      "execution_count": null,
      "outputs": []
    },
    {
      "cell_type": "markdown",
      "source": [
        "Le seguenti funzioni servono per salvare/caricare facilmente le history, le evaluation e i pesi del modello su Google Drive."
      ],
      "metadata": {
        "id": "R3FTjVxC2Q1e"
      }
    },
    {
      "cell_type": "code",
      "source": [
        "result_folder_path = f\"{main_folder_path}/Risultati vari/Dense\"\n",
        "saved_weights_path = f\"{main_folder_path}/Saved Weights/Dense\"\n",
        "dataset_directory = ''\n",
        "\n",
        "def saveHistory(history, nomeFile):                                               # funzione per salvare la history di un addestramento\n",
        "  if not os.path.exists(result_folder_path):\n",
        "     os.makedirs(result_folder_path)\n",
        "  history_df = pd.DataFrame.from_dict(history.history)\n",
        "  history_df.to_csv(result_folder_path + f\"/{dataset_directory}_{nomeFile}_history.csv\", index=False)\n",
        "\n",
        "def loadHistory(nomeFile):                                                        # funzione per caricare la history di un addestramento\n",
        "  if os.path.exists(result_folder_path):\n",
        "    return pd.read_csv(f\"{result_folder_path}/{dataset_directory}_{nomeFile}_history.csv\").to_dict()\n",
        "  else:\n",
        "    raise Exception(\"Cartella inesistente!\")\n",
        "\n",
        "def saveEvaluation(loss, acc, f1, nomeFile):                                      # funzione per salvare il risultato di un evaluation\n",
        "  if not os.path.exists(result_folder_path):\n",
        "     os.makedirs(result_folder_path)\n",
        "  evaluation = {}\n",
        "  evaluation['loss'] = loss\n",
        "  evaluation['accuracy'] = acc\n",
        "  evaluation['f1_score'] = f1\n",
        "  evaluation_df = pd.DataFrame.from_dict(evaluation)\n",
        "  evaluation_df.to_csv(result_folder_path + f\"/{dataset_directory}_{nomeFile}_evaluation.csv\", index=False)\n",
        "\n",
        "def loadEvaluation(nomeFile):                                                     # funzione per caricare il risultato di un evaluation\n",
        "  if os.path.exists(result_folder_path):\n",
        "    return pd.read_csv(f\"{result_folder_path}/{dataset_directory}_{nomeFile}_evaluation.csv\").to_dict()\n",
        "  else:\n",
        "    raise Exception(\"Cartella inesistente!\")\n",
        "\n",
        "def saveWeights(nomeFile):                                                        # funzione per salvare il file dei pesi su drive\n",
        "  if not os.path.exists(saved_weights_path):\n",
        "    os.makedirs(saved_weights_path)\n",
        "  shutil.copy(nomeFile, f\"{saved_weights_path}\")\n",
        "\n",
        "def loadWeights(nomeFile):                                                        # funzione per caricare il file dei pesi da drive\n",
        "  if os.path.exists(saved_weights_path):\n",
        "    shutil.copy(f\"{saved_weights_path}/{nomeFile}\", '/content/')\n",
        "  else:\n",
        "    raise Exception(\"Cartella inesistente!\")"
      ],
      "metadata": {
        "id": "jMTtYWk3ofu6"
      },
      "execution_count": null,
      "outputs": []
    },
    {
      "cell_type": "markdown",
      "metadata": {
        "id": "CoAIb0btOJ3v"
      },
      "source": [
        "<a name=\"2\"></a>\n",
        "# Caricamento del Dataset\n"
      ]
    },
    {
      "cell_type": "markdown",
      "source": [
        "Impostiamo dei valori costanti per la corretta esecuzione del notebook."
      ],
      "metadata": {
        "id": "bV7HEE24wtaN"
      }
    },
    {
      "cell_type": "code",
      "source": [
        "base_datasets_path = f\"{main_folder_path}/Datasets/\"\n",
        "\n",
        "BATCH_SIZE = 32 #@param {type: \"integer\"}                       # specifichiamo la grandezza dei batch\n",
        "IMAGE_WIDTH = 256 #@param {type: \"integer\"}\n",
        "IMAGE_HEIGHT = 256 #@param {type: \"integer\"}\n",
        "\n",
        "IMAGE_SHAPE = (IMAGE_WIDTH, IMAGE_HEIGHT, 1)                    # c'è solamente un canale perché importiamo in scala di grigi\n",
        "\n",
        "SEED = 2680 #@param {type: \"integer\"}                           # seme per poter replicare le stesse condizioni del dataset"
      ],
      "metadata": {
        "id": "Xa9Wu8OTkI6L"
      },
      "execution_count": null,
      "outputs": []
    },
    {
      "cell_type": "markdown",
      "source": [
        "Sceliere il tipo di dataset (train_data) che si vuole importare:"
      ],
      "metadata": {
        "id": "RmNoR6GQV3Ip"
      }
    },
    {
      "cell_type": "code",
      "source": [
        "dataset_directory = 'under+aug'                                 # dataset con undersampling e data augmentation"
      ],
      "metadata": {
        "id": "7tz8Z7CVUHa5"
      },
      "execution_count": null,
      "outputs": []
    },
    {
      "cell_type": "code",
      "source": [
        "dataset_directory = 'only_under'                                # dataset con SOLO undersampling"
      ],
      "metadata": {
        "id": "sItt93jMUHTx"
      },
      "execution_count": null,
      "outputs": []
    },
    {
      "cell_type": "code",
      "source": [
        "dataset_directory = 'only_aug'                                  # dataset con solo data augmentation"
      ],
      "metadata": {
        "id": "2KMRhjrZUHFC"
      },
      "execution_count": null,
      "outputs": []
    },
    {
      "cell_type": "code",
      "source": [
        "dataset_directory = 'base'                                      # dataset base (non pre-processato)"
      ],
      "metadata": {
        "id": "KCYbpUL9UOJx"
      },
      "execution_count": null,
      "outputs": []
    },
    {
      "cell_type": "markdown",
      "source": [
        "Istruzioni per importare il dataset. Sono richiesti fino a 2-3 minuti a seconda del dataset."
      ],
      "metadata": {
        "id": "o15rMj1yW4dx"
      }
    },
    {
      "cell_type": "code",
      "source": [
        "destinazione = f\"/content/dataset/{dataset_directory}\"\n",
        "\n",
        "if dataset_directory != 'base':\n",
        "  shutil.copytree(f'{base_datasets_path}{dataset_directory}', f'{destinazione}/Training', dirs_exist_ok=True)     # train_data pre-processato\n",
        "else:\n",
        "  shutil.copytree(f'{base_datasets_path}DATASET_BASE/Training', f'{destinazione}/Training', dirs_exist_ok=True)   # train_data base\n",
        "print(f\"Ho importato il training set \\'{dataset_directory}\\' nella cartella {destinazione}/Training\")\n",
        "\n",
        "shutil.copytree(f'{base_datasets_path}DATASET_BASE/Testing', f'{destinazione}/Testing', dirs_exist_ok=True)       # importa il test_data\n",
        "print(f\"Ho importato il test set nella cartella {destinazione}/Testing\")"
      ],
      "metadata": {
        "colab": {
          "base_uri": "https://localhost:8080/"
        },
        "id": "OxiN7dfF1ppu",
        "outputId": "00c380b9-8459-487e-cbdb-a129edf1851e"
      },
      "execution_count": null,
      "outputs": [
        {
          "output_type": "stream",
          "name": "stdout",
          "text": [
            "Ho importato il training set 'only_aug' nella cartella /content/dataset/only_aug/Training\n",
            "Ho importato il test set nella cartella /content/dataset/only_aug/Testing\n"
          ]
        }
      ]
    },
    {
      "cell_type": "code",
      "source": [
        "train_data = tf.keras.utils.image_dataset_from_directory(\n",
        "    directory = f'{destinazione}/Training',\n",
        "    labels='inferred',\n",
        "    label_mode='categorical',\n",
        "    color_mode='grayscale',\n",
        "    image_size=(IMAGE_WIDTH, IMAGE_HEIGHT),\n",
        "    batch_size = BATCH_SIZE,\n",
        "    shuffle=True,\n",
        "    seed=SEED,\n",
        "    crop_to_aspect_ratio=True,\n",
        ")\n",
        "\n",
        "test_data = tf.keras.utils.image_dataset_from_directory(\n",
        "    directory = f'{destinazione}/Testing',\n",
        "    labels='inferred',\n",
        "    label_mode='categorical',\n",
        "    color_mode='grayscale',\n",
        "    image_size=(IMAGE_WIDTH, IMAGE_HEIGHT),\n",
        "    batch_size = BATCH_SIZE,\n",
        "    shuffle=True,\n",
        "    seed=SEED,\n",
        "    crop_to_aspect_ratio=True,\n",
        ")\n",
        "\n",
        "class_names = test_data.class_names\n",
        "print(\"\\nHo caricato train_data e test_data dalla cartella %s\" % destinazione)"
      ],
      "metadata": {
        "colab": {
          "base_uri": "https://localhost:8080/"
        },
        "id": "AuOXlzlTUgRZ",
        "outputId": "3af26169-4558-44af-ce7b-8b932a7727d9"
      },
      "execution_count": null,
      "outputs": [
        {
          "output_type": "stream",
          "name": "stdout",
          "text": [
            "Found 6380 files belonging to 4 classes.\n",
            "Found 1311 files belonging to 4 classes.\n",
            "\n",
            "Ho caricato train_data e test_data dalla cartella /content/dataset/only_aug\n"
          ]
        }
      ]
    },
    {
      "cell_type": "markdown",
      "source": [
        "Stampando la shape di un batch di immagini possiamo notare che corrisponderà a:\n",
        "\n",
        "(**BATCH_SIZE**, **IMAGE_WIDTH**, **IMAGE_HEIGHT**, **1**)"
      ],
      "metadata": {
        "id": "43vS2nFkl2EK"
      }
    },
    {
      "cell_type": "code",
      "execution_count": null,
      "metadata": {
        "id": "bKzBxP6sPW_5",
        "colab": {
          "base_uri": "https://localhost:8080/"
        },
        "outputId": "7a4d1c61-45f4-4da3-9e23-51dea1c5d09d"
      },
      "outputs": [
        {
          "output_type": "stream",
          "name": "stdout",
          "text": [
            "(32, 256, 256, 1)\n"
          ]
        }
      ],
      "source": [
        "for img, lbl in train_data.take(1):\n",
        "  print(img.shape)"
      ]
    },
    {
      "cell_type": "markdown",
      "source": [
        "<a name=\"3\"></a>\n",
        "# Modello Dense"
      ],
      "metadata": {
        "id": "yscm2LUE_FIY"
      }
    },
    {
      "cell_type": "code",
      "source": [
        "model = tf.keras.models.Sequential([\n",
        "    tf.keras.layers.Rescaling(1./255),\n",
        "    tf.keras.layers.Flatten(input_shape=(IMAGE_WIDTH, IMAGE_HEIGHT, 1)),\n",
        "    tf.keras.layers.Dense(64, activation='relu',\n",
        "      kernel_initializer=tf.keras.initializers.RandomUniform(minval=0.0, maxval=0.1)),   #inizializziamo i pesi in un range scelto\n",
        "    tf.keras.layers.Dense(16, activation='relu'),\n",
        "    tf.keras.layers.Dense(4, activation='softmax')                                        # '4' corrisponde al numero delle classi\n",
        "])"
      ],
      "metadata": {
        "id": "Eoq65pDQ_LHu"
      },
      "execution_count": null,
      "outputs": []
    },
    {
      "cell_type": "code",
      "source": [
        "model.summary()"
      ],
      "metadata": {
        "id": "6qItqXVPaFtE"
      },
      "execution_count": null,
      "outputs": []
    },
    {
      "cell_type": "code",
      "source": [
        "callbacks = [\n",
        "    tf.keras.callbacks.ModelCheckpoint(filepath=\"Dense.keras\", save_best_only=True, monitor=\"val_loss\")  # salviamo i pesi dell'epoca con la val_loss minore\n",
        "]"
      ],
      "metadata": {
        "id": "6fpaOJoz_OkH"
      },
      "execution_count": null,
      "outputs": []
    },
    {
      "cell_type": "code",
      "source": [
        "lr_schedule = tf.keras.optimizers.schedules.ExponentialDecay(\n",
        "    0.002,\n",
        "    decay_steps=len(train_data)*13,\n",
        "    decay_rate=0.66,\n",
        "    staircase=True)"
      ],
      "metadata": {
        "id": "9M8r4chuSndu"
      },
      "execution_count": null,
      "outputs": []
    },
    {
      "cell_type": "code",
      "source": [
        "model.compile(loss='categorical_crossentropy', optimizer=tf.keras.optimizers.Adamax(learning_rate=lr_schedule), metrics=['accuracy', tf.keras.metrics.Precision(), tf.keras.metrics.Recall(), tf.keras.metrics.F1Score()])"
      ],
      "metadata": {
        "id": "Zfh6oQwh_PUu"
      },
      "execution_count": null,
      "outputs": []
    },
    {
      "cell_type": "code",
      "source": [
        "total_batches = tf.data.experimental.cardinality(train_data).numpy()              # calcola il numero totale di batch nel dataset\n",
        "\n",
        "validation_size = int(0.2 * total_batches)                                        # imposta una percentuale per il validation set (20%)\n",
        "\n",
        "# separa i dataset di training e validation\n",
        "validation_data = train_data.take(validation_size)\n",
        "train_data = train_data.skip(validation_size)"
      ],
      "metadata": {
        "id": "uBxgSmB1zntW"
      },
      "execution_count": null,
      "outputs": []
    },
    {
      "cell_type": "code",
      "source": [
        "epochs = 40\n",
        "history = model.fit(train_data, epochs=epochs, validation_data=validation_data, callbacks=callbacks)"
      ],
      "metadata": {
        "id": "Q_n396sR_QSu"
      },
      "execution_count": null,
      "outputs": []
    },
    {
      "cell_type": "markdown",
      "source": [
        "Per ricaricare i pesi che hanno performato meglio durante l'addestramento:"
      ],
      "metadata": {
        "id": "eNGdbzZ6dpvH"
      }
    },
    {
      "cell_type": "code",
      "source": [
        "model = tf.keras.models.load_model(\"Dense.keras\")"
      ],
      "metadata": {
        "id": "blvDMilYB8I2"
      },
      "execution_count": null,
      "outputs": []
    },
    {
      "cell_type": "markdown",
      "source": [
        "Se invece si volessero caricare dei pesi da Google Drive:"
      ],
      "metadata": {
        "id": "iNxyAAbDduAO"
      }
    },
    {
      "cell_type": "code",
      "source": [
        "print(\"Inserire il nome del file di salvataggio:\")\n",
        "name = input()\n",
        "loadWeights(name)\n",
        "model.load_weights(name)"
      ],
      "metadata": {
        "id": "ncC_Z7XnON5D"
      },
      "execution_count": null,
      "outputs": []
    },
    {
      "cell_type": "markdown",
      "source": [
        "Per valutare le performance del modello:"
      ],
      "metadata": {
        "id": "s9UWv3DmfE2x"
      }
    },
    {
      "cell_type": "code",
      "source": [
        "test_loss, test_accuracy, test_precision, test_recall, test_f1 = model.evaluate(test_data)\n",
        "print(f\"Loss: {test_loss}\")\n",
        "print(f\"Accuracy: {test_accuracy}\")\n",
        "print(f\"Precision: {test_precision}\")\n",
        "print(f\"Recall: {test_recall}\")\n",
        "print(f\"F1-score: {np.mean(test_f1)}\")"
      ],
      "metadata": {
        "colab": {
          "base_uri": "https://localhost:8080/"
        },
        "id": "S9a-_r65UwYu",
        "outputId": "de9b874e-9844-49ef-9125-55a0ff5232fc"
      },
      "execution_count": null,
      "outputs": [
        {
          "output_type": "stream",
          "name": "stdout",
          "text": [
            "41/41 [==============================] - 3s 65ms/step - loss: 0.4545 - accuracy: 0.8909 - precision_4: 0.8949 - recall_3: 0.8894 - f1_score: 0.8833\n",
            "Loss: 0.4545479416847229\n",
            "Accuracy: 0.8909229636192322\n",
            "Precision: 0.8948580026626587\n",
            "Recall: 0.889397382736206\n",
            "F1-score: 0.8832931518554688\n"
          ]
        }
      ]
    },
    {
      "cell_type": "markdown",
      "source": [
        "## Salvataggio dei dati"
      ],
      "metadata": {
        "id": "iXsgwW-5HDtf"
      }
    },
    {
      "cell_type": "markdown",
      "source": [
        "Per salvare i pesi del modello attuale su Google Drive:"
      ],
      "metadata": {
        "id": "eCNtEmUcea8F"
      }
    },
    {
      "cell_type": "code",
      "source": [
        "print(\"Inserire il nome del file di salvataggio:\")\n",
        "name = input()\n",
        "model.save_weights(name)\n",
        "saveWeights(name)"
      ],
      "metadata": {
        "id": "7m29kh_VeiMt"
      },
      "execution_count": null,
      "outputs": []
    },
    {
      "cell_type": "markdown",
      "source": [
        "Qualora si voglia salvare la history in un file .csv:"
      ],
      "metadata": {
        "id": "LvSFbBURG6Fg"
      }
    },
    {
      "cell_type": "code",
      "source": [
        "nome = input()\n",
        "saveHistory(history, nome)"
      ],
      "metadata": {
        "id": "3ee7jdjb3-cj"
      },
      "execution_count": null,
      "outputs": []
    },
    {
      "cell_type": "markdown",
      "source": [
        "Qualora si voglia salvare l'evaluation in un file .csv:"
      ],
      "metadata": {
        "id": "ITA7ao01G88X"
      }
    },
    {
      "cell_type": "code",
      "source": [
        "nome = input()\n",
        "saveEvaluation(test_loss, test_accuracy, test_f1, nome)"
      ],
      "metadata": {
        "id": "HCoGk5hl5Ac0"
      },
      "execution_count": null,
      "outputs": []
    },
    {
      "cell_type": "markdown",
      "source": [
        "<a name=\"4\"></a>\n",
        "# Risultati"
      ],
      "metadata": {
        "id": "DruPGdce0mBH"
      }
    },
    {
      "cell_type": "markdown",
      "source": [
        "## History dell'addestramento appena concluso"
      ],
      "metadata": {
        "id": "Fhr0sng6mLjq"
      }
    },
    {
      "cell_type": "code",
      "source": [
        "acc = history.history['accuracy']\n",
        "val_acc = history.history['val_accuracy']\n",
        "loss = history.history['loss']\n",
        "val_loss = history.history['val_loss']\n",
        "f1_score = []\n",
        "val_f1_score = []\n",
        "\n",
        "epochs = range(1, len(acc) + 1)\n",
        "\n",
        "for i in range(len(acc)):\n",
        "  f1_score.append(np.mean(history.history['f1_score'][i]))\n",
        "  val_f1_score.append(np.mean(history.history['val_f1_score'][i]))"
      ],
      "metadata": {
        "id": "L21tXdY5mPUU"
      },
      "execution_count": null,
      "outputs": []
    },
    {
      "cell_type": "markdown",
      "source": [
        "## History di un addestramento passato (da caricare)"
      ],
      "metadata": {
        "id": "dNxf6FuBmPhk"
      }
    },
    {
      "cell_type": "markdown",
      "source": [
        "Per ricaricare una history precedente:"
      ],
      "metadata": {
        "id": "WDsXnHaXfo73"
      }
    },
    {
      "cell_type": "code",
      "source": [
        "print(\"Inserire il nome del file history da caricare:\")\n",
        "nomeFile = input()\n",
        "history = loadHistory(nomeFile)"
      ],
      "metadata": {
        "id": "YLBGeqpnfrfN"
      },
      "execution_count": null,
      "outputs": []
    },
    {
      "cell_type": "code",
      "source": [
        "acc, val_acc, loss, val_loss = [], [], [], []\n",
        "for i in range(0, len(history['accuracy'])):\n",
        "  acc.append(history['accuracy'][i])\n",
        "  val_acc.append(history['val_accuracy'][i])\n",
        "  loss.append(history['loss'][i])\n",
        "  val_loss.append(history['val_loss'][i])\n",
        "\n",
        "epochs = range(1, len(acc)+1)\n",
        "\n",
        "f1_score, val_f1_score = [], []\n",
        "\n",
        "for i in range(len(acc)):\n",
        "  f1_score.append(np.mean([float(x) for x in history['f1_score'][i].replace('[', '').replace(']', '').split()]))\n",
        "  val_f1_score.append(np.mean([float(x) for x in history['val_f1_score'][i].replace('[', '').replace(']', '').split()]))"
      ],
      "metadata": {
        "id": "1jqWOtbXkgOL"
      },
      "execution_count": null,
      "outputs": []
    },
    {
      "cell_type": "markdown",
      "source": [
        "## Plot dei risultati"
      ],
      "metadata": {
        "id": "iqqFqvLwmTRb"
      }
    },
    {
      "cell_type": "code",
      "source": [
        "# Creazione del grafico per l'accuracy\n",
        "plt.figure(figsize=(21, 6))\n",
        "plt.subplot(1, 3, 1)\n",
        "plt.plot(epochs, acc, 'r', label='Training accuracy')\n",
        "plt.plot(epochs, val_acc, 'b', label='Validation accuracy')\n",
        "plt.title('Accuracy')\n",
        "plt.legend()\n",
        "plt.grid()\n",
        "\n",
        "# Creazione del grafico per il loss\n",
        "plt.subplot(1, 3, 2)\n",
        "plt.plot(epochs, loss, 'r', label='Training loss')\n",
        "plt.plot(epochs, val_loss, 'b', label='Validation loss')\n",
        "plt.title('Loss')\n",
        "plt.legend()\n",
        "plt.grid()\n",
        "\n",
        "# Creazione del grafico per il loss\n",
        "plt.subplot(1, 3, 3)\n",
        "plt.plot(epochs, f1_score, 'r', label='Training F1 score')\n",
        "plt.plot(epochs, val_f1_score, 'b', label='Validation F1 score')\n",
        "plt.title('F1 score')\n",
        "plt.legend()\n",
        "plt.grid()\n",
        "\n",
        "plt.show()"
      ],
      "metadata": {
        "id": "mRSWHzz9iANi",
        "colab": {
          "base_uri": "https://localhost:8080/",
          "height": 545
        },
        "outputId": "0ea4635b-3c7b-4f59-a0be-67d70b58af45"
      },
      "execution_count": null,
      "outputs": [
        {
          "output_type": "display_data",
          "data": {
            "text/plain": [
              "<Figure size 2100x600 with 3 Axes>"
            ],
            "image/png": "[encoded data removed]"
          },
          "metadata": {}
        }
      ]
    },
    {
      "cell_type": "markdown",
      "source": [
        "<a name=\"5\"></a>\n",
        "#Modello finale"
      ],
      "metadata": {
        "id": "jVl53YKsu_XL"
      }
    },
    {
      "cell_type": "markdown",
      "source": [
        "Una volta valutate i migliori iperparametri per il nostro modello, lo riaddestriamo interamente sul training set senza nessun validation.\n",
        "<font color='#c00000'>**ATTENZIONE**:</font> Ricaricaricare il test data se è stato splittato precedentemente per il validation!"
      ],
      "metadata": {
        "id": "XUnAfWXHvF2w"
      }
    },
    {
      "cell_type": "code",
      "source": [
        "model = tf.keras.models.Sequential([\n",
        "    tf.keras.layers.Rescaling(1./255),\n",
        "    tf.keras.layers.Flatten(input_shape=(IMAGE_WIDTH, IMAGE_HEIGHT, 1)),\n",
        "    tf.keras.layers.Dense(64, activation='relu',\n",
        "      kernel_initializer=tf.keras.initializers.RandomUniform(minval=0.0, maxval=0.1)),   #inizializziamo i pesi in un range scelto\n",
        "    tf.keras.layers.Dense(16, activation='relu'),\n",
        "    tf.keras.layers.Dense(4, activation='softmax')                                        # '4' corrisponde al numero delle classi\n",
        "])"
      ],
      "metadata": {
        "id": "o6TOwjwLvrzA"
      },
      "execution_count": null,
      "outputs": []
    },
    {
      "cell_type": "code",
      "source": [
        "model.summary()"
      ],
      "metadata": {
        "id": "2MDmrU4OvrzA"
      },
      "execution_count": null,
      "outputs": []
    },
    {
      "cell_type": "code",
      "source": [
        "callbacks = [\n",
        "    tf.keras.callbacks.ModelCheckpoint(filepath=\"Dense_Finale.keras\", save_best_only=True, monitor=\"loss\")  # salviamo i pesi dell'epoca con la val_loss minore\n",
        "]"
      ],
      "metadata": {
        "id": "Ypv90C0mvrzA"
      },
      "execution_count": null,
      "outputs": []
    },
    {
      "cell_type": "code",
      "source": [
        "lr_schedule = tf.keras.optimizers.schedules.ExponentialDecay(\n",
        "    0.002,\n",
        "    decay_steps=len(train_data)*13,\n",
        "    decay_rate=0.66,\n",
        "    staircase=True)"
      ],
      "metadata": {
        "id": "zb7kLpMGvrzA"
      },
      "execution_count": null,
      "outputs": []
    },
    {
      "cell_type": "code",
      "source": [
        "model.compile(loss='categorical_crossentropy', optimizer=tf.keras.optimizers.Adamax(learning_rate=lr_schedule), metrics=['accuracy', tf.keras.metrics.Precision(), tf.keras.metrics.Recall(), tf.keras.metrics.F1Score()]) # Compila il modello"
      ],
      "metadata": {
        "id": "fvt4CvK-vrzB"
      },
      "execution_count": null,
      "outputs": []
    },
    {
      "cell_type": "code",
      "source": [
        "epochs = 40\n",
        "history = model.fit(train_data, epochs=epochs, callbacks=callbacks)"
      ],
      "metadata": {
        "colab": {
          "base_uri": "https://localhost:8080/"
        },
        "outputId": "c7e3e61b-4f85-43ee-de75-96f3a809fa97",
        "id": "sOdKP0gFvrzB"
      },
      "execution_count": null,
      "outputs": [
        {
          "output_type": "stream",
          "name": "stdout",
          "text": [
            "Epoch 1/40\n",
            "200/200 [==============================] - 7s 27ms/step - loss: 10.5913 - accuracy: 0.5414 - precision_1: 0.5433 - recall_1: 0.5400 - f1_score: 0.5394\n",
            "Epoch 2/40\n",
            "200/200 [==============================] - 7s 35ms/step - loss: 4.5399 - accuracy: 0.6313 - precision_1: 0.6328 - recall_1: 0.6293 - f1_score: 0.6296\n",
            "Epoch 3/40\n",
            "200/200 [==============================] - 5s 26ms/step - loss: 2.7974 - accuracy: 0.7055 - precision_1: 0.7061 - recall_1: 0.7030 - f1_score: 0.7043\n",
            "Epoch 4/40\n",
            "200/200 [==============================] - 5s 25ms/step - loss: 4.4929 - accuracy: 0.6676 - precision_1: 0.6690 - recall_1: 0.6671 - f1_score: 0.6665\n",
            "Epoch 5/40\n",
            "200/200 [==============================] - 7s 31ms/step - loss: 3.4583 - accuracy: 0.7199 - precision_1: 0.7214 - recall_1: 0.7194 - f1_score: 0.7187\n",
            "Epoch 6/40\n",
            "200/200 [==============================] - 5s 26ms/step - loss: 2.6512 - accuracy: 0.7450 - precision_1: 0.7461 - recall_1: 0.7442 - f1_score: 0.7442\n",
            "Epoch 7/40\n",
            "200/200 [==============================] - 7s 33ms/step - loss: 3.0706 - accuracy: 0.7321 - precision_1: 0.7332 - recall_1: 0.7318 - f1_score: 0.7315\n",
            "Epoch 8/40\n",
            "200/200 [==============================] - 5s 25ms/step - loss: 3.5923 - accuracy: 0.7306 - precision_1: 0.7307 - recall_1: 0.7293 - f1_score: 0.7293\n",
            "Epoch 9/40\n",
            "200/200 [==============================] - 7s 34ms/step - loss: 1.8436 - accuracy: 0.7951 - precision_1: 0.7968 - recall_1: 0.7948 - f1_score: 0.7947\n",
            "Epoch 10/40\n",
            "200/200 [==============================] - 5s 25ms/step - loss: 3.6964 - accuracy: 0.7320 - precision_1: 0.7324 - recall_1: 0.7309 - f1_score: 0.7313\n",
            "Epoch 11/40\n",
            "200/200 [==============================] - 7s 33ms/step - loss: 1.9055 - accuracy: 0.7989 - precision_1: 0.7995 - recall_1: 0.7983 - f1_score: 0.7983\n",
            "Epoch 12/40\n",
            "200/200 [==============================] - 7s 33ms/step - loss: 1.3584 - accuracy: 0.8285 - precision_1: 0.8294 - recall_1: 0.8277 - f1_score: 0.8282\n",
            "Epoch 13/40\n",
            "200/200 [==============================] - 5s 25ms/step - loss: 1.8424 - accuracy: 0.8085 - precision_1: 0.8090 - recall_1: 0.8080 - f1_score: 0.8082\n",
            "Epoch 14/40\n",
            "200/200 [==============================] - 7s 34ms/step - loss: 1.2189 - accuracy: 0.8467 - precision_1: 0.8473 - recall_1: 0.8461 - f1_score: 0.8467\n",
            "Epoch 15/40\n",
            "200/200 [==============================] - 5s 26ms/step - loss: 1.0874 - accuracy: 0.8541 - precision_1: 0.8548 - recall_1: 0.8536 - f1_score: 0.8539\n",
            "Epoch 16/40\n",
            "200/200 [==============================] - 5s 26ms/step - loss: 0.8453 - accuracy: 0.8671 - precision_1: 0.8682 - recall_1: 0.8663 - f1_score: 0.8670\n",
            "Epoch 17/40\n",
            "200/200 [==============================] - 6s 30ms/step - loss: 1.2936 - accuracy: 0.8290 - precision_1: 0.8303 - recall_1: 0.8281 - f1_score: 0.8284\n",
            "Epoch 18/40\n",
            "200/200 [==============================] - 6s 27ms/step - loss: 0.9880 - accuracy: 0.8735 - precision_1: 0.8748 - recall_1: 0.8729 - f1_score: 0.8735\n",
            "Epoch 19/40\n",
            "200/200 [==============================] - 7s 34ms/step - loss: 0.8223 - accuracy: 0.8603 - precision_1: 0.8614 - recall_1: 0.8603 - f1_score: 0.8600\n",
            "Epoch 20/40\n",
            "200/200 [==============================] - 6s 26ms/step - loss: 0.5399 - accuracy: 0.8964 - precision_1: 0.8977 - recall_1: 0.8956 - f1_score: 0.8964\n",
            "Epoch 21/40\n",
            "200/200 [==============================] - 7s 34ms/step - loss: 0.9332 - accuracy: 0.8586 - precision_1: 0.8592 - recall_1: 0.8580 - f1_score: 0.8585\n",
            "Epoch 22/40\n",
            "200/200 [==============================] - 5s 25ms/step - loss: 0.6563 - accuracy: 0.8876 - precision_1: 0.8881 - recall_1: 0.8867 - f1_score: 0.8875\n",
            "Epoch 23/40\n",
            "200/200 [==============================] - 5s 25ms/step - loss: 0.9674 - accuracy: 0.8589 - precision_1: 0.8604 - recall_1: 0.8578 - f1_score: 0.8588\n",
            "Epoch 24/40\n",
            "200/200 [==============================] - 6s 27ms/step - loss: 0.8131 - accuracy: 0.8755 - precision_1: 0.8759 - recall_1: 0.8754 - f1_score: 0.8754\n",
            "Epoch 25/40\n",
            "200/200 [==============================] - 5s 25ms/step - loss: 0.7408 - accuracy: 0.8743 - precision_1: 0.8748 - recall_1: 0.8740 - f1_score: 0.8741\n",
            "Epoch 26/40\n",
            "200/200 [==============================] - 7s 33ms/step - loss: 0.5564 - accuracy: 0.8920 - precision_1: 0.8934 - recall_1: 0.8915 - f1_score: 0.8920\n",
            "Epoch 27/40\n",
            "200/200 [==============================] - 6s 29ms/step - loss: 0.3669 - accuracy: 0.9174 - precision_1: 0.9181 - recall_1: 0.9171 - f1_score: 0.9173\n",
            "Epoch 28/40\n",
            "200/200 [==============================] - 6s 30ms/step - loss: 0.3093 - accuracy: 0.9273 - precision_1: 0.9278 - recall_1: 0.9265 - f1_score: 0.9272\n",
            "Epoch 29/40\n",
            "200/200 [==============================] - 7s 33ms/step - loss: 0.3978 - accuracy: 0.9130 - precision_1: 0.9133 - recall_1: 0.9129 - f1_score: 0.9130\n",
            "Epoch 30/40\n",
            "200/200 [==============================] - 5s 25ms/step - loss: 0.5070 - accuracy: 0.9031 - precision_1: 0.9040 - recall_1: 0.9028 - f1_score: 0.9031\n",
            "Epoch 31/40\n",
            "200/200 [==============================] - 5s 25ms/step - loss: 0.3995 - accuracy: 0.9165 - precision_1: 0.9172 - recall_1: 0.9163 - f1_score: 0.9164\n",
            "Epoch 32/40\n",
            "200/200 [==============================] - 5s 26ms/step - loss: 0.3115 - accuracy: 0.9246 - precision_1: 0.9250 - recall_1: 0.9241 - f1_score: 0.9246\n",
            "Epoch 33/40\n",
            "200/200 [==============================] - 7s 31ms/step - loss: 0.3463 - accuracy: 0.9190 - precision_1: 0.9195 - recall_1: 0.9187 - f1_score: 0.9189\n",
            "Epoch 34/40\n",
            "200/200 [==============================] - 6s 27ms/step - loss: 0.3025 - accuracy: 0.9251 - precision_1: 0.9255 - recall_1: 0.9243 - f1_score: 0.9251\n",
            "Epoch 35/40\n",
            "200/200 [==============================] - 5s 26ms/step - loss: 0.2585 - accuracy: 0.9378 - precision_1: 0.9384 - recall_1: 0.9376 - f1_score: 0.9377\n",
            "Epoch 36/40\n",
            "200/200 [==============================] - 5s 25ms/step - loss: 0.2691 - accuracy: 0.9329 - precision_1: 0.9333 - recall_1: 0.9328 - f1_score: 0.9329\n",
            "Epoch 37/40\n",
            "200/200 [==============================] - 6s 28ms/step - loss: 0.3024 - accuracy: 0.9288 - precision_1: 0.9291 - recall_1: 0.9285 - f1_score: 0.9288\n",
            "Epoch 38/40\n",
            "200/200 [==============================] - 5s 26ms/step - loss: 0.2871 - accuracy: 0.9331 - precision_1: 0.9333 - recall_1: 0.9328 - f1_score: 0.9330\n",
            "Epoch 39/40\n",
            "200/200 [==============================] - 7s 34ms/step - loss: 0.2120 - accuracy: 0.9458 - precision_1: 0.9464 - recall_1: 0.9456 - f1_score: 0.9458\n",
            "Epoch 40/40\n",
            "200/200 [==============================] - 7s 34ms/step - loss: 0.0823 - accuracy: 0.9715 - precision_1: 0.9719 - recall_1: 0.9710 - f1_score: 0.9715\n"
          ]
        }
      ]
    },
    {
      "cell_type": "markdown",
      "source": [
        "Per ricaricare i pesi che hanno performato meglio durante l'addestramento:"
      ],
      "metadata": {
        "id": "ag-uJclJvrzC"
      }
    },
    {
      "cell_type": "code",
      "source": [
        "model = tf.keras.models.load_model(\"Dense_Finale.keras\")"
      ],
      "metadata": {
        "id": "WwUBbyzEvrzC"
      },
      "execution_count": null,
      "outputs": []
    },
    {
      "cell_type": "markdown",
      "source": [
        "Se invece si volessero caricare dei pesi da Google Drive:"
      ],
      "metadata": {
        "id": "ExRX5_yYvrzD"
      }
    },
    {
      "cell_type": "code",
      "source": [
        "print(\"Inserire il nome del file di salvataggio:\")\n",
        "name = input()\n",
        "loadWeights(name)\n",
        "model.load_weights(name)"
      ],
      "metadata": {
        "id": "muS-40RivrzD"
      },
      "execution_count": null,
      "outputs": []
    },
    {
      "cell_type": "markdown",
      "source": [
        "Per valutare le performance del modello:"
      ],
      "metadata": {
        "id": "G4dJrL8NvrzD"
      }
    },
    {
      "cell_type": "code",
      "source": [
        "test_loss, test_accuracy, test_precision, test_recall, test_f1 = model.evaluate(test_data)\n",
        "print(f\"Loss: {test_loss}\")\n",
        "print(f\"Accuracy: {test_accuracy}\")\n",
        "print(f\"Precision: {test_precision}\")\n",
        "print(f\"Recall: {test_recall}\")\n",
        "print(f\"F1-score: {np.mean(test_f1)}\")"
      ],
      "metadata": {
        "colab": {
          "base_uri": "https://localhost:8080/"
        },
        "outputId": "1ae0a182-1059-4d54-bd41-a16b7a907abc",
        "id": "MAplf1JrvrzE"
      },
      "execution_count": null,
      "outputs": [
        {
          "output_type": "stream",
          "name": "stdout",
          "text": [
            "41/41 [==============================] - 2s 27ms/step - loss: 1.1757 - accuracy: 0.8688 - precision_1: 0.8692 - recall_1: 0.8665 - f1_score: 0.8573\n",
            "Loss: 1.1757110357284546\n",
            "Accuracy: 0.8688024282455444\n",
            "Precision: 0.8691660165786743\n",
            "Recall: 0.8665140867233276\n",
            "F1-score: 0.8573388457298279\n"
          ]
        }
      ]
    },
    {
      "cell_type": "markdown",
      "source": [
        "##Matrice di confusione"
      ],
      "metadata": {
        "id": "xeqNGnDJBDme"
      }
    },
    {
      "cell_type": "markdown",
      "source": [
        "creazione della matrice di confusione"
      ],
      "metadata": {
        "id": "nQlquJARBXrH"
      }
    },
    {
      "cell_type": "code",
      "source": [
        "previsioni_classe = []\n",
        "verita_terreno = []\n",
        "\n",
        "# Effettuare le previsioni su ogni batch\n",
        "for immagini, etichette in test_data:\n",
        "    preds = model.predict(immagini, verbose=0)\n",
        "    previsioni_classe.extend(np.argmax(preds, axis=1))\n",
        "    verita_terreno.extend(np.argmax(etichette.numpy(), axis=1))\n",
        "\n",
        "# Calcolare la matrice di confusione\n",
        "matrice_confusione = confusion_matrix(verita_terreno, previsioni_classe)"
      ],
      "metadata": {
        "id": "OBrqV9rRA-j2"
      },
      "execution_count": null,
      "outputs": []
    },
    {
      "cell_type": "markdown",
      "source": [
        "creazione del plot della matrice di confusione"
      ],
      "metadata": {
        "id": "7WS7WkghBOHJ"
      }
    },
    {
      "cell_type": "code",
      "source": [
        "plt.figure(figsize=(10, 8))\n",
        "plt.imshow(matrice_confusione, interpolation='nearest', cmap=plt.cm.Blues)\n",
        "plt.title('Matrice di Confusione')\n",
        "plt.colorbar()\n",
        "\n",
        "# Aggiungere le etichette agli assi\n",
        "plt.xticks(np.arange(len(class_names)), class_names, rotation=45)\n",
        "plt.yticks(np.arange(len(class_names)), class_names)\n",
        "\n",
        "# Etichettare gli assi\n",
        "plt.xlabel('Previsioni')\n",
        "plt.ylabel('Verità Terreno')\n",
        "\n",
        "# Mostrare i numeri all'interno delle celle\n",
        "thresh = matrice_confusione.max() / 2.\n",
        "for i in range(matrice_confusione.shape[0]):\n",
        "    for j in range(matrice_confusione.shape[1]):\n",
        "        plt.text(j, i, format(matrice_confusione[i, j], 'd'),\n",
        "             horizontalalignment=\"center\",\n",
        "             color=\"white\" if matrice_confusione[i, j] > thresh else \"black\")\n",
        "\n",
        "plt.tight_layout()\n",
        "plt.show()"
      ],
      "metadata": {
        "colab": {
          "base_uri": "https://localhost:8080/",
          "height": 807
        },
        "id": "A5kOBgZ8BMhx",
        "outputId": "43725647-6ffc-45ee-9e8d-bb03de917cfa"
      },
      "execution_count": null,
      "outputs": [
        {
          "output_type": "display_data",
          "data": {
            "text/plain": [
              "<Figure size 1000x800 with 2 Axes>"
            ],
            "image/png": "[encoded data removed]"
          },
          "metadata": {}
        }
      ]
    },
    {
      "cell_type": "markdown",
      "source": [
        "## Salvataggio dei dati"
      ],
      "metadata": {
        "id": "xaSF2cIOvrzE"
      }
    },
    {
      "cell_type": "markdown",
      "source": [
        "Per salvare i pesi del modello attuale su Google Drive:"
      ],
      "metadata": {
        "id": "JZC1SV8vvrzE"
      }
    },
    {
      "cell_type": "code",
      "source": [
        "print(\"Inserire il nome del file di salvataggio:\")\n",
        "name = input()\n",
        "model.save_weights(name)\n",
        "saveWeights(name)"
      ],
      "metadata": {
        "id": "Gf23ttDCvrzF"
      },
      "execution_count": null,
      "outputs": []
    },
    {
      "cell_type": "markdown",
      "source": [
        "Qualora si voglia salvare la history in un file .csv:"
      ],
      "metadata": {
        "id": "yECF2VuUvrzF"
      }
    },
    {
      "cell_type": "code",
      "source": [
        "nome = input()\n",
        "saveHistory(history, nome)"
      ],
      "metadata": {
        "id": "XhzoDLAYvrzF"
      },
      "execution_count": null,
      "outputs": []
    },
    {
      "cell_type": "markdown",
      "source": [
        "Qualora si voglia salvare l'evaluation in un file .csv:"
      ],
      "metadata": {
        "id": "ciNyOX0YvrzF"
      }
    },
    {
      "cell_type": "code",
      "source": [
        "nome = input()\n",
        "saveEvaluation(test_loss, test_accuracy, test_f1, nome)"
      ],
      "metadata": {
        "id": "zKfRse4evrzF"
      },
      "execution_count": null,
      "outputs": []
    }
  ],
  "metadata": {
    "colab": {
      "provenance": [],
      "gpuType": "T4",
      "collapsed_sections": [
        "RbFNuOqQumCH",
        "CoAIb0btOJ3v",
        "yscm2LUE_FIY",
        "iXsgwW-5HDtf",
        "DruPGdce0mBH",
        "jVl53YKsu_XL",
        "xaSF2cIOvrzE"
      ],
      "include_colab_link": true
    },
    "kernelspec": {
      "display_name": "Python 3",
      "name": "python3"
    },
    "language_info": {
      "name": "python"
    },
    "accelerator": "GPU"
  },
  "nbformat": 4,
  "nbformat_minor": 0
}