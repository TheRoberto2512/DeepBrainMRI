{
  "cells": [
    {
      "cell_type": "markdown",
      "metadata": {
        "id": "view-in-github",
        "colab_type": "text"
      },
      "source": [
        "<a href=\"https://colab.research.google.com/github/TheRoberto2512/DeepBrainMRI/blob/main/Modello_Dense.ipynb\" target=\"_parent\"><img src=\"https://colab.research.google.com/assets/colab-badge.svg\" alt=\"Open In Colab\"/></a>"
      ]
    },
    {
      "cell_type": "markdown",
      "metadata": {
        "id": "B-fgOvz6tw0S"
      },
      "source": [
        "<font size=6>**SOMMARIO DEL NOTEBOOK**</font>\n",
        "\n",
        "In questo notebook andiamo a testare la massima efficacia che può ottenere un modello Dense, nonostante esso non sia adatto a questo tipo di task.\n",
        "\n",
        "\n",
        "**Indice:**\n",
        "*   [Installazioni, import librerie e funzioni utili](#1)\n",
        "*   [Caricamento del Dataset](#2)\n",
        "*   [Modello Dense](#3)\n",
        "*   [Risultati](#4)\n",
        "*   [Modello Finale](#5)\n",
        "\n"
      ]
    },
    {
      "cell_type": "markdown",
      "metadata": {
        "id": "RbFNuOqQumCH"
      },
      "source": [
        "<a name=\"1\"></a>\n",
        "# Installazioni, import librerie e funzioni utili"
      ]
    },
    {
      "cell_type": "code",
      "execution_count": null,
      "metadata": {
        "id": "g2FjUBluZ4WL"
      },
      "outputs": [],
      "source": [
        "! pip install tensorflow-gpu==2.8.3"
      ]
    },
    {
      "cell_type": "code",
      "execution_count": 1,
      "metadata": {
        "id": "vHEXJnfs4sAg"
      },
      "outputs": [],
      "source": [
        "from sklearn.metrics import confusion_matrix\n",
        "from google.colab import drive, files\n",
        "import matplotlib.pyplot as plt\n",
        "import tensorflow as tf\n",
        "import pandas as pd                                                               # per gestire la serializzazione/deserializzazione dei risultati\n",
        "import numpy as np\n",
        "import shutil                                                                     # per fare spostamenti e copie tra drive e colab\n",
        "import os                                                                         # per gestire le cartelle dei dataset"
      ]
    },
    {
      "cell_type": "code",
      "execution_count": 2,
      "metadata": {
        "id": "0gyHgKp1kXUl",
        "colab": {
          "base_uri": "https://localhost:8080/"
        },
        "outputId": "e8c7a371-7839-4585-f293-80e64b7d186b"
      },
      "outputs": [
        {
          "output_type": "stream",
          "name": "stdout",
          "text": [
            "Mounted at /content/drive\n"
          ]
        }
      ],
      "source": [
        "drive.mount(\"/content/drive\", force_remount=True)                                 # montiamo il drive per prelevare i dataset"
      ]
    },
    {
      "cell_type": "markdown",
      "metadata": {
        "id": "qPc62odhDU7W"
      },
      "source": [
        "Qualora la cartella principale del progetto non si trovi nella home di Google Drive, personalizzare la seguente stringa:"
      ]
    },
    {
      "cell_type": "code",
      "execution_count": 3,
      "metadata": {
        "id": "PkjRUX4pCuze"
      },
      "outputs": [],
      "source": [
        "main_folder_path = '/content/drive/MyDrive/DeepBrainMRI'"
      ]
    },
    {
      "cell_type": "markdown",
      "metadata": {
        "id": "R3FTjVxC2Q1e"
      },
      "source": [
        "Le seguenti funzioni servono per salvare/caricare facilmente le history, le evaluation e i pesi del modello su Google Drive."
      ]
    },
    {
      "cell_type": "code",
      "execution_count": 4,
      "metadata": {
        "id": "jMTtYWk3ofu6"
      },
      "outputs": [],
      "source": [
        "result_folder_path = f\"{main_folder_path}/Risultati vari/Dense\"\n",
        "saved_weights_path = f\"{main_folder_path}/Saved Weights/Dense\"\n",
        "dataset_directory = ''\n",
        "\n",
        "def saveHistory(history, nomeFile):                                               # funzione per salvare la history di un addestramento\n",
        "  if not os.path.exists(result_folder_path):\n",
        "     os.makedirs(result_folder_path)\n",
        "  history_df = pd.DataFrame.from_dict(history.history)\n",
        "  history_df.to_csv(result_folder_path + f\"/{dataset_directory}_{nomeFile}_history.csv\", index=False)\n",
        "\n",
        "def loadHistory(nomeFile):                                                        # funzione per caricare la history di un addestramento\n",
        "  if os.path.exists(result_folder_path):\n",
        "    return pd.read_csv(f\"{result_folder_path}/{dataset_directory}_{nomeFile}_history.csv\").to_dict()\n",
        "  else:\n",
        "    raise Exception(\"Cartella inesistente!\")\n",
        "\n",
        "def saveEvaluation(loss, acc, f1, nomeFile):                                      # funzione per salvare il risultato di un evaluation\n",
        "  if not os.path.exists(result_folder_path):\n",
        "     os.makedirs(result_folder_path)\n",
        "  evaluation = {}\n",
        "  evaluation['loss'] = loss\n",
        "  evaluation['accuracy'] = acc\n",
        "  evaluation['f1_score'] = f1\n",
        "  evaluation_df = pd.DataFrame.from_dict(evaluation)\n",
        "  evaluation_df.to_csv(result_folder_path + f\"/{dataset_directory}_{nomeFile}_evaluation.csv\", index=False)\n",
        "\n",
        "def loadEvaluation(nomeFile):                                                     # funzione per caricare il risultato di un evaluation\n",
        "  if os.path.exists(result_folder_path):\n",
        "    return pd.read_csv(f\"{result_folder_path}/{dataset_directory}_{nomeFile}_evaluation.csv\").to_dict()\n",
        "  else:\n",
        "    raise Exception(\"Cartella inesistente!\")\n",
        "\n",
        "def saveWeights(nomeFile):                                                        # funzione per salvare il file dei pesi su drive\n",
        "  if not os.path.exists(saved_weights_path):\n",
        "    os.makedirs(saved_weights_path)\n",
        "  shutil.copy(nomeFile, f\"{saved_weights_path}\")\n",
        "\n",
        "def loadWeights(nomeFile):                                                        # funzione per caricare il file dei pesi da drive\n",
        "  if os.path.exists(saved_weights_path):\n",
        "    shutil.copy(f\"{saved_weights_path}/{nomeFile}\", '/content/')\n",
        "  else:\n",
        "    raise Exception(\"Cartella inesistente!\")"
      ]
    },
    {
      "cell_type": "markdown",
      "metadata": {
        "id": "CoAIb0btOJ3v"
      },
      "source": [
        "<a name=\"2\"></a>\n",
        "# Caricamento del Dataset\n"
      ]
    },
    {
      "cell_type": "markdown",
      "metadata": {
        "id": "bV7HEE24wtaN"
      },
      "source": [
        "Impostiamo dei valori costanti per la corretta esecuzione del notebook."
      ]
    },
    {
      "cell_type": "code",
      "execution_count": 76,
      "metadata": {
        "id": "Xa9Wu8OTkI6L"
      },
      "outputs": [],
      "source": [
        "base_datasets_path = f\"{main_folder_path}/Datasets/\"\n",
        "\n",
        "BATCH_SIZE = 32 #@param {type: \"integer\"}                       # specifichiamo la grandezza dei batch\n",
        "IMAGE_WIDTH = 299 #@param {type: \"integer\"}\n",
        "IMAGE_HEIGHT = 299 #@param {type: \"integer\"}\n",
        "\n",
        "IMAGE_SHAPE = (IMAGE_WIDTH, IMAGE_HEIGHT, 1)                    # c'è solamente un canale perché importiamo in scala di grigi\n",
        "\n",
        "SEED = 2680 #@param {type: \"integer\"}                           # seme per poter replicare le stesse condizioni del dataset"
      ]
    },
    {
      "cell_type": "markdown",
      "metadata": {
        "id": "RmNoR6GQV3Ip"
      },
      "source": [
        "Sceliere il tipo di dataset (train_data) che si vuole importare:"
      ]
    },
    {
      "cell_type": "code",
      "execution_count": null,
      "metadata": {
        "id": "7tz8Z7CVUHa5"
      },
      "outputs": [],
      "source": [
        "dataset_directory = 'under+aug'                                 # dataset con undersampling e data augmentation"
      ]
    },
    {
      "cell_type": "code",
      "execution_count": null,
      "metadata": {
        "id": "sItt93jMUHTx"
      },
      "outputs": [],
      "source": [
        "dataset_directory = 'only_under'                                # dataset con SOLO undersampling"
      ]
    },
    {
      "cell_type": "code",
      "execution_count": 6,
      "metadata": {
        "id": "2KMRhjrZUHFC"
      },
      "outputs": [],
      "source": [
        "dataset_directory = 'only_aug'                                  # dataset con solo data augmentation"
      ]
    },
    {
      "cell_type": "code",
      "execution_count": null,
      "metadata": {
        "id": "KCYbpUL9UOJx"
      },
      "outputs": [],
      "source": [
        "dataset_directory = 'base'                                      # dataset base (non pre-processato)"
      ]
    },
    {
      "cell_type": "markdown",
      "metadata": {
        "id": "o15rMj1yW4dx"
      },
      "source": [
        "Istruzioni per importare il dataset. Sono richiesti fino a 2-3 minuti a seconda del dataset."
      ]
    },
    {
      "cell_type": "code",
      "execution_count": 7,
      "metadata": {
        "colab": {
          "base_uri": "https://localhost:8080/"
        },
        "id": "OxiN7dfF1ppu",
        "outputId": "0cf3ae03-9c7e-446e-93f4-0288a4e200ff"
      },
      "outputs": [
        {
          "output_type": "stream",
          "name": "stdout",
          "text": [
            "Ho importato il training set 'only_aug' nella cartella /content/dataset/only_aug/Training\n",
            "Ho importato il test set nella cartella /content/dataset/only_aug/Testing\n"
          ]
        }
      ],
      "source": [
        "destinazione = f\"/content/dataset/{dataset_directory}\"\n",
        "\n",
        "if dataset_directory != 'base':\n",
        "  shutil.copytree(f'{base_datasets_path}{dataset_directory}', f'{destinazione}/Training', dirs_exist_ok=True)     # train_data pre-processato\n",
        "else:\n",
        "  shutil.copytree(f'{base_datasets_path}DATASET_BASE/Training', f'{destinazione}/Training', dirs_exist_ok=True)   # train_data base\n",
        "print(f\"Ho importato il training set \\'{dataset_directory}\\' nella cartella {destinazione}/Training\")\n",
        "\n",
        "shutil.copytree(f'{base_datasets_path}DATASET_BASE/Testing', f'{destinazione}/Testing', dirs_exist_ok=True)       # importa il test_data\n",
        "print(f\"Ho importato il test set nella cartella {destinazione}/Testing\")"
      ]
    },
    {
      "cell_type": "code",
      "execution_count": 92,
      "metadata": {
        "colab": {
          "base_uri": "https://localhost:8080/"
        },
        "id": "AuOXlzlTUgRZ",
        "outputId": "b84f6073-5a4d-4494-f287-1ba0309a9f09"
      },
      "outputs": [
        {
          "output_type": "stream",
          "name": "stdout",
          "text": [
            "Found 6380 files belonging to 4 classes.\n",
            "Found 1311 files belonging to 4 classes.\n",
            "\n",
            "Ho caricato train_data e test_data dalla cartella /content/dataset/only_aug\n"
          ]
        }
      ],
      "source": [
        "train_data = tf.keras.utils.image_dataset_from_directory(\n",
        "    directory = f'{destinazione}/Training',\n",
        "    labels='inferred',\n",
        "    label_mode='categorical',\n",
        "    color_mode='grayscale',\n",
        "    image_size=(IMAGE_WIDTH, IMAGE_HEIGHT),\n",
        "    batch_size = BATCH_SIZE,\n",
        "    shuffle=True,\n",
        "    seed=SEED,\n",
        "    crop_to_aspect_ratio=True,\n",
        ")\n",
        "\n",
        "test_data = tf.keras.utils.image_dataset_from_directory(\n",
        "    directory = f'{destinazione}/Testing',\n",
        "    labels='inferred',\n",
        "    label_mode='categorical',\n",
        "    color_mode='grayscale',\n",
        "    image_size=(IMAGE_WIDTH, IMAGE_HEIGHT),\n",
        "    batch_size = BATCH_SIZE,\n",
        "    shuffle=True,\n",
        "    seed=SEED,\n",
        "    crop_to_aspect_ratio=True,\n",
        ")\n",
        "\n",
        "class_names = test_data.class_names\n",
        "print(\"\\nHo caricato train_data e test_data dalla cartella %s\" % destinazione)"
      ]
    },
    {
      "cell_type": "markdown",
      "metadata": {
        "id": "43vS2nFkl2EK"
      },
      "source": [
        "Stampando la shape di un batch di immagini possiamo notare che corrisponderà a:\n",
        "\n",
        "(**BATCH_SIZE**, **IMAGE_WIDTH**, **IMAGE_HEIGHT**, **1**)"
      ]
    },
    {
      "cell_type": "code",
      "execution_count": 51,
      "metadata": {
        "colab": {
          "base_uri": "https://localhost:8080/"
        },
        "id": "bKzBxP6sPW_5",
        "outputId": "07fc97bd-b7bb-4388-8bb9-a2d0821bb0f3"
      },
      "outputs": [
        {
          "output_type": "stream",
          "name": "stdout",
          "text": [
            "(32, 299, 299, 1)\n"
          ]
        }
      ],
      "source": [
        "for img, lbl in train_data.take(1):\n",
        "  print(img.shape)"
      ]
    },
    {
      "cell_type": "markdown",
      "metadata": {
        "id": "yscm2LUE_FIY"
      },
      "source": [
        "<a name=\"3\"></a>\n",
        "# Modello Dense"
      ]
    },
    {
      "cell_type": "code",
      "execution_count": 107,
      "metadata": {
        "id": "Eoq65pDQ_LHu"
      },
      "outputs": [],
      "source": [
        "model = tf.keras.models.Sequential([\n",
        "    tf.keras.layers.Flatten(input_shape=(IMAGE_WIDTH, IMAGE_HEIGHT, 1)),\n",
        "    tf.keras.layers.Rescaling(1./255),\n",
        "    tf.keras.layers.Dense(64, activation='relu'),   #inizializziamo i pesi in un range scelto\n",
        "    tf.keras.layers.Dense(16, activation='relu'),\n",
        "    tf.keras.layers.Dense(4, activation='softmax')                                        # '4' corrisponde al numero delle classi\n",
        "])"
      ]
    },
    {
      "cell_type": "code",
      "source": [
        "model.summary()"
      ],
      "metadata": {
        "colab": {
          "base_uri": "https://localhost:8080/"
        },
        "id": "joPaM4NuLc4c",
        "outputId": "1944d032-5b49-42b6-b74b-6e4a674f2213"
      },
      "execution_count": 108,
      "outputs": [
        {
          "output_type": "stream",
          "name": "stdout",
          "text": [
            "Model: \"sequential_14\"\n",
            "_________________________________________________________________\n",
            " Layer (type)                Output Shape              Param #   \n",
            "=================================================================\n",
            " flatten_14 (Flatten)        (None, 89401)             0         \n",
            "                                                                 \n",
            " rescaling_14 (Rescaling)    (None, 89401)             0         \n",
            "                                                                 \n",
            " dense_42 (Dense)            (None, 64)                5721728   \n",
            "                                                                 \n",
            " dense_43 (Dense)            (None, 16)                1040      \n",
            "                                                                 \n",
            " dense_44 (Dense)            (None, 4)                 68        \n",
            "                                                                 \n",
            "=================================================================\n",
            "Total params: 5722836 (21.83 MB)\n",
            "Trainable params: 5722836 (21.83 MB)\n",
            "Non-trainable params: 0 (0.00 Byte)\n",
            "_________________________________________________________________\n"
          ]
        }
      ]
    },
    {
      "cell_type": "code",
      "execution_count": 81,
      "metadata": {
        "id": "6fpaOJoz_OkH"
      },
      "outputs": [],
      "source": [
        "callbacks = [\n",
        "    tf.keras.callbacks.ModelCheckpoint(filepath=\"Dense.keras\", save_best_only=True, monitor=\"val_loss\")  # salviamo i pesi dell'epoca con la val_loss minore\n",
        "]"
      ]
    },
    {
      "cell_type": "code",
      "execution_count": 82,
      "metadata": {
        "id": "9M8r4chuSndu"
      },
      "outputs": [],
      "source": [
        "lr_schedule = tf.keras.optimizers.schedules.ExponentialDecay(\n",
        "    0.002,\n",
        "    decay_steps=len(train_data)*13,\n",
        "    decay_rate=0.66,\n",
        "    staircase=True)"
      ]
    },
    {
      "cell_type": "code",
      "execution_count": 83,
      "metadata": {
        "id": "Zfh6oQwh_PUu"
      },
      "outputs": [],
      "source": [
        "model.compile(loss='categorical_crossentropy', optimizer=tf.keras.optimizers.Adamax(learning_rate=lr_schedule), metrics=['accuracy', tf.keras.metrics.Precision(), tf.keras.metrics.Recall(), tf.keras.metrics.F1Score()])"
      ]
    },
    {
      "cell_type": "code",
      "execution_count": 84,
      "metadata": {
        "id": "uBxgSmB1zntW"
      },
      "outputs": [],
      "source": [
        "total_batches = tf.data.experimental.cardinality(train_data).numpy()              # calcola il numero totale di batch nel dataset\n",
        "\n",
        "validation_size = int(0.2 * total_batches)                                        # imposta una percentuale per il validation set (20%)\n",
        "\n",
        "# separa i dataset di training e validation\n",
        "validation_data = train_data.take(validation_size)\n",
        "train_data = train_data.skip(validation_size)"
      ]
    },
    {
      "cell_type": "code",
      "execution_count": 85,
      "metadata": {
        "id": "Q_n396sR_QSu",
        "colab": {
          "base_uri": "https://localhost:8080/"
        },
        "outputId": "79f61db8-86c6-4537-d5e6-d7a8ba81634c"
      },
      "outputs": [
        {
          "output_type": "stream",
          "name": "stdout",
          "text": [
            "Epoch 1/40\n",
            "160/160 [==============================] - 7s 27ms/step - loss: 1.5046 - accuracy: 0.5690 - precision_4: 0.6242 - recall_4: 0.4316 - f1_score: 0.5694 - val_loss: 0.7495 - val_accuracy: 0.7297 - val_precision_4: 0.8522 - val_recall_4: 0.5539 - val_f1_score: 0.7183\n",
            "Epoch 2/40\n",
            "160/160 [==============================] - 5s 25ms/step - loss: 0.7155 - accuracy: 0.7357 - precision_4: 0.8009 - recall_4: 0.6175 - f1_score: 0.7351 - val_loss: 0.6691 - val_accuracy: 0.7445 - val_precision_4: 0.7925 - val_recall_4: 0.6477 - val_f1_score: 0.7432\n",
            "Epoch 3/40\n",
            "160/160 [==============================] - 5s 29ms/step - loss: 0.6241 - accuracy: 0.7688 - precision_4: 0.8152 - recall_4: 0.6884 - f1_score: 0.7683 - val_loss: 0.6776 - val_accuracy: 0.7336 - val_precision_4: 0.7692 - val_recall_4: 0.6641 - val_f1_score: 0.7366\n",
            "Epoch 4/40\n",
            "160/160 [==============================] - 5s 25ms/step - loss: 0.5726 - accuracy: 0.7833 - precision_4: 0.8226 - recall_4: 0.7320 - f1_score: 0.7836 - val_loss: 0.5606 - val_accuracy: 0.7969 - val_precision_4: 0.8431 - val_recall_4: 0.7430 - val_f1_score: 0.7960\n",
            "Epoch 5/40\n",
            "160/160 [==============================] - 4s 20ms/step - loss: 0.5513 - accuracy: 0.7855 - precision_4: 0.8157 - recall_4: 0.7465 - f1_score: 0.7848 - val_loss: 0.9487 - val_accuracy: 0.6547 - val_precision_4: 0.6948 - val_recall_4: 0.6172 - val_f1_score: 0.6155\n",
            "Epoch 6/40\n",
            "160/160 [==============================] - 6s 33ms/step - loss: 0.4701 - accuracy: 0.8280 - precision_4: 0.8549 - recall_4: 0.7916 - f1_score: 0.8277 - val_loss: 0.6029 - val_accuracy: 0.7867 - val_precision_4: 0.8005 - val_recall_4: 0.7586 - val_f1_score: 0.7805\n",
            "Epoch 7/40\n",
            "160/160 [==============================] - 5s 25ms/step - loss: 0.4161 - accuracy: 0.8475 - precision_4: 0.8683 - recall_4: 0.8196 - f1_score: 0.8474 - val_loss: 0.5369 - val_accuracy: 0.8031 - val_precision_4: 0.8199 - val_recall_4: 0.7789 - val_f1_score: 0.8014\n",
            "Epoch 8/40\n",
            "160/160 [==============================] - 4s 24ms/step - loss: 0.3978 - accuracy: 0.8525 - precision_4: 0.8713 - recall_4: 0.8273 - f1_score: 0.8530 - val_loss: 0.4994 - val_accuracy: 0.8273 - val_precision_4: 0.8431 - val_recall_4: 0.7977 - val_f1_score: 0.8227\n",
            "Epoch 9/40\n",
            "160/160 [==============================] - 5s 23ms/step - loss: 0.3443 - accuracy: 0.8851 - precision_4: 0.8992 - recall_4: 0.8637 - f1_score: 0.8852 - val_loss: 0.5461 - val_accuracy: 0.8016 - val_precision_4: 0.8146 - val_recall_4: 0.7859 - val_f1_score: 0.8080\n",
            "Epoch 10/40\n",
            "160/160 [==============================] - 5s 26ms/step - loss: 0.3692 - accuracy: 0.8600 - precision_4: 0.8720 - recall_4: 0.8441 - f1_score: 0.8600 - val_loss: 0.4614 - val_accuracy: 0.8375 - val_precision_4: 0.8537 - val_recall_4: 0.8117 - val_f1_score: 0.8310\n",
            "Epoch 11/40\n",
            "160/160 [==============================] - 5s 29ms/step - loss: 0.3370 - accuracy: 0.8757 - precision_4: 0.8895 - recall_4: 0.8614 - f1_score: 0.8758 - val_loss: 0.5014 - val_accuracy: 0.8250 - val_precision_4: 0.8376 - val_recall_4: 0.8102 - val_f1_score: 0.8215\n",
            "Epoch 12/40\n",
            "160/160 [==============================] - 4s 24ms/step - loss: 0.2913 - accuracy: 0.8910 - precision_4: 0.9022 - recall_4: 0.8790 - f1_score: 0.8910 - val_loss: 0.5587 - val_accuracy: 0.8016 - val_precision_4: 0.8118 - val_recall_4: 0.7852 - val_f1_score: 0.8022\n",
            "Epoch 13/40\n",
            "160/160 [==============================] - 5s 25ms/step - loss: 0.2624 - accuracy: 0.9082 - precision_4: 0.9180 - recall_4: 0.8973 - f1_score: 0.9079 - val_loss: 0.4453 - val_accuracy: 0.8617 - val_precision_4: 0.8708 - val_recall_4: 0.8477 - val_f1_score: 0.8588\n",
            "Epoch 14/40\n",
            "160/160 [==============================] - 6s 30ms/step - loss: 0.2146 - accuracy: 0.9273 - precision_4: 0.9358 - recall_4: 0.9169 - f1_score: 0.9272 - val_loss: 0.4838 - val_accuracy: 0.8297 - val_precision_4: 0.8404 - val_recall_4: 0.8188 - val_f1_score: 0.8311\n",
            "Epoch 15/40\n",
            "160/160 [==============================] - 4s 19ms/step - loss: 0.2307 - accuracy: 0.9129 - precision_4: 0.9224 - recall_4: 0.9047 - f1_score: 0.9130 - val_loss: 0.5099 - val_accuracy: 0.8391 - val_precision_4: 0.8491 - val_recall_4: 0.8219 - val_f1_score: 0.8368\n",
            "Epoch 16/40\n",
            "160/160 [==============================] - 5s 26ms/step - loss: 0.1955 - accuracy: 0.9320 - precision_4: 0.9399 - recall_4: 0.9255 - f1_score: 0.9320 - val_loss: 0.4218 - val_accuracy: 0.8641 - val_precision_4: 0.8766 - val_recall_4: 0.8547 - val_f1_score: 0.8614\n",
            "Epoch 17/40\n",
            "160/160 [==============================] - 5s 25ms/step - loss: 0.1396 - accuracy: 0.9559 - precision_4: 0.9605 - recall_4: 0.9527 - f1_score: 0.9558 - val_loss: 0.3910 - val_accuracy: 0.8773 - val_precision_4: 0.8828 - val_recall_4: 0.8648 - val_f1_score: 0.8759\n",
            "Epoch 18/40\n",
            "160/160 [==============================] - 4s 20ms/step - loss: 0.1253 - accuracy: 0.9606 - precision_4: 0.9650 - recall_4: 0.9565 - f1_score: 0.9607 - val_loss: 0.3932 - val_accuracy: 0.8766 - val_precision_4: 0.8820 - val_recall_4: 0.8641 - val_f1_score: 0.8756\n",
            "Epoch 19/40\n",
            "160/160 [==============================] - 5s 27ms/step - loss: 0.1289 - accuracy: 0.9625 - precision_4: 0.9658 - recall_4: 0.9580 - f1_score: 0.9627 - val_loss: 0.3988 - val_accuracy: 0.8758 - val_precision_4: 0.8831 - val_recall_4: 0.8680 - val_f1_score: 0.8718\n",
            "Epoch 20/40\n",
            "160/160 [==============================] - 4s 21ms/step - loss: 0.1004 - accuracy: 0.9763 - precision_4: 0.9797 - recall_4: 0.9725 - f1_score: 0.9764 - val_loss: 0.3901 - val_accuracy: 0.8852 - val_precision_4: 0.8933 - val_recall_4: 0.8766 - val_f1_score: 0.8838\n",
            "Epoch 21/40\n",
            "160/160 [==============================] - 4s 19ms/step - loss: 0.0830 - accuracy: 0.9796 - precision_4: 0.9825 - recall_4: 0.9771 - f1_score: 0.9796 - val_loss: 0.4644 - val_accuracy: 0.8547 - val_precision_4: 0.8613 - val_recall_4: 0.8492 - val_f1_score: 0.8520\n",
            "Epoch 22/40\n",
            "160/160 [==============================] - 5s 25ms/step - loss: 0.1044 - accuracy: 0.9731 - precision_4: 0.9750 - recall_4: 0.9698 - f1_score: 0.9732 - val_loss: 0.4078 - val_accuracy: 0.8828 - val_precision_4: 0.8886 - val_recall_4: 0.8789 - val_f1_score: 0.8826\n",
            "Epoch 23/40\n",
            "160/160 [==============================] - 4s 23ms/step - loss: 0.0735 - accuracy: 0.9853 - precision_4: 0.9860 - recall_4: 0.9835 - f1_score: 0.9854 - val_loss: 0.4376 - val_accuracy: 0.8781 - val_precision_4: 0.8878 - val_recall_4: 0.8719 - val_f1_score: 0.8721\n",
            "Epoch 24/40\n",
            "160/160 [==============================] - 5s 25ms/step - loss: 0.0895 - accuracy: 0.9739 - precision_4: 0.9754 - recall_4: 0.9720 - f1_score: 0.9739 - val_loss: 0.3521 - val_accuracy: 0.8984 - val_precision_4: 0.9009 - val_recall_4: 0.8953 - val_f1_score: 0.8980\n",
            "Epoch 25/40\n",
            "160/160 [==============================] - 5s 28ms/step - loss: 0.0641 - accuracy: 0.9869 - precision_4: 0.9874 - recall_4: 0.9855 - f1_score: 0.9869 - val_loss: 0.5032 - val_accuracy: 0.8555 - val_precision_4: 0.8568 - val_recall_4: 0.8461 - val_f1_score: 0.8530\n",
            "Epoch 26/40\n",
            "160/160 [==============================] - 4s 23ms/step - loss: 0.0618 - accuracy: 0.9878 - precision_4: 0.9890 - recall_4: 0.9871 - f1_score: 0.9879 - val_loss: 0.3616 - val_accuracy: 0.9008 - val_precision_4: 0.9026 - val_recall_4: 0.8906 - val_f1_score: 0.9002\n",
            "Epoch 27/40\n",
            "160/160 [==============================] - 5s 22ms/step - loss: 0.0682 - accuracy: 0.9818 - precision_4: 0.9837 - recall_4: 0.9806 - f1_score: 0.9818 - val_loss: 0.3619 - val_accuracy: 0.8969 - val_precision_4: 0.8998 - val_recall_4: 0.8914 - val_f1_score: 0.8971\n",
            "Epoch 28/40\n",
            "160/160 [==============================] - 4s 21ms/step - loss: 0.0559 - accuracy: 0.9886 - precision_4: 0.9892 - recall_4: 0.9880 - f1_score: 0.9887 - val_loss: 0.3333 - val_accuracy: 0.9062 - val_precision_4: 0.9109 - val_recall_4: 0.9023 - val_f1_score: 0.9050\n",
            "Epoch 29/40\n",
            "160/160 [==============================] - 5s 26ms/step - loss: 0.0372 - accuracy: 0.9943 - precision_4: 0.9943 - recall_4: 0.9933 - f1_score: 0.9943 - val_loss: 0.3634 - val_accuracy: 0.9016 - val_precision_4: 0.9036 - val_recall_4: 0.9008 - val_f1_score: 0.9004\n",
            "Epoch 30/40\n",
            "160/160 [==============================] - 4s 24ms/step - loss: 0.0434 - accuracy: 0.9922 - precision_4: 0.9922 - recall_4: 0.9920 - f1_score: 0.9922 - val_loss: 0.3730 - val_accuracy: 0.9039 - val_precision_4: 0.9048 - val_recall_4: 0.8984 - val_f1_score: 0.9030\n",
            "Epoch 31/40\n",
            "160/160 [==============================] - 4s 24ms/step - loss: 0.0394 - accuracy: 0.9933 - precision_4: 0.9943 - recall_4: 0.9929 - f1_score: 0.9934 - val_loss: 0.3617 - val_accuracy: 0.8992 - val_precision_4: 0.9017 - val_recall_4: 0.8953 - val_f1_score: 0.8975\n",
            "Epoch 32/40\n",
            "160/160 [==============================] - 5s 31ms/step - loss: 0.0348 - accuracy: 0.9935 - precision_4: 0.9941 - recall_4: 0.9925 - f1_score: 0.9935 - val_loss: 0.3251 - val_accuracy: 0.9148 - val_precision_4: 0.9183 - val_recall_4: 0.9133 - val_f1_score: 0.9135\n",
            "Epoch 33/40\n",
            "160/160 [==============================] - 4s 24ms/step - loss: 0.0415 - accuracy: 0.9906 - precision_4: 0.9912 - recall_4: 0.9902 - f1_score: 0.9906 - val_loss: 0.3575 - val_accuracy: 0.9094 - val_precision_4: 0.9119 - val_recall_4: 0.9062 - val_f1_score: 0.9083\n",
            "Epoch 34/40\n",
            "160/160 [==============================] - 5s 28ms/step - loss: 0.0241 - accuracy: 0.9976 - precision_4: 0.9980 - recall_4: 0.9976 - f1_score: 0.9977 - val_loss: 0.3523 - val_accuracy: 0.9156 - val_precision_4: 0.9161 - val_recall_4: 0.9125 - val_f1_score: 0.9136\n",
            "Epoch 35/40\n",
            "160/160 [==============================] - 4s 20ms/step - loss: 0.0181 - accuracy: 0.9990 - precision_4: 0.9992 - recall_4: 0.9988 - f1_score: 0.9990 - val_loss: 0.3430 - val_accuracy: 0.9180 - val_precision_4: 0.9192 - val_recall_4: 0.9156 - val_f1_score: 0.9175\n",
            "Epoch 36/40\n",
            "160/160 [==============================] - 5s 28ms/step - loss: 0.0187 - accuracy: 0.9984 - precision_4: 0.9986 - recall_4: 0.9982 - f1_score: 0.9984 - val_loss: 0.3448 - val_accuracy: 0.9187 - val_precision_4: 0.9194 - val_recall_4: 0.9180 - val_f1_score: 0.9174\n",
            "Epoch 37/40\n",
            "160/160 [==============================] - 4s 23ms/step - loss: 0.0203 - accuracy: 0.9980 - precision_4: 0.9980 - recall_4: 0.9980 - f1_score: 0.9980 - val_loss: 0.3537 - val_accuracy: 0.9164 - val_precision_4: 0.9169 - val_recall_4: 0.9141 - val_f1_score: 0.9156\n",
            "Epoch 38/40\n",
            "160/160 [==============================] - 4s 20ms/step - loss: 0.0160 - accuracy: 0.9990 - precision_4: 0.9992 - recall_4: 0.9990 - f1_score: 0.9990 - val_loss: 0.3515 - val_accuracy: 0.9156 - val_precision_4: 0.9184 - val_recall_4: 0.9148 - val_f1_score: 0.9154\n",
            "Epoch 39/40\n",
            "160/160 [==============================] - 5s 27ms/step - loss: 0.0199 - accuracy: 0.9975 - precision_4: 0.9975 - recall_4: 0.9973 - f1_score: 0.9975 - val_loss: 0.3471 - val_accuracy: 0.9156 - val_precision_4: 0.9176 - val_recall_4: 0.9133 - val_f1_score: 0.9141\n",
            "Epoch 40/40\n",
            "160/160 [==============================] - 4s 20ms/step - loss: 0.0187 - accuracy: 0.9984 - precision_4: 0.9988 - recall_4: 0.9984 - f1_score: 0.9984 - val_loss: 0.3679 - val_accuracy: 0.9094 - val_precision_4: 0.9142 - val_recall_4: 0.9070 - val_f1_score: 0.9073\n"
          ]
        }
      ],
      "source": [
        "epochs = 40\n",
        "history = model.fit(train_data, epochs=epochs, validation_data=validation_data, callbacks=callbacks)"
      ]
    },
    {
      "cell_type": "markdown",
      "metadata": {
        "id": "eNGdbzZ6dpvH"
      },
      "source": [
        "Per ricaricare i pesi che hanno performato meglio durante l'addestramento:"
      ]
    },
    {
      "cell_type": "code",
      "execution_count": 59,
      "metadata": {
        "id": "blvDMilYB8I2"
      },
      "outputs": [],
      "source": [
        "model = tf.keras.models.load_model(\"Dense.keras\")"
      ]
    },
    {
      "cell_type": "markdown",
      "metadata": {
        "id": "iNxyAAbDduAO"
      },
      "source": [
        "Se invece si volessero caricare dei pesi da Google Drive:"
      ]
    },
    {
      "cell_type": "code",
      "execution_count": null,
      "metadata": {
        "id": "ncC_Z7XnON5D"
      },
      "outputs": [],
      "source": [
        "print(\"Inserire il nome del file di salvataggio:\")\n",
        "name = input()\n",
        "loadWeights(name)\n",
        "model.load_weights(name)"
      ]
    },
    {
      "cell_type": "markdown",
      "metadata": {
        "id": "s9UWv3DmfE2x"
      },
      "source": [
        "Per valutare le performance del modello:"
      ]
    },
    {
      "cell_type": "code",
      "execution_count": 86,
      "metadata": {
        "colab": {
          "base_uri": "https://localhost:8080/"
        },
        "id": "S9a-_r65UwYu",
        "outputId": "9cb085ee-fda2-4872-97e0-ed8ef8f8ddd6"
      },
      "outputs": [
        {
          "output_type": "stream",
          "name": "stdout",
          "text": [
            "41/41 [==============================] - 1s 30ms/step - loss: 0.5112 - accuracy: 0.8955 - precision_4: 0.8982 - recall_4: 0.8947 - f1_score: 0.8876\n",
            "Loss: 0.5111814141273499\n",
            "Accuracy: 0.8954996466636658\n",
            "Precision: 0.898162305355072\n",
            "Recall: 0.8947368264198303\n",
            "F1-score: 0.8875866532325745\n"
          ]
        }
      ],
      "source": [
        "test_loss, test_accuracy, test_precision, test_recall, test_f1 = model.evaluate(test_data)\n",
        "print(f\"Loss: {test_loss}\")\n",
        "print(f\"Accuracy: {test_accuracy}\")\n",
        "print(f\"Precision: {test_precision}\")\n",
        "print(f\"Recall: {test_recall}\")\n",
        "print(f\"F1-score: {np.mean(test_f1)}\")"
      ]
    },
    {
      "cell_type": "markdown",
      "metadata": {
        "id": "iXsgwW-5HDtf"
      },
      "source": [
        "## Salvataggio dei dati"
      ]
    },
    {
      "cell_type": "markdown",
      "metadata": {
        "id": "eCNtEmUcea8F"
      },
      "source": [
        "Per salvare i pesi del modello attuale su Google Drive:"
      ]
    },
    {
      "cell_type": "code",
      "execution_count": null,
      "metadata": {
        "id": "7m29kh_VeiMt"
      },
      "outputs": [],
      "source": [
        "print(\"Inserire il nome del file di salvataggio:\")\n",
        "name = input()\n",
        "model.save_weights(name)\n",
        "saveWeights(name)"
      ]
    },
    {
      "cell_type": "markdown",
      "metadata": {
        "id": "LvSFbBURG6Fg"
      },
      "source": [
        "Qualora si voglia salvare la history in un file .csv:"
      ]
    },
    {
      "cell_type": "code",
      "execution_count": 72,
      "metadata": {
        "id": "3ee7jdjb3-cj",
        "colab": {
          "base_uri": "https://localhost:8080/"
        },
        "outputId": "00c0c8e9-d7de-448d-cd35-5720bdfec0ed"
      },
      "outputs": [
        {
          "name": "stdout",
          "output_type": "stream",
          "text": [
            "only-aug-finale\n"
          ]
        }
      ],
      "source": [
        "nome = input()\n",
        "saveHistory(history, nome)"
      ]
    },
    {
      "cell_type": "markdown",
      "metadata": {
        "id": "ITA7ao01G88X"
      },
      "source": [
        "Qualora si voglia salvare l'evaluation in un file .csv:"
      ]
    },
    {
      "cell_type": "code",
      "execution_count": 73,
      "metadata": {
        "id": "HCoGk5hl5Ac0",
        "colab": {
          "base_uri": "https://localhost:8080/"
        },
        "outputId": "834e5fb0-989e-4d7d-bb8a-80205b2744b5"
      },
      "outputs": [
        {
          "name": "stdout",
          "output_type": "stream",
          "text": [
            "only_aug_finale\n"
          ]
        }
      ],
      "source": [
        "nome = input()\n",
        "saveEvaluation(test_loss, test_accuracy, test_f1, nome)"
      ]
    },
    {
      "cell_type": "markdown",
      "metadata": {
        "id": "DruPGdce0mBH"
      },
      "source": [
        "<a name=\"4\"></a>\n",
        "# Risultati"
      ]
    },
    {
      "cell_type": "markdown",
      "metadata": {
        "id": "Fhr0sng6mLjq"
      },
      "source": [
        "## History dell'addestramento appena concluso"
      ]
    },
    {
      "cell_type": "code",
      "execution_count": 87,
      "metadata": {
        "id": "L21tXdY5mPUU"
      },
      "outputs": [],
      "source": [
        "acc = history.history['accuracy']\n",
        "val_acc = history.history['val_accuracy']\n",
        "loss = history.history['loss']\n",
        "val_loss = history.history['val_loss']\n",
        "f1_score = []\n",
        "val_f1_score = []\n",
        "\n",
        "epochs = range(1, len(acc) + 1)\n",
        "\n",
        "for i in range(len(acc)):\n",
        "  f1_score.append(np.mean(history.history['f1_score'][i]))\n",
        "  val_f1_score.append(np.mean(history.history['val_f1_score'][i]))"
      ]
    },
    {
      "cell_type": "markdown",
      "metadata": {
        "id": "dNxf6FuBmPhk"
      },
      "source": [
        "## History di un addestramento passato (da caricare)"
      ]
    },
    {
      "cell_type": "markdown",
      "metadata": {
        "id": "WDsXnHaXfo73"
      },
      "source": [
        "Per ricaricare una history precedente:"
      ]
    },
    {
      "cell_type": "code",
      "execution_count": null,
      "metadata": {
        "id": "YLBGeqpnfrfN"
      },
      "outputs": [],
      "source": [
        "print(\"Inserire il nome del file history da caricare:\")\n",
        "nomeFile = input()\n",
        "history = loadHistory(nomeFile)"
      ]
    },
    {
      "cell_type": "code",
      "execution_count": null,
      "metadata": {
        "id": "1jqWOtbXkgOL"
      },
      "outputs": [],
      "source": [
        "acc, val_acc, loss, val_loss = [], [], [], []\n",
        "for i in range(0, len(history['accuracy'])):\n",
        "  acc.append(history['accuracy'][i])\n",
        "  val_acc.append(history['val_accuracy'][i])\n",
        "  loss.append(history['loss'][i])\n",
        "  val_loss.append(history['val_loss'][i])\n",
        "\n",
        "epochs = range(1, len(acc)+1)\n",
        "\n",
        "f1_score, val_f1_score = [], []\n",
        "\n",
        "for i in range(len(acc)):\n",
        "  f1_score.append(np.mean([float(x) for x in history['f1_score'][i].replace('[', '').replace(']', '').split()]))\n",
        "  val_f1_score.append(np.mean([float(x) for x in history['val_f1_score'][i].replace('[', '').replace(']', '').split()]))"
      ]
    },
    {
      "cell_type": "markdown",
      "metadata": {
        "id": "iqqFqvLwmTRb"
      },
      "source": [
        "## Plot dei risultati"
      ]
    },
    {
      "cell_type": "code",
      "execution_count": 88,
      "metadata": {
        "colab": {
          "base_uri": "https://localhost:8080/",
          "height": 512
        },
        "id": "mRSWHzz9iANi",
        "outputId": "dd4577b5-71b2-45fd-cd1a-95a0346df113"
      },
      "outputs": [
        {
          "output_type": "display_data",
          "data": {
            "text/plain": [
              "<Figure size 2100x600 with 3 Axes>"
            ],
            "image/png": "[encoded data removed]"
          },
          "metadata": {}
        }
      ],
      "source": [
        "# Creazione del grafico per l'accuracy\n",
        "plt.figure(figsize=(21, 6))\n",
        "plt.subplot(1, 3, 1)\n",
        "plt.plot(epochs, acc, 'r', label='Training accuracy')\n",
        "plt.plot(epochs, val_acc, 'b', label='Validation accuracy')\n",
        "plt.title('Accuracy')\n",
        "plt.legend()\n",
        "plt.grid()\n",
        "\n",
        "# Creazione del grafico per il loss\n",
        "plt.subplot(1, 3, 2)\n",
        "plt.plot(epochs, loss, 'r', label='Training loss')\n",
        "plt.plot(epochs, val_loss, 'b', label='Validation loss')\n",
        "plt.title('Loss')\n",
        "plt.legend()\n",
        "plt.grid()\n",
        "\n",
        "# Creazione del grafico per il loss\n",
        "plt.subplot(1, 3, 3)\n",
        "plt.plot(epochs, f1_score, 'r', label='Training F1 score')\n",
        "plt.plot(epochs, val_f1_score, 'b', label='Validation F1 score')\n",
        "plt.title('F1 score')\n",
        "plt.legend()\n",
        "plt.grid()\n",
        "\n",
        "plt.show()"
      ]
    },
    {
      "cell_type": "markdown",
      "metadata": {
        "id": "jVl53YKsu_XL"
      },
      "source": [
        "<a name=\"5\"></a>\n",
        "#Modello finale"
      ]
    },
    {
      "cell_type": "markdown",
      "metadata": {
        "id": "XUnAfWXHvF2w"
      },
      "source": [
        "Una volta valutate i migliori iperparametri per il nostro modello, lo riaddestriamo interamente sul training set senza nessun validation.\n",
        "<font color='#c00000'>**ATTENZIONE**:</font> Ricaricaricare il test data se è stato splittato precedentemente per il validation!"
      ]
    },
    {
      "cell_type": "code",
      "execution_count": 93,
      "metadata": {
        "id": "o6TOwjwLvrzA"
      },
      "outputs": [],
      "source": [
        "model = tf.keras.models.Sequential([\n",
        "    tf.keras.layers.Rescaling(1./255),\n",
        "    tf.keras.layers.Flatten(input_shape=(IMAGE_WIDTH, IMAGE_HEIGHT, 1)),\n",
        "    tf.keras.layers.Dense(64, activation='relu'),   #inizializziamo i pesi in un range scelto\n",
        "    tf.keras.layers.Dense(16, activation='relu'),\n",
        "    tf.keras.layers.Dense(4, activation='softmax')                                        # '4' corrisponde al numero delle classi\n",
        "])"
      ]
    },
    {
      "cell_type": "code",
      "source": [
        "model.summary()"
      ],
      "metadata": {
        "colab": {
          "base_uri": "https://localhost:8080/"
        },
        "id": "BGipxp8mKAql",
        "outputId": "342a3051-444e-4aa2-9bb8-64269d0f926e"
      },
      "execution_count": 98,
      "outputs": [
        {
          "output_type": "stream",
          "name": "stdout",
          "text": [
            "Model: \"sequential_13\"\n",
            "_________________________________________________________________\n",
            " Layer (type)                Output Shape              Param #   \n",
            "=================================================================\n",
            " rescaling_13 (Rescaling)    (None, 299, 299, 1)       0         \n",
            "                                                                 \n",
            " flatten_13 (Flatten)        (None, 89401)             0         \n",
            "                                                                 \n",
            " dense_39 (Dense)            (None, 64)                5721728   \n",
            "                                                                 \n",
            " dense_40 (Dense)            (None, 16)                1040      \n",
            "                                                                 \n",
            " dense_41 (Dense)            (None, 4)                 68        \n",
            "                                                                 \n",
            "=================================================================\n",
            "Total params: 5722836 (21.83 MB)\n",
            "Trainable params: 5722836 (21.83 MB)\n",
            "Non-trainable params: 0 (0.00 Byte)\n",
            "_________________________________________________________________\n"
          ]
        }
      ]
    },
    {
      "cell_type": "code",
      "execution_count": 94,
      "metadata": {
        "id": "Ypv90C0mvrzA"
      },
      "outputs": [],
      "source": [
        "callbacks = [\n",
        "    tf.keras.callbacks.ModelCheckpoint(filepath=\"Dense_Finale.keras\", save_best_only=True, monitor=\"loss\")  # salviamo i pesi dell'epoca con la val_loss minore\n",
        "]"
      ]
    },
    {
      "cell_type": "code",
      "execution_count": 95,
      "metadata": {
        "id": "zb7kLpMGvrzA"
      },
      "outputs": [],
      "source": [
        "lr_schedule = tf.keras.optimizers.schedules.ExponentialDecay(\n",
        "    0.002,\n",
        "    decay_steps=len(train_data)*13,\n",
        "    decay_rate=0.66,\n",
        "    staircase=True)"
      ]
    },
    {
      "cell_type": "code",
      "execution_count": 96,
      "metadata": {
        "id": "fvt4CvK-vrzB"
      },
      "outputs": [],
      "source": [
        "model.compile(loss='categorical_crossentropy', optimizer=tf.keras.optimizers.Adamax(learning_rate=lr_schedule), metrics=['accuracy', tf.keras.metrics.Precision(), tf.keras.metrics.Recall(), tf.keras.metrics.F1Score()]) # Compila il modello"
      ]
    },
    {
      "cell_type": "code",
      "execution_count": 97,
      "metadata": {
        "colab": {
          "base_uri": "https://localhost:8080/"
        },
        "id": "sOdKP0gFvrzB",
        "outputId": "c562761e-f407-4d0f-bec0-88ddfcc3e105"
      },
      "outputs": [
        {
          "output_type": "stream",
          "name": "stdout",
          "text": [
            "Epoch 1/40\n",
            "200/200 [==============================] - 5s 17ms/step - loss: 1.6713 - accuracy: 0.5434 - precision_5: 0.5527 - recall_5: 0.3556 - f1_score: 0.5364\n",
            "Epoch 2/40\n",
            "200/200 [==============================] - 5s 24ms/step - loss: 0.8369 - accuracy: 0.6473 - precision_5: 0.6866 - recall_5: 0.5020 - f1_score: 0.6397\n",
            "Epoch 3/40\n",
            "200/200 [==============================] - 4s 17ms/step - loss: 0.7019 - accuracy: 0.6928 - precision_5: 0.7438 - recall_5: 0.6038 - f1_score: 0.6853\n",
            "Epoch 4/40\n",
            "200/200 [==============================] - 4s 17ms/step - loss: 0.6333 - accuracy: 0.7318 - precision_5: 0.7730 - recall_5: 0.6585 - f1_score: 0.7263\n",
            "Epoch 5/40\n",
            "200/200 [==============================] - 4s 21ms/step - loss: 0.5749 - accuracy: 0.7564 - precision_5: 0.7919 - recall_5: 0.7033 - f1_score: 0.7525\n",
            "Epoch 6/40\n",
            "200/200 [==============================] - 4s 18ms/step - loss: 0.5407 - accuracy: 0.7837 - precision_5: 0.8123 - recall_5: 0.7408 - f1_score: 0.7809\n",
            "Epoch 7/40\n",
            "200/200 [==============================] - 3s 17ms/step - loss: 0.4692 - accuracy: 0.8129 - precision_5: 0.8357 - recall_5: 0.7796 - f1_score: 0.8104\n",
            "Epoch 8/40\n",
            "200/200 [==============================] - 5s 22ms/step - loss: 0.4606 - accuracy: 0.8179 - precision_5: 0.8396 - recall_5: 0.7901 - f1_score: 0.8166\n",
            "Epoch 9/40\n",
            "200/200 [==============================] - 3s 17ms/step - loss: 0.4090 - accuracy: 0.8361 - precision_5: 0.8548 - recall_5: 0.8132 - f1_score: 0.8346\n",
            "Epoch 10/40\n",
            "200/200 [==============================] - 4s 20ms/step - loss: 0.3907 - accuracy: 0.8466 - precision_5: 0.8652 - recall_5: 0.8230 - f1_score: 0.8450\n",
            "Epoch 11/40\n",
            "200/200 [==============================] - 4s 21ms/step - loss: 0.3392 - accuracy: 0.8661 - precision_5: 0.8822 - recall_5: 0.8483 - f1_score: 0.8651\n",
            "Epoch 12/40\n",
            "200/200 [==============================] - 3s 15ms/step - loss: 0.3437 - accuracy: 0.8660 - precision_5: 0.8807 - recall_5: 0.8492 - f1_score: 0.8651\n",
            "Epoch 13/40\n",
            "200/200 [==============================] - 4s 19ms/step - loss: 0.3092 - accuracy: 0.8790 - precision_5: 0.8911 - recall_5: 0.8674 - f1_score: 0.8783\n",
            "Epoch 14/40\n",
            "200/200 [==============================] - 6s 30ms/step - loss: 0.2551 - accuracy: 0.9082 - precision_5: 0.9182 - recall_5: 0.8955 - f1_score: 0.9074\n",
            "Epoch 15/40\n",
            "200/200 [==============================] - 6s 27ms/step - loss: 0.2319 - accuracy: 0.9111 - precision_5: 0.9196 - recall_5: 0.9003 - f1_score: 0.9106\n",
            "Epoch 16/40\n",
            "200/200 [==============================] - 4s 21ms/step - loss: 0.2244 - accuracy: 0.9154 - precision_5: 0.9246 - recall_5: 0.9067 - f1_score: 0.9147\n",
            "Epoch 17/40\n",
            "200/200 [==============================] - 4s 17ms/step - loss: 0.1980 - accuracy: 0.9252 - precision_5: 0.9330 - recall_5: 0.9190 - f1_score: 0.9247\n",
            "Epoch 18/40\n",
            "200/200 [==============================] - 4s 18ms/step - loss: 0.1784 - accuracy: 0.9371 - precision_5: 0.9434 - recall_5: 0.9279 - f1_score: 0.9368\n",
            "Epoch 19/40\n",
            "200/200 [==============================] - 5s 24ms/step - loss: 0.1665 - accuracy: 0.9420 - precision_5: 0.9475 - recall_5: 0.9370 - f1_score: 0.9417\n",
            "Epoch 20/40\n",
            "200/200 [==============================] - 4s 17ms/step - loss: 0.1468 - accuracy: 0.9509 - precision_5: 0.9568 - recall_5: 0.9469 - f1_score: 0.9507\n",
            "Epoch 21/40\n",
            "200/200 [==============================] - 3s 16ms/step - loss: 0.1592 - accuracy: 0.9442 - precision_5: 0.9502 - recall_5: 0.9387 - f1_score: 0.9439\n",
            "Epoch 22/40\n",
            "200/200 [==============================] - 4s 19ms/step - loss: 0.1379 - accuracy: 0.9534 - precision_5: 0.9585 - recall_5: 0.9486 - f1_score: 0.9532\n",
            "Epoch 23/40\n",
            "200/200 [==============================] - 5s 23ms/step - loss: 0.1268 - accuracy: 0.9600 - precision_5: 0.9639 - recall_5: 0.9555 - f1_score: 0.9598\n",
            "Epoch 24/40\n",
            "200/200 [==============================] - 3s 16ms/step - loss: 0.1346 - accuracy: 0.9500 - precision_5: 0.9552 - recall_5: 0.9455 - f1_score: 0.9498\n",
            "Epoch 25/40\n",
            "200/200 [==============================] - 5s 23ms/step - loss: 0.0993 - accuracy: 0.9691 - precision_5: 0.9739 - recall_5: 0.9661 - f1_score: 0.9690\n",
            "Epoch 26/40\n",
            "200/200 [==============================] - 4s 17ms/step - loss: 0.1211 - accuracy: 0.9547 - precision_5: 0.9585 - recall_5: 0.9520 - f1_score: 0.9544\n",
            "Epoch 27/40\n",
            "200/200 [==============================] - 4s 17ms/step - loss: 0.0819 - accuracy: 0.9763 - precision_5: 0.9794 - recall_5: 0.9746 - f1_score: 0.9763\n",
            "Epoch 28/40\n",
            "200/200 [==============================] - 4s 18ms/step - loss: 0.0753 - accuracy: 0.9770 - precision_5: 0.9806 - recall_5: 0.9740 - f1_score: 0.9769\n",
            "Epoch 29/40\n",
            "200/200 [==============================] - 4s 17ms/step - loss: 0.0691 - accuracy: 0.9799 - precision_5: 0.9839 - recall_5: 0.9784 - f1_score: 0.9799\n",
            "Epoch 30/40\n",
            "200/200 [==============================] - 3s 17ms/step - loss: 0.0688 - accuracy: 0.9807 - precision_5: 0.9839 - recall_5: 0.9793 - f1_score: 0.9807\n",
            "Epoch 31/40\n",
            "200/200 [==============================] - 4s 19ms/step - loss: 0.0585 - accuracy: 0.9845 - precision_5: 0.9873 - recall_5: 0.9831 - f1_score: 0.9845\n",
            "Epoch 32/40\n",
            "200/200 [==============================] - 4s 17ms/step - loss: 0.0577 - accuracy: 0.9842 - precision_5: 0.9865 - recall_5: 0.9835 - f1_score: 0.9841\n",
            "Epoch 33/40\n",
            "200/200 [==============================] - 3s 17ms/step - loss: 0.0486 - accuracy: 0.9881 - precision_5: 0.9902 - recall_5: 0.9868 - f1_score: 0.9881\n",
            "Epoch 34/40\n",
            "200/200 [==============================] - 5s 24ms/step - loss: 0.0507 - accuracy: 0.9878 - precision_5: 0.9902 - recall_5: 0.9864 - f1_score: 0.9878\n",
            "Epoch 35/40\n",
            "200/200 [==============================] - 4s 17ms/step - loss: 0.0433 - accuracy: 0.9898 - precision_5: 0.9915 - recall_5: 0.9897 - f1_score: 0.9898\n",
            "Epoch 36/40\n",
            "200/200 [==============================] - 3s 16ms/step - loss: 0.0517 - accuracy: 0.9857 - precision_5: 0.9873 - recall_5: 0.9850 - f1_score: 0.9857\n",
            "Epoch 37/40\n",
            "200/200 [==============================] - 4s 18ms/step - loss: 0.0386 - accuracy: 0.9909 - precision_5: 0.9929 - recall_5: 0.9906 - f1_score: 0.9909\n",
            "Epoch 38/40\n",
            "200/200 [==============================] - 5s 23ms/step - loss: 0.0341 - accuracy: 0.9923 - precision_5: 0.9940 - recall_5: 0.9917 - f1_score: 0.9923\n",
            "Epoch 39/40\n",
            "200/200 [==============================] - 4s 18ms/step - loss: 0.0317 - accuracy: 0.9936 - precision_5: 0.9950 - recall_5: 0.9934 - f1_score: 0.9936\n",
            "Epoch 40/40\n",
            "200/200 [==============================] - 4s 20ms/step - loss: 0.0269 - accuracy: 0.9940 - precision_5: 0.9953 - recall_5: 0.9937 - f1_score: 0.9940\n"
          ]
        }
      ],
      "source": [
        "epochs = 40\n",
        "history = model.fit(train_data, epochs=epochs, callbacks=callbacks)"
      ]
    },
    {
      "cell_type": "markdown",
      "metadata": {
        "id": "ag-uJclJvrzC"
      },
      "source": [
        "Per ricaricare i pesi che hanno performato meglio durante l'addestramento:"
      ]
    },
    {
      "cell_type": "code",
      "execution_count": 105,
      "metadata": {
        "id": "WwUBbyzEvrzC"
      },
      "outputs": [],
      "source": [
        "model = tf.keras.models.load_model(\"Dense_Finale.keras\")"
      ]
    },
    {
      "cell_type": "markdown",
      "metadata": {
        "id": "ExRX5_yYvrzD"
      },
      "source": [
        "Se invece si volessero caricare dei pesi da Google Drive:"
      ]
    },
    {
      "cell_type": "code",
      "execution_count": null,
      "metadata": {
        "id": "muS-40RivrzD"
      },
      "outputs": [],
      "source": [
        "print(\"Inserire il nome del file di salvataggio:\")\n",
        "name = input()\n",
        "loadWeights(name)\n",
        "model.load_weights(name)"
      ]
    },
    {
      "cell_type": "markdown",
      "metadata": {
        "id": "G4dJrL8NvrzD"
      },
      "source": [
        "Per valutare le performance del modello:"
      ]
    },
    {
      "cell_type": "code",
      "execution_count": 106,
      "metadata": {
        "colab": {
          "base_uri": "https://localhost:8080/"
        },
        "id": "MAplf1JrvrzE",
        "outputId": "d2f63fc1-1012-4b7d-b8f6-d6875e5c7b20"
      },
      "outputs": [
        {
          "output_type": "stream",
          "name": "stdout",
          "text": [
            "41/41 [==============================] - 2s 31ms/step - loss: 0.4010 - accuracy: 0.8940 - precision_5: 0.8949 - recall_5: 0.8902 - f1_score: 0.8850\n",
            "Loss: 0.40096452832221985\n",
            "Accuracy: 0.8939740657806396\n",
            "Precision: 0.8949386477470398\n",
            "Recall: 0.8901602029800415\n",
            "F1-score: 0.8849865198135376\n"
          ]
        }
      ],
      "source": [
        "test_loss, test_accuracy, test_precision, test_recall, test_f1 = model.evaluate(test_data)\n",
        "print(f\"Loss: {test_loss}\")\n",
        "print(f\"Accuracy: {test_accuracy}\")\n",
        "print(f\"Precision: {test_precision}\")\n",
        "print(f\"Recall: {test_recall}\")\n",
        "print(f\"F1-score: {np.mean(test_f1)}\")"
      ]
    },
    {
      "cell_type": "markdown",
      "metadata": {
        "id": "xeqNGnDJBDme"
      },
      "source": [
        "##Matrice di confusione"
      ]
    },
    {
      "cell_type": "markdown",
      "metadata": {
        "id": "nQlquJARBXrH"
      },
      "source": [
        "creazione della matrice di confusione"
      ]
    },
    {
      "cell_type": "code",
      "execution_count": 100,
      "metadata": {
        "id": "OBrqV9rRA-j2"
      },
      "outputs": [],
      "source": [
        "previsioni_classe = []\n",
        "verita_terreno = []\n",
        "\n",
        "# Effettuare le previsioni su ogni batch\n",
        "for immagini, etichette in test_data:\n",
        "    preds = model.predict(immagini, verbose=0)\n",
        "    previsioni_classe.extend(np.argmax(preds, axis=1))\n",
        "    verita_terreno.extend(np.argmax(etichette.numpy(), axis=1))\n",
        "\n",
        "# Calcolare la matrice di confusione\n",
        "matrice_confusione = confusion_matrix(verita_terreno, previsioni_classe)"
      ]
    },
    {
      "cell_type": "markdown",
      "metadata": {
        "id": "7WS7WkghBOHJ"
      },
      "source": [
        "creazione del plot della matrice di confusione"
      ]
    },
    {
      "cell_type": "code",
      "execution_count": 101,
      "metadata": {
        "colab": {
          "base_uri": "https://localhost:8080/",
          "height": 807
        },
        "id": "A5kOBgZ8BMhx",
        "outputId": "1e5b9dc4-54aa-4def-da7c-cb5c30af2ada"
      },
      "outputs": [
        {
          "output_type": "display_data",
          "data": {
            "text/plain": [
              "<Figure size 1000x800 with 2 Axes>"
            ],
            "image/png": "[encoded data removed]"
          },
          "metadata": {}
        }
      ],
      "source": [
        "plt.figure(figsize=(10, 8))\n",
        "plt.imshow(matrice_confusione, interpolation='nearest', cmap=plt.cm.Blues)\n",
        "plt.title('Matrice di Confusione')\n",
        "plt.colorbar()\n",
        "\n",
        "# Aggiungere le etichette agli assi\n",
        "plt.xticks(np.arange(len(class_names)), class_names, rotation=45)\n",
        "plt.yticks(np.arange(len(class_names)), class_names)\n",
        "\n",
        "# Etichettare gli assi\n",
        "plt.xlabel('Previsioni')\n",
        "plt.ylabel('Verità Terreno')\n",
        "\n",
        "# Mostrare i numeri all'interno delle celle\n",
        "thresh = matrice_confusione.max() / 2.\n",
        "for i in range(matrice_confusione.shape[0]):\n",
        "    for j in range(matrice_confusione.shape[1]):\n",
        "        plt.text(j, i, format(matrice_confusione[i, j], 'd'),\n",
        "             horizontalalignment=\"center\",\n",
        "             color=\"white\" if matrice_confusione[i, j] > thresh else \"black\")\n",
        "\n",
        "plt.tight_layout()\n",
        "plt.show()"
      ]
    },
    {
      "cell_type": "markdown",
      "metadata": {
        "id": "xaSF2cIOvrzE"
      },
      "source": [
        "## Salvataggio dei dati"
      ]
    },
    {
      "cell_type": "markdown",
      "metadata": {
        "id": "JZC1SV8vvrzE"
      },
      "source": [
        "Per salvare i pesi del modello attuale su Google Drive:"
      ]
    },
    {
      "cell_type": "code",
      "execution_count": 102,
      "metadata": {
        "id": "Gf23ttDCvrzF",
        "colab": {
          "base_uri": "https://localhost:8080/"
        },
        "outputId": "8bd09978-f7a7-443f-df7e-c0ea48c609e5"
      },
      "outputs": [
        {
          "name": "stdout",
          "output_type": "stream",
          "text": [
            "Inserire il nome del file di salvataggio:\n",
            "only_aug_finale.keras\n"
          ]
        }
      ],
      "source": [
        "print(\"Inserire il nome del file di salvataggio:\")\n",
        "name = input()\n",
        "model.save_weights(name)\n",
        "saveWeights(name)"
      ]
    },
    {
      "cell_type": "markdown",
      "metadata": {
        "id": "yECF2VuUvrzF"
      },
      "source": [
        "Qualora si voglia salvare la history in un file .csv:"
      ]
    },
    {
      "cell_type": "code",
      "execution_count": 103,
      "metadata": {
        "id": "XhzoDLAYvrzF",
        "colab": {
          "base_uri": "https://localhost:8080/"
        },
        "outputId": "6495a278-e5d4-4fd4-df99-2b652cd7224b"
      },
      "outputs": [
        {
          "name": "stdout",
          "output_type": "stream",
          "text": [
            "only_aug_finale\n"
          ]
        }
      ],
      "source": [
        "nome = input()\n",
        "saveHistory(history, nome)"
      ]
    },
    {
      "cell_type": "markdown",
      "metadata": {
        "id": "ciNyOX0YvrzF"
      },
      "source": [
        "Qualora si voglia salvare l'evaluation in un file .csv:"
      ]
    },
    {
      "cell_type": "code",
      "execution_count": 104,
      "metadata": {
        "id": "zKfRse4evrzF",
        "colab": {
          "base_uri": "https://localhost:8080/"
        },
        "outputId": "16575366-0e09-4f4a-c24c-e155be750600"
      },
      "outputs": [
        {
          "name": "stdout",
          "output_type": "stream",
          "text": [
            "only_aug_finale\n"
          ]
        }
      ],
      "source": [
        "nome = input()\n",
        "saveEvaluation(test_loss, test_accuracy, test_f1, nome)"
      ]
    }
  ],
  "metadata": {
    "accelerator": "GPU",
    "colab": {
      "collapsed_sections": [
        "RbFNuOqQumCH",
        "CoAIb0btOJ3v",
        "yscm2LUE_FIY",
        "iXsgwW-5HDtf",
        "DruPGdce0mBH",
        "jVl53YKsu_XL",
        "xaSF2cIOvrzE"
      ],
      "gpuType": "T4",
      "provenance": [],
      "include_colab_link": true
    },
    "kernelspec": {
      "display_name": "Python 3",
      "name": "python3"
    },
    "language_info": {
      "name": "python"
    }
  },
  "nbformat": 4,
  "nbformat_minor": 0
}