{
  "nbformat": 4,
  "nbformat_minor": 0,
  "metadata": {
    "colab": {
      "provenance": [],
      "collapsed_sections": [
        "O7z7NR4rVeDS",
        "j52ovAYUU82x",
        "pEhMEgQpVWXD",
        "w9ucKk0QPQAK",
        "hIqmyJoHW-nZ",
        "KAlD5LPkXRL4",
        "jYMQlxOOXT-Q",
        "YbkFJrgCxAqF"
      ],
      "gpuType": "T4",
      "include_colab_link": true
    },
    "kernelspec": {
      "name": "python3",
      "display_name": "Python 3"
    },
    "language_info": {
      "name": "python"
    },
    "accelerator": "GPU"
  },
  "cells": [
    {
      "cell_type": "markdown",
      "metadata": {
        "id": "view-in-github",
        "colab_type": "text"
      },
      "source": [
        "<a href=\"https://colab.research.google.com/github/TheRoberto2512/DeepBrainMRI/blob/main/Dataset_(Download_%2B_Pre_Processing).ipynb\" target=\"_parent\"><img src=\"https://colab.research.google.com/assets/colab-badge.svg\" alt=\"Open In Colab\"/></a>"
      ]
    },
    {
      "cell_type": "markdown",
      "source": [
        "<font size=6>**SOMMARIO DEL NOTEBOOK**</font>\n",
        "\n",
        "In questo notebook sono presenti tutti i moduli relativi al download del dataset, all'analisi della distribuzione delle classi e ai vari tipi di pre-processamento. Inoltre è presente un modulo aggiuntivo per salvare una copia del dataset pre-processato su Google Drive, in modo da facilitare il caricamento sugli altri notebook senza dover rieffettuare download e/o pre-processing.\n",
        "\n",
        "\n",
        "**Indice:**\n",
        "*   [Installazione e import librerie](#1)\n",
        "*   [Download del dataset](#2)\n",
        "*   [Analisi del dataset](#3)\n",
        "*   [Bilanciamento](#4)\n",
        "*   [Salvataggio su Google Drive](#5)\n",
        "\n"
      ],
      "metadata": {
        "id": "dmyDZ1jAhvt4"
      }
    },
    {
      "cell_type": "markdown",
      "source": [
        "<a name=\"1\"></a>\n",
        "# Installazioni e import librerie"
      ],
      "metadata": {
        "id": "O7z7NR4rVeDS"
      }
    },
    {
      "cell_type": "code",
      "source": [
        "! pip install tensorflow-gpu==2.8.3"
      ],
      "metadata": {
        "id": "1zZQp9mW8SeG"
      },
      "execution_count": null,
      "outputs": []
    },
    {
      "cell_type": "code",
      "source": [
        "! pip install opendatasets                        # ci avvaliamo della libreria OpenDatasets per scaricare più facilmente il dataset da kaggle"
      ],
      "metadata": {
        "id": "18lkbDqEfUIn"
      },
      "execution_count": null,
      "outputs": []
    },
    {
      "cell_type": "code",
      "execution_count": null,
      "metadata": {
        "id": "OJV4desYe2bD"
      },
      "outputs": [],
      "source": [
        "from google.colab import drive, files\n",
        "import matplotlib.pyplot as plt\n",
        "import opendatasets as od\n",
        "import tensorflow as tf\n",
        "from PIL import Image\n",
        "import numpy as np\n",
        "import shutil\n",
        "import os"
      ]
    },
    {
      "cell_type": "code",
      "source": [
        "drive.mount(\"/content/drive\", force_remount=True) # montiamo Google Drive per poter salvare i dataset pre-processati"
      ],
      "metadata": {
        "id": "bKq0-An4gO8r"
      },
      "execution_count": null,
      "outputs": []
    },
    {
      "cell_type": "markdown",
      "source": [
        "<a name=\"2\"></a>\n",
        "#Download del dataset:"
      ],
      "metadata": {
        "id": "j52ovAYUU82x"
      }
    },
    {
      "cell_type": "markdown",
      "source": [
        "Inserire il file \"*kaggle.json*\" per poter scaricare il dataset. Fare riferimento alla <a href=\"https://github.com/TheRoberto2512/DeepBrainMRI?tab=readme-ov-file#installazione\">sezione installazione</a> qualora non lo si avesse."
      ],
      "metadata": {
        "id": "1Ahzu6alVK0M"
      }
    },
    {
      "cell_type": "code",
      "source": [
        "print(\"Caricare il file kaggle.json:\\n\")\n",
        "files.upload()"
      ],
      "metadata": {
        "id": "QfpXzLHxG06-"
      },
      "execution_count": null,
      "outputs": []
    },
    {
      "cell_type": "code",
      "source": [
        "od.download(\"https://www.kaggle.com/datasets/masoudnickparvar/brain-tumor-mri-dataset\")"
      ],
      "metadata": {
        "id": "ehuFfVYtg--k"
      },
      "execution_count": null,
      "outputs": []
    },
    {
      "cell_type": "markdown",
      "source": [
        "Impostiamo dei valori costanti per la corretta esecuzione del notebook."
      ],
      "metadata": {
        "id": "6obUlcuQhAIj"
      }
    },
    {
      "cell_type": "code",
      "source": [
        "base_datasets_path = \"/content/drive/My Drive/DeepBrainMRI/Datasets/\"             # eventualmente aggiornare col percorso della cartella su Drive\n",
        "\n",
        "BATCH_SIZE = 32                                                                   # specifichiamo la grandezza dei batch\n",
        "IMAGE_WIDTH, IMAGE_HEIGHT = 299, 299                                              # la dimensione delle immagini sarà 299×299\n",
        "\n",
        "IMAGE_SHAPE = (IMAGE_WIDTH, IMAGE_HEIGHT, 1)                                      # c'è solamente un canale perché importiamo in scala di grigi\n",
        "\n",
        "SEED = 2680                                                                       # seme per il dataset"
      ],
      "metadata": {
        "id": "HP_68KVwlqBK"
      },
      "execution_count": null,
      "outputs": []
    },
    {
      "cell_type": "markdown",
      "source": [
        "Creiamo train_data avvalendoci della funzione offerta da Keras."
      ],
      "metadata": {
        "id": "bjEJ0IRTmqxa"
      }
    },
    {
      "cell_type": "code",
      "source": [
        "train_data = tf.keras.utils.image_dataset_from_directory(                         # importiamo solamente il train data perché é l'unico che pre-processeremo\n",
        "    directory = '/content/brain-tumor-mri-dataset/Training/',                     # directory dov'è stato scaricato il dataset\n",
        "    labels='inferred',                                                            # le etichette vengono scelte in base ai nomi delle sotto-directory\n",
        "    label_mode= 'categorical',                                                    # le etichette vengono codificate come verroti one-hot encoding\n",
        "    color_mode='grayscale',                                                       # verrà usato un solo canale invece che 3\n",
        "    image_size=(IMAGE_WIDTH, IMAGE_HEIGHT),                                       # le immagini verranno ridimensionate alla dimensione scelta\n",
        "    batch_size = BATCH_SIZE,                                                      # le immagini vengono divise in batch di grandezza specificata\n",
        "    shuffle=False,                                                                # lascia le immagini nell'ordine di importazione\n",
        "    seed=SEED,                                                                    # impostiamo un numero a caso per poter replicare le stesse condizioni\n",
        "    crop_to_aspect_ratio=True,                                                    # ritaglia le immagini per mantenere il rapporto indicato\n",
        ")\n",
        "\n",
        "class_names = train_data.class_names                                              # salviamo i nomi delle classi\n",
        "tipo_dataset = 'base'                                                             # servirà per i salvataggi su Drive"
      ],
      "metadata": {
        "id": "odOI3WkXIBnC"
      },
      "execution_count": null,
      "outputs": []
    },
    {
      "cell_type": "markdown",
      "source": [
        "<a name=\"3\"></a>\n",
        "#Analisi del dataset:"
      ],
      "metadata": {
        "id": "pEhMEgQpVWXD"
      }
    },
    {
      "cell_type": "markdown",
      "source": [
        "Funzione per visualizzare il grafico a barre per la distribuzione delle classi."
      ],
      "metadata": {
        "id": "WdDAP_fVMSzi"
      }
    },
    {
      "cell_type": "code",
      "source": [
        "def printChart(dataset, title):\n",
        "  class_counts = {class_name: 0 for class_name in class_names}    # dizionario coi numeri degli elementi\n",
        "\n",
        "  for images, labels in dataset:                                  # Conta gli elementi per ogni classe\n",
        "      for label in labels:\n",
        "          class_name = class_names[tf.argmax(label, axis=-1)]\n",
        "          class_counts[class_name] += 1\n",
        "\n",
        "  sizes = list(class_counts.values())\n",
        "  colors = ['#d100aa', '#0070c0', '#ed7d31', '#00b050' ]          # colori per le barre\n",
        "\n",
        "  plt.figure(figsize=(6, 6))\n",
        "  plt.title(f\"{title}\\n\", fontweight='bold', fontsize=20)\n",
        "\n",
        "  bars = plt.bar(class_names, sizes, color=colors)\n",
        "  for bar in bars:\n",
        "      yval = bar.get_height()\n",
        "      plt.text(bar.get_x() + bar.get_width()/2.0, yval, \"%d\" % int(yval), va='bottom', ha='center', fontsize=12)\n",
        "      plt.text(bar.get_x() + bar.get_width()/2.0,  800, \"%.1f%% \" % (int(yval)/sum(sizes)*100), fontweight='bold', color='#ffffff', fontsize=14, va='bottom', ha='center')\n",
        "\n",
        "  plt.show()"
      ],
      "metadata": {
        "id": "_QPtIY4QSzH7"
      },
      "execution_count": null,
      "outputs": []
    },
    {
      "cell_type": "code",
      "source": [
        "printChart(train_data, \"Distribuzione delle classi nel training set\")"
      ],
      "metadata": {
        "id": "y_R0pMk_THwd",
        "colab": {
          "base_uri": "https://localhost:8080/",
          "height": 585
        },
        "outputId": "e9945c01-a8e5-430c-c3fb-b5f89656cd77"
      },
      "execution_count": null,
      "outputs": [
        {
          "output_type": "display_data",
          "data": {
            "text/plain": [
              "<Figure size 600x600 with 1 Axes>"
            ],
            "image/png": "[encoded data removed]"
          },
          "metadata": {}
        }
      ]
    },
    {
      "cell_type": "markdown",
      "source": [
        "Come possiamo osservare dal grafico a barre, le classi sono leggermente sbilanciate tra loro."
      ],
      "metadata": {
        "id": "Ffu_vXWkn17A"
      }
    },
    {
      "cell_type": "markdown",
      "source": [
        "<a name=\"4\"></a>\n",
        "#Bilanciamento"
      ],
      "metadata": {
        "id": "w9ucKk0QPQAK"
      }
    },
    {
      "cell_type": "markdown",
      "source": [
        "Prima splittiamo il train data in più elementi (in base alla classe) per facilitarci l'undersampling e/o la data augmentation."
      ],
      "metadata": {
        "id": "ilIs6uHzhlpU"
      }
    },
    {
      "cell_type": "code",
      "source": [
        "n_class = len(class_names)                            # ricaviamo il numero delle classi\n",
        "train_data_divisi = [None for i in range(n_class)]    # conterrà i diversi train_data splittati per classe\n",
        "campioni_per_classe = {}                              # conterrà il numero di elementi per ogni train_data\n",
        "\n",
        "train_data_divisi[0] = train_data.unbatch()           # unbatchamo il dataset per poterlo scorrere sequenzialmente\n",
        "\n",
        "i, x = 0, 0                                           # variabili di utiltà\n",
        "\n",
        "for _, labels in train_data.unbatch():                # scorriamo il dataset unbatchato (ordinato per classe)\n",
        "  if labels[x] != 1:                                  # scorriamo tutta la classe partendo dalla prima\n",
        "    train_data_divisi[x], train_data_divisi[x+1] = tf.keras.utils.split_dataset(train_data_divisi[x], left_size = i) # splittiamo il dataset\n",
        "    campioni_per_classe[class_names[x]] = i           # salviamo il numero di campioni per quella classe\n",
        "    print(f\"Ho messo in train_data_divisi[{x}]: {i} elementi ({class_names[x]})\")\n",
        "    x+=1\n",
        "    if x == (n_class-1):                              # se siamo arrivati all'ultima classe\n",
        "      campioni_per_classe[class_names[x]] = len(train_data_divisi[x])\n",
        "      print(f\"Ho messo in train_data_divisi[{n_class-1}]: {campioni_per_classe[class_names[x]]} elementi ({class_names[x]})\")\n",
        "      break\n",
        "    i=0\n",
        "  i+=1"
      ],
      "metadata": {
        "colab": {
          "base_uri": "https://localhost:8080/"
        },
        "outputId": "fb45ae93-9b23-41d9-ae81-0bbb13e078e5",
        "id": "eJ--F7sTm2Zg"
      },
      "execution_count": null,
      "outputs": [
        {
          "output_type": "stream",
          "name": "stdout",
          "text": [
            "Ho messo in train_data_divisi[0]: 1321 elementi (glioma)\n",
            "Ho messo in train_data_divisi[1]: 1339 elementi (meningioma)\n",
            "Ho messo in train_data_divisi[2]: 1595 elementi (notumor)\n",
            "Ho messo in train_data_divisi[3]: 1457 elementi (pituitary)\n"
          ]
        }
      ]
    },
    {
      "cell_type": "markdown",
      "source": [
        "In base al tipo di bilanciamento desiderato, possiamo scegliere direttamente di eseguire una tra queste 3 sezioni per intero."
      ],
      "metadata": {
        "id": "XejEgAerbRfl"
      }
    },
    {
      "cell_type": "markdown",
      "source": [
        "## Undersampling + Data Augmentation"
      ],
      "metadata": {
        "id": "hIqmyJoHW-nZ"
      }
    },
    {
      "cell_type": "code",
      "source": [
        "tipo_dataset = 'under+aug'\n",
        "campioni_per_classe = dict(sorted(campioni_per_classe.items(), key=lambda item: item[1])) # ordiniamo il dizionario per valore crescente\n",
        "campionamento_target = list(campioni_per_classe.values())[-2]                             # bilanciamo usando il penultimo come target\n",
        "sorted_names = list(campioni_per_classe.keys())\n",
        "\n",
        "# ordiniamo gli train_data_divisi in base al numero di elementi\n",
        "for i in range(n_class-1):\n",
        "  for j in range(n_class-1):\n",
        "    if len(train_data_divisi[j]) > len(train_data_divisi[j+1]):\n",
        "      train_data_divisi[j], train_data_divisi[j+1] = train_data_divisi[j+1], train_data_divisi[j]\n",
        "\n",
        "for i, (k, v) in enumerate(campioni_per_classe.items()):\n",
        "  bilanciamento = v - campionamento_target\n",
        "  if bilanciamento > 0:\n",
        "    train_data_divisi[i] = train_data_divisi[i].shuffle(v)            # shuffle degli elementi per variare l'undersampling\n",
        "    train_data_divisi[i] = train_data_divisi[i].skip(bilanciamento)   # skippiamo i primi elementi\n",
        "    print(f'Ho eliminato {bilanciamento} elementi da {sorted_names[i]}')"
      ],
      "metadata": {
        "colab": {
          "base_uri": "https://localhost:8080/"
        },
        "id": "JlHznvXWW_G5",
        "outputId": "bd707180-df1e-472a-83a1-64b87e94edc2"
      },
      "execution_count": null,
      "outputs": [
        {
          "output_type": "stream",
          "name": "stdout",
          "text": [
            "Ho eliminato 138 elementi da notumor\n"
          ]
        }
      ]
    },
    {
      "cell_type": "code",
      "source": [
        "data_gen = tf.keras.preprocessing.image.ImageDataGenerator(\n",
        "    rotation_range=10,     \t    # Rotazione casuale di +/- 10 gradi\n",
        "    zoom_range=0.1,        \t    # Zoom casuale fino al 10%\n",
        "    brightness_range=[0.8,1.2], # Regolazione della luminosità\n",
        ")"
      ],
      "metadata": {
        "id": "oju81BqoYeeM"
      },
      "execution_count": null,
      "outputs": []
    },
    {
      "cell_type": "code",
      "source": [
        "for i in range(len(train_data_divisi)):\n",
        "\n",
        "  generated_imgs, generated_lbls = [], []\n",
        "\n",
        "  if len(train_data_divisi[i]) < campionamento_target:                                # se dobbiamo generare nuove immagini\n",
        "    imgs_to_gen = campionamento_target - len(train_data_divisi[i])                    # calcoliamo quante ne vanno generate\n",
        "    train_data_divisi[i] = train_data_divisi[i].shuffle(len(train_data_divisi[i]), reshuffle_each_iteration = True)    # shuffle delle immagini\n",
        "\n",
        "    for j in range(0, imgs_to_gen):\n",
        "      immagine, label = next(iter(train_data_divisi[i]))                              # estraiamo un immagine e la sua label\n",
        "      new_image = data_gen.random_transform(immagine.numpy())                         # generiamo l'immagine\n",
        "      generated_imgs.append(new_image)\n",
        "      generated_lbls.append(label.numpy())\n",
        "\n",
        "    print(f'Ho generato {imgs_to_gen} immagini per la classe {sorted_names[i]}')\n",
        "    generated_imgs = tf.convert_to_tensor(generated_imgs, dtype=tf.float32)           # convertiamo in tensori\n",
        "    generated_lbls = tf.convert_to_tensor(generated_lbls, dtype=tf.float32)\n",
        "\n",
        "    generated_data = tf.data.Dataset.from_tensor_slices((generated_imgs, generated_lbls))\n",
        "    train_data_divisi[i] = train_data_divisi[i].concatenate(generated_data)\n",
        "    train_data_divisi[i] = train_data_divisi[i].shuffle(campionamento_target)\n",
        "    print(f'La classe {sorted_names[i]} ora dispone di {len(train_data_divisi[i])} immagini')"
      ],
      "metadata": {
        "colab": {
          "base_uri": "https://localhost:8080/"
        },
        "id": "m9tHxPVmYf_0",
        "outputId": "a5b79888-1cb0-432c-ca50-3a1433e6d85a"
      },
      "execution_count": null,
      "outputs": [
        {
          "output_type": "stream",
          "name": "stdout",
          "text": [
            "Ho generato 136 immagini per la classe glioma\n",
            "La classe glioma ora dispone di 1457 immagini\n",
            "Ho generato 118 immagini per la classe meningioma\n",
            "La classe meningioma ora dispone di 1457 immagini\n"
          ]
        }
      ]
    },
    {
      "cell_type": "markdown",
      "source": [
        "##SOLO Undersampling"
      ],
      "metadata": {
        "id": "KAlD5LPkXRL4"
      }
    },
    {
      "cell_type": "code",
      "source": [
        "tipo_dataset = 'only_under'\n",
        "campioni_per_classe = dict(sorted(campioni_per_classe.items(), key=lambda item: item[1])) # ordiniamo il dizionario per valore crescente\n",
        "campionamento_target = list(campioni_per_classe.values())[0]                              # bilanciamo usando primo come target (classe minoritaria)\n",
        "sorted_names = list(campioni_per_classe.keys())\n",
        "\n",
        "# ordiniamo gli train_data_divisi in base al numero di elementi\n",
        "for i in range(n_class-1):\n",
        "  for j in range(n_class-1):\n",
        "    if len(train_data_divisi[j]) > len(train_data_divisi[j+1]):\n",
        "      train_data_divisi[j], train_data_divisi[j+1] = train_data_divisi[j+1], train_data_divisi[j]\n",
        "\n",
        "for i, (k, v) in enumerate(campioni_per_classe.items()):\n",
        "  bilanciamento = v - campionamento_target\n",
        "  if bilanciamento > 0:\n",
        "    train_data_divisi[i] = train_data_divisi[i].shuffle(v)            # shuffle degli elementi per variare l'undersampling\n",
        "    train_data_divisi[i] = train_data_divisi[i].skip(bilanciamento)   # skippiamo i primi elementi\n",
        "    print(f'Ho eliminato {bilanciamento} elementi da {sorted_names[i]}')"
      ],
      "metadata": {
        "id": "RMkLIg1nXTq3",
        "colab": {
          "base_uri": "https://localhost:8080/"
        },
        "outputId": "d32b69a2-69a7-429d-f6cd-8d63efbacb9e"
      },
      "execution_count": null,
      "outputs": [
        {
          "output_type": "stream",
          "name": "stdout",
          "text": [
            "Ho eliminato 18 elementi da meningioma\n",
            "Ho eliminato 136 elementi da pituitary\n",
            "Ho eliminato 274 elementi da notumor\n"
          ]
        }
      ]
    },
    {
      "cell_type": "markdown",
      "source": [
        "## SOLO Data Augmentation"
      ],
      "metadata": {
        "id": "jYMQlxOOXT-Q"
      }
    },
    {
      "cell_type": "code",
      "source": [
        "tipo_dataset = 'only_aug'\n",
        "campioni_per_classe = dict(sorted(campioni_per_classe.items(), key=lambda item: item[1])) # ordiniamo il dizionario per valore crescente\n",
        "campionamento_target = list(campioni_per_classe.values())[-1]                             # bilanciamo usando l'ultimo come target (classe maggioritaria)\n",
        "sorted_names = list(campioni_per_classe.keys())\n",
        "\n",
        "# ordiniamo i train_data_divisi in base al numero di elementi\n",
        "for i in range(n_class-1):\n",
        "  for j in range(n_class-1):\n",
        "    if len(train_data_divisi[j]) > len(train_data_divisi[j+1]):\n",
        "      train_data_divisi[j], train_data_divisi[j+1] = train_data_divisi[j+1], train_data_divisi[j]"
      ],
      "metadata": {
        "id": "qp9Y5Vb5Zqc5"
      },
      "execution_count": null,
      "outputs": []
    },
    {
      "cell_type": "code",
      "source": [
        "data_gen = tf.keras.preprocessing.image.ImageDataGenerator(\n",
        "    rotation_range=10,     \t    # Rotazione casuale di +/- 10 gradi\n",
        "    zoom_range=0.1,        \t    # Zoom casuale fino al 10%\n",
        "    brightness_range=[0.8,1.2], # Regolazione della luminosità\n",
        ")"
      ],
      "metadata": {
        "id": "27VAICzdXVc3"
      },
      "execution_count": null,
      "outputs": []
    },
    {
      "cell_type": "code",
      "source": [
        "for i in range(len(train_data_divisi)):\n",
        "  generated_imgs, generated_lbls = [], []\n",
        "\n",
        "  if len(train_data_divisi[i]) < campionamento_target:                                # se dobbiamo generare nuove immagini\n",
        "    imgs_to_gen = campionamento_target - len(train_data_divisi[i])                    # calcoliamo quante ne vanno generate\n",
        "    train_data_divisi[i] = train_data_divisi[i].shuffle(len(train_data_divisi[i]), reshuffle_each_iteration = True)    # shuffle delle immagini\n",
        "\n",
        "    for j in range(0, imgs_to_gen):\n",
        "      immagine, label = next(iter(train_data_divisi[i]))                              # estraiamo un immagine e la sua label\n",
        "      new_image = data_gen.random_transform(immagine.numpy())                         # generiamo l'immagine\n",
        "      generated_imgs.append(new_image)\n",
        "      generated_lbls.append(label.numpy())\n",
        "\n",
        "    print(f'Ho generato {imgs_to_gen} immagini per la classe {sorted_names[i]}')\n",
        "    generated_imgs = tf.convert_to_tensor(generated_imgs, dtype=tf.float32)           # convertiamo in tensori\n",
        "    generated_lbls = tf.convert_to_tensor(generated_lbls, dtype=tf.float32)\n",
        "\n",
        "    generated_data = tf.data.Dataset.from_tensor_slices((generated_imgs, generated_lbls))\n",
        "    train_data_divisi[i] = train_data_divisi[i].concatenate(generated_data)\n",
        "    train_data_divisi[i] = train_data_divisi[i].shuffle(campionamento_target)\n",
        "    print(f'La classe {sorted_names[i]} ora dispone di {len(train_data_divisi[i])} immagini\\n')"
      ],
      "metadata": {
        "id": "uy3itYMkZX4j",
        "colab": {
          "base_uri": "https://localhost:8080/"
        },
        "outputId": "d0da7003-513b-4312-8f5c-40166faea4ca"
      },
      "execution_count": null,
      "outputs": [
        {
          "output_type": "stream",
          "name": "stdout",
          "text": [
            "Ho generato 274 immagini per la classe glioma\n",
            "La classe glioma ora dispone di 1595 immagini\n",
            "Ho generato 256 immagini per la classe meningioma\n",
            "La classe meningioma ora dispone di 1595 immagini\n",
            "Ho generato 138 immagini per la classe pituitary\n",
            "La classe pituitary ora dispone di 1595 immagini\n"
          ]
        }
      ]
    },
    {
      "cell_type": "markdown",
      "source": [
        "<a name=\"5\"></a>\n",
        "# Salvataggio del dataset su Google Drive"
      ],
      "metadata": {
        "id": "YbkFJrgCxAqF"
      }
    },
    {
      "cell_type": "markdown",
      "source": [
        "Per salvare TUTTO il dataset non pre-processato:"
      ],
      "metadata": {
        "id": "VzNAK0wEWftP"
      }
    },
    {
      "cell_type": "code",
      "source": [
        "if not os.path.exists(base_datasets_path): # se non esiste la cartella dei Datasets...\n",
        "  os.makedirs(base_datasets_path)          # la crea\n",
        "\n",
        "if not os.path.exists(f\"{base_datasets_path}/DATASET_BASE/\"):                     # se non esiste la cartella per questo tipo di dataset...\n",
        "  os.makedirs(f\"{base_datasets_path}/DATASET_BASE/\")                              # la crea\n",
        "\n",
        "shutil.copytree(\"/content/brain-tumor-mri-dataset/\", f\"{base_datasets_path}/DATASET_BASE/\", dirs_exist_ok=True)"
      ],
      "metadata": {
        "id": "uj6qzd0CWtfl"
      },
      "execution_count": null,
      "outputs": []
    },
    {
      "cell_type": "markdown",
      "source": [
        "Per salvare solamente un train_data pre-processato:"
      ],
      "metadata": {
        "id": "RrQhHES6Y-ji"
      }
    },
    {
      "cell_type": "code",
      "source": [
        "if tipo_dataset == 'base':                                                        # il dataset base può essere salvato più facilmente con la cella sopra\n",
        "  print('Usare la cella sopra per salvare il dataset senza pre-processing!')\n",
        "else:\n",
        "  this_dataset_folder = base_datasets_path + tipo_dataset + '/'\n",
        "\n",
        "  if not os.path.exists(base_datasets_path):                                      # se non esiste la cartella dei Datasets...\n",
        "    os.makedirs(base_datasets_path)                                               # la crea\n",
        "\n",
        "  if not os.path.exists(this_dataset_folder):                                     # se non esiste la cartella per questo tipo di dataset...\n",
        "    os.makedirs(this_dataset_folder)                                              # la crea\n",
        "\n",
        "  for i in range(len(sorted_names)):\n",
        "    if not os.path.exists(this_dataset_folder + f'{sorted_names[i]}/'):           # se non esiste la cartella per questa classe\n",
        "      os.makedirs(this_dataset_folder + f'{sorted_names[i]}/')                    # la crea\n",
        "\n",
        "    for j, (image, label) in enumerate(train_data_divisi[i]):                     # scorre il dataset immagine per immagine\n",
        "      numpy_image = image.numpy()\n",
        "      numpy_image = numpy_image[:,:,0]                                            # taglia l'ultima dimensione (quella dei canali)\n",
        "\n",
        "      img = Image.fromarray(numpy_image.astype(\"uint8\"), 'L')\n",
        "      img.save(this_dataset_folder + f'{sorted_names[i]}/' + f'img_{j}.jpg')\n",
        "      print(f'Ho salvato img_{j}.jpg dentro la cartella: {this_dataset_folder}{sorted_names[i]}/')"
      ],
      "metadata": {
        "id": "tJrFGOmQtE4c"
      },
      "execution_count": null,
      "outputs": []
    }
  ]
}