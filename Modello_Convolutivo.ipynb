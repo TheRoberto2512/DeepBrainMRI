{
  "cells": [
    {
      "cell_type": "markdown",
      "metadata": {
        "id": "view-in-github",
        "colab_type": "text"
      },
      "source": [
        "<a href=\"https://colab.research.google.com/github/TheRoberto2512/DeepBrainMRI/blob/main/Modello_Convolutivo.ipynb\" target=\"_parent\"><img src=\"https://colab.research.google.com/assets/colab-badge.svg\" alt=\"Open In Colab\"/></a>"
      ]
    },
    {
      "cell_type": "markdown",
      "metadata": {
        "id": "B-fgOvz6tw0S"
      },
      "source": [
        "<font size=6>**SOMMARIO DEL NOTEBOOK**</font>\n",
        "\n",
        "In questo notebook viene costruito un modello Convolutivo sfruttando tutte le best practices per le reti convolutive: connessioni residue, normalizzazione batch e convoluzioni separabili. Per maggiori informazioni riguardo le scelte intraprese fare riferimento al report finale.\n",
        "\n",
        "\n",
        "**Indice:**\n",
        "*   [Installazioni, import librerie e funzioni utili](#1)\n",
        "*   [Caricamento del Dataset](#2)\n",
        "*   [Modello Convolutivo](#3)\n",
        "*   [Risultati dell'addestramento](#4)\n",
        "*   [Modello Finale](#5)\n",
        "\n"
      ]
    },
    {
      "cell_type": "markdown",
      "metadata": {
        "id": "RbFNuOqQumCH"
      },
      "source": [
        "<a name=\"1\"></a>\n",
        "# Installazioni, import librerie e funzioni utili"
      ]
    },
    {
      "cell_type": "code",
      "execution_count": null,
      "metadata": {
        "id": "g2FjUBluZ4WL"
      },
      "outputs": [],
      "source": [
        "! pip install tensorflow-gpu==2.8.3"
      ]
    },
    {
      "cell_type": "code",
      "execution_count": null,
      "metadata": {
        "id": "vHEXJnfs4sAg"
      },
      "outputs": [],
      "source": [
        "from sklearn.metrics import confusion_matrix                                      # per la matrice di confusione\n",
        "from google.colab import drive, files\n",
        "import matplotlib.pyplot as plt\n",
        "import tensorflow as tf\n",
        "import pandas as pd                                                               # per gestire la serializzazione/deserializzazione dei risultati\n",
        "import numpy as np\n",
        "import shutil                                                                     # per fare spostamenti e copie tra drive e colab\n",
        "import os                                                                         # per gestire le cartelle dei dataset"
      ]
    },
    {
      "cell_type": "code",
      "execution_count": null,
      "metadata": {
        "id": "0gyHgKp1kXUl"
      },
      "outputs": [],
      "source": [
        "drive.mount(\"/content/drive\", force_remount=True)                                 # montiamo il drive per prelevare i dataset"
      ]
    },
    {
      "cell_type": "markdown",
      "metadata": {
        "id": "2KlCXPLPauIc"
      },
      "source": [
        "Qualora la cartella principale del progetto non si trovi nella home di Google Drive, personalizzare la seguente stringa:"
      ]
    },
    {
      "cell_type": "code",
      "execution_count": null,
      "metadata": {
        "id": "-ydu4EeZarbW",
        "cellView": "form"
      },
      "outputs": [],
      "source": [
        "#@title Qualora la cartella principale del progetto non si trovi nella home di Google Drive, personalizzare la seguente stringa:\n",
        "\n",
        "main_folder_path = '/content/drive/MyDrive/DeepBrainMRI' #@param {type:\"string\"}"
      ]
    },
    {
      "cell_type": "markdown",
      "metadata": {
        "id": "R3FTjVxC2Q1e"
      },
      "source": [
        "Le seguenti funzioni servono per salvare/caricare facilmente le history, le evaluation e i pesi del modello su Google Drive."
      ]
    },
    {
      "cell_type": "code",
      "execution_count": null,
      "metadata": {
        "id": "jMTtYWk3ofu6"
      },
      "outputs": [],
      "source": [
        "result_folder_path = f\"{main_folder_path}/Risultati vari/Convolutivo\"\n",
        "saved_weights_path = f\"{main_folder_path}/Saved Weights/Convolutivo\"\n",
        "dataset_directory = ''\n",
        "\n",
        "def saveHistory(history, nomeFile):                                               # funzione per salvare la history di un addestramento\n",
        "  if not os.path.exists(result_folder_path):\n",
        "     os.makedirs(result_folder_path)\n",
        "  history_df = pd.DataFrame.from_dict(history.history)\n",
        "  history_df.to_csv(result_folder_path + f\"/{dataset_directory}_{nomeFile}_history.csv\", index=False)\n",
        "\n",
        "def loadHistory(nomeFile):                                                        # funzione per caricare la history di un addestramento\n",
        "  if os.path.exists(result_folder_path):\n",
        "    return pd.read_csv(f\"{result_folder_path}/{dataset_directory}_{nomeFile}_history.csv\").to_dict()\n",
        "  else:\n",
        "    raise Exception(\"Cartella inesistente!\")\n",
        "\n",
        "def saveEvaluation(loss, acc, f1, nomeFile):                                      # funzione per salvare il risultato di un evaluation\n",
        "  if not os.path.exists(result_folder_path):\n",
        "     os.makedirs(result_folder_path)\n",
        "  evaluation = {}\n",
        "  evaluation['loss'] = loss\n",
        "  evaluation['accuracy'] = acc\n",
        "  evaluation['f1_score'] = f1\n",
        "  evaluation_df = pd.DataFrame.from_dict(evaluation)\n",
        "  evaluation_df.to_csv(result_folder_path + f\"/{dataset_directory}_{nomeFile}_evaluation.csv\", index=False)\n",
        "\n",
        "def loadEvaluation(nomeFile):                                                     # funzione per caricare il risultato di un evaluation\n",
        "  if os.path.exists(result_folder_path):\n",
        "    return pd.read_csv(f\"{result_folder_path}/{dataset_directory}_{nomeFile}_evaluation.csv\").to_dict()\n",
        "  else:\n",
        "    raise Exception(\"Cartella inesistente!\")\n",
        "\n",
        "def saveWeights(nomeFile):                                                        # funzione per salvare il file dei pesi su drive\n",
        "  if not os.path.exists(saved_weights_path):\n",
        "    os.makedirs(saved_weights_path)\n",
        "  shutil.copy(nomeFile, f\"{saved_weights_path}\")\n",
        "\n",
        "def loadWeights(nomeFile):                                                        # funzione per caricare il file dei pesi da drive\n",
        "  if os.path.exists(saved_weights_path):\n",
        "    shutil.copy(f\"{saved_weights_path}/{nomeFile}\", '/content/')\n",
        "  else:\n",
        "    raise Exception(\"Cartella inesistente!\")"
      ]
    },
    {
      "cell_type": "markdown",
      "metadata": {
        "id": "CoAIb0btOJ3v"
      },
      "source": [
        "<a name=\"2\"></a>\n",
        "# Caricamento del Dataset\n"
      ]
    },
    {
      "cell_type": "markdown",
      "metadata": {
        "id": "bV7HEE24wtaN"
      },
      "source": [
        "Impostiamo dei valori costanti per la corretta esecuzione del notebook."
      ]
    },
    {
      "cell_type": "code",
      "execution_count": null,
      "metadata": {
        "id": "Xa9Wu8OTkI6L",
        "cellView": "form"
      },
      "outputs": [],
      "source": [
        "#@title Impostiamo dei valori costanti per la corretta esecuzione del notebook.\n",
        "base_datasets_path = f\"{main_folder_path}/Datasets/\"\n",
        "\n",
        "BATCH_SIZE = 32 #@param {type: \"integer\"}                       # specifichiamo la grandezza dei batch\n",
        "IMAGE_WIDTH = 299 #@param {type: \"integer\"}\n",
        "IMAGE_HEIGHT = 299 #@param {type: \"integer\"}\n",
        "\n",
        "IMAGE_SHAPE = (IMAGE_WIDTH, IMAGE_HEIGHT, 1)                    # c'è solamente un canale perché importiamo in scala di grigi\n",
        "\n",
        "SEED = 2680 #@param {type: \"integer\"}                           # seme per poter replicare le stesse condizioni del dataset"
      ]
    },
    {
      "cell_type": "markdown",
      "metadata": {
        "id": "RmNoR6GQV3Ip"
      },
      "source": [
        "Scegliere il tipo di dataset (train_data) che si vuole importare:"
      ]
    },
    {
      "cell_type": "code",
      "execution_count": null,
      "metadata": {
        "id": "7tz8Z7CVUHa5"
      },
      "outputs": [],
      "source": [
        "dataset_directory = 'under+aug'                                 # dataset con undersampling e data augmentation"
      ]
    },
    {
      "cell_type": "code",
      "execution_count": null,
      "metadata": {
        "id": "sItt93jMUHTx"
      },
      "outputs": [],
      "source": [
        "dataset_directory = 'only_under'                                # dataset con SOLO undersampling"
      ]
    },
    {
      "cell_type": "code",
      "execution_count": null,
      "metadata": {
        "id": "2KMRhjrZUHFC"
      },
      "outputs": [],
      "source": [
        "dataset_directory = 'only_aug'                                  # dataset con solo data augmentation"
      ]
    },
    {
      "cell_type": "code",
      "execution_count": null,
      "metadata": {
        "id": "KCYbpUL9UOJx"
      },
      "outputs": [],
      "source": [
        "dataset_directory = 'base'                                      # dataset base (non pre-processato)"
      ]
    },
    {
      "cell_type": "markdown",
      "metadata": {
        "id": "o15rMj1yW4dx"
      },
      "source": [
        "Istruzioni per importare il dataset. **Sono richiesti fino a 2-3 minuti a seconda del dataset!**"
      ]
    },
    {
      "cell_type": "code",
      "execution_count": null,
      "metadata": {
        "colab": {
          "base_uri": "https://localhost:8080/"
        },
        "id": "OxiN7dfF1ppu",
        "outputId": "e3d2c55b-d414-4142-c3a3-1ec64522f431"
      },
      "outputs": [
        {
          "output_type": "stream",
          "name": "stdout",
          "text": [
            "Ho importato il training set 'base' nella cartella /content/dataset/base/Training\n",
            "Ho importato il test set nella cartella /content/dataset/base/Testing\n"
          ]
        }
      ],
      "source": [
        "destinazione = f\"/content/dataset/{dataset_directory}\"\n",
        "\n",
        "if dataset_directory != 'base':\n",
        "  shutil.copytree(f'{base_datasets_path}{dataset_directory}', f'{destinazione}/Training', dirs_exist_ok=True)     # train_data pre-processato\n",
        "else:\n",
        "  shutil.copytree(f'{base_datasets_path}DATASET_BASE/Training', f'{destinazione}/Training', dirs_exist_ok=True)   # train_data base\n",
        "print(f\"Ho importato il training set \\'{dataset_directory}\\' nella cartella {destinazione}/Training\")\n",
        "\n",
        "shutil.copytree(f'{base_datasets_path}DATASET_BASE/Testing', f'{destinazione}/Testing', dirs_exist_ok=True)       # importa il test_data\n",
        "print(f\"Ho importato il test set nella cartella {destinazione}/Testing\")"
      ]
    },
    {
      "cell_type": "code",
      "execution_count": null,
      "metadata": {
        "colab": {
          "base_uri": "https://localhost:8080/"
        },
        "id": "AuOXlzlTUgRZ",
        "outputId": "d3db7ad2-2ed1-4cf9-82d9-441b6698e72c"
      },
      "outputs": [
        {
          "output_type": "stream",
          "name": "stdout",
          "text": [
            "Found 5712 files belonging to 4 classes.\n",
            "Found 1311 files belonging to 4 classes.\n",
            "\n",
            "Ho caricato train_data e test_data dalla cartella /content/dataset/base\n"
          ]
        }
      ],
      "source": [
        "train_data = tf.keras.utils.image_dataset_from_directory(\n",
        "    directory = f'{destinazione}/Training',\n",
        "    labels='inferred',\n",
        "    label_mode='categorical',\n",
        "    color_mode='grayscale',\n",
        "    image_size=(IMAGE_WIDTH, IMAGE_HEIGHT),\n",
        "    batch_size = BATCH_SIZE,\n",
        "    shuffle=True,\n",
        "    seed=SEED,\n",
        "    crop_to_aspect_ratio=True,\n",
        ")\n",
        "\n",
        "test_data = tf.keras.utils.image_dataset_from_directory(\n",
        "    directory = f'{destinazione}/Testing',\n",
        "    labels='inferred',\n",
        "    label_mode='categorical',\n",
        "    color_mode='grayscale',\n",
        "    image_size=(IMAGE_WIDTH, IMAGE_HEIGHT),\n",
        "    batch_size = BATCH_SIZE,\n",
        "    shuffle=True,\n",
        "    seed=SEED,\n",
        "    crop_to_aspect_ratio=True,\n",
        ")\n",
        "\n",
        "class_names = test_data.class_names\n",
        "print(\"\\nHo caricato train_data e test_data dalla cartella %s\" % destinazione)"
      ]
    },
    {
      "cell_type": "markdown",
      "metadata": {
        "id": "43vS2nFkl2EK"
      },
      "source": [
        "Stampando la shape di un batch di immagini possiamo notare che corrisponderà a:\n",
        "\n",
        "(**BATCH_SIZE**, **IMAGE_WIDTH**, **IMAGE_HEIGHT**, **1**)"
      ]
    },
    {
      "cell_type": "code",
      "execution_count": null,
      "metadata": {
        "colab": {
          "base_uri": "https://localhost:8080/"
        },
        "id": "bKzBxP6sPW_5",
        "outputId": "982ae466-b754-4e3b-9ab1-f2212a3f31b2"
      },
      "outputs": [
        {
          "output_type": "stream",
          "name": "stdout",
          "text": [
            "(32, 299, 299, 1)\n"
          ]
        }
      ],
      "source": [
        "for img, lbl in train_data.take(1):\n",
        "  print(img.shape)"
      ]
    },
    {
      "cell_type": "markdown",
      "metadata": {
        "id": "yscm2LUE_FIY"
      },
      "source": [
        "<a name=\"3\"></a>\n",
        "# Modello Convolutivo"
      ]
    },
    {
      "cell_type": "code",
      "execution_count": null,
      "metadata": {
        "id": "qRpYcwiFUsyi"
      },
      "outputs": [],
      "source": [
        "def residual_block(x, filters):\n",
        "  residual = x\n",
        "  x = tf.keras.layers.BatchNormalization()(x)\n",
        "  x = tf.keras.layers.Activation(\"relu\")(x)\n",
        "  x = tf.keras.layers.SeparableConv2D(filters, 3, padding=\"same\", use_bias=False)(x)\n",
        "  x = tf.keras.layers.BatchNormalization()(x)\n",
        "  x = tf.keras.layers.Activation(\"relu\")(x)\n",
        "  x = tf.keras.layers.SeparableConv2D(filters, 3, padding=\"same\", use_bias=False)(x)\n",
        "  x = tf.keras.layers.MaxPooling2D(3, strides=2, padding=\"same\")(x)\n",
        "  residual = tf.keras.layers.Conv2D(filters, 1, strides=2, padding=\"same\", use_bias=False)(residual)\n",
        "  x = tf.keras.layers.add([x, residual])\n",
        "  return x"
      ]
    },
    {
      "cell_type": "code",
      "execution_count": null,
      "metadata": {
        "id": "Eoq65pDQ_LHu"
      },
      "outputs": [],
      "source": [
        "inputs = tf.keras.Input(shape=IMAGE_SHAPE)\n",
        "x = tf.keras.layers.Rescaling(1./255)(inputs)\n",
        "\n",
        "x = tf.keras.layers.Conv2D(filters=32, kernel_size=5, use_bias=False)(x)\n",
        "\n",
        "for filters in [32, 64, 128, 256, 512]:\n",
        "  x = residual_block(x, filters)\n",
        "\n",
        "x = tf.keras.layers.GlobalMaxPooling2D()(x)\n",
        "x = tf.keras.layers.Dropout(0.5)(x)\n",
        "\n",
        "outputs = tf.keras.layers.Dense(4, activation=\"softmax\")(x)\n",
        "model = tf.keras.Model(inputs=inputs, outputs=outputs)"
      ]
    },
    {
      "cell_type": "code",
      "execution_count": null,
      "metadata": {
        "id": "6qItqXVPaFtE",
        "colab": {
          "base_uri": "https://localhost:8080/"
        },
        "outputId": "7a0e9bca-913f-4871-ac3c-bca21daacd38"
      },
      "outputs": [
        {
          "output_type": "stream",
          "name": "stdout",
          "text": [
            "Model: \"model\"\n",
            "__________________________________________________________________________________________________\n",
            " Layer (type)                Output Shape                 Param #   Connected to                  \n",
            "==================================================================================================\n",
            " input_1 (InputLayer)        [(None, 299, 299, 1)]        0         []                            \n",
            "                                                                                                  \n",
            " rescaling (Rescaling)       (None, 299, 299, 1)          0         ['input_1[0][0]']             \n",
            "                                                                                                  \n",
            " conv2d (Conv2D)             (None, 295, 295, 32)         800       ['rescaling[0][0]']           \n",
            "                                                                                                  \n",
            " batch_normalization (Batch  (None, 295, 295, 32)         128       ['conv2d[0][0]']              \n",
            " Normalization)                                                                                   \n",
            "                                                                                                  \n",
            " activation (Activation)     (None, 295, 295, 32)         0         ['batch_normalization[0][0]'] \n",
            "                                                                                                  \n",
            " separable_conv2d (Separabl  (None, 295, 295, 32)         1312      ['activation[0][0]']          \n",
            " eConv2D)                                                                                         \n",
            "                                                                                                  \n",
            " batch_normalization_1 (Bat  (None, 295, 295, 32)         128       ['separable_conv2d[0][0]']    \n",
            " chNormalization)                                                                                 \n",
            "                                                                                                  \n",
            " activation_1 (Activation)   (None, 295, 295, 32)         0         ['batch_normalization_1[0][0]'\n",
            "                                                                    ]                             \n",
            "                                                                                                  \n",
            " separable_conv2d_1 (Separa  (None, 295, 295, 32)         1312      ['activation_1[0][0]']        \n",
            " bleConv2D)                                                                                       \n",
            "                                                                                                  \n",
            " max_pooling2d (MaxPooling2  (None, 148, 148, 32)         0         ['separable_conv2d_1[0][0]']  \n",
            " D)                                                                                               \n",
            "                                                                                                  \n",
            " conv2d_1 (Conv2D)           (None, 148, 148, 32)         1024      ['conv2d[0][0]']              \n",
            "                                                                                                  \n",
            " add (Add)                   (None, 148, 148, 32)         0         ['max_pooling2d[0][0]',       \n",
            "                                                                     'conv2d_1[0][0]']            \n",
            "                                                                                                  \n",
            " batch_normalization_2 (Bat  (None, 148, 148, 32)         128       ['add[0][0]']                 \n",
            " chNormalization)                                                                                 \n",
            "                                                                                                  \n",
            " activation_2 (Activation)   (None, 148, 148, 32)         0         ['batch_normalization_2[0][0]'\n",
            "                                                                    ]                             \n",
            "                                                                                                  \n",
            " separable_conv2d_2 (Separa  (None, 148, 148, 64)         2336      ['activation_2[0][0]']        \n",
            " bleConv2D)                                                                                       \n",
            "                                                                                                  \n",
            " batch_normalization_3 (Bat  (None, 148, 148, 64)         256       ['separable_conv2d_2[0][0]']  \n",
            " chNormalization)                                                                                 \n",
            "                                                                                                  \n",
            " activation_3 (Activation)   (None, 148, 148, 64)         0         ['batch_normalization_3[0][0]'\n",
            "                                                                    ]                             \n",
            "                                                                                                  \n",
            " separable_conv2d_3 (Separa  (None, 148, 148, 64)         4672      ['activation_3[0][0]']        \n",
            " bleConv2D)                                                                                       \n",
            "                                                                                                  \n",
            " max_pooling2d_1 (MaxPoolin  (None, 74, 74, 64)           0         ['separable_conv2d_3[0][0]']  \n",
            " g2D)                                                                                             \n",
            "                                                                                                  \n",
            " conv2d_2 (Conv2D)           (None, 74, 74, 64)           2048      ['add[0][0]']                 \n",
            "                                                                                                  \n",
            " add_1 (Add)                 (None, 74, 74, 64)           0         ['max_pooling2d_1[0][0]',     \n",
            "                                                                     'conv2d_2[0][0]']            \n",
            "                                                                                                  \n",
            " batch_normalization_4 (Bat  (None, 74, 74, 64)           256       ['add_1[0][0]']               \n",
            " chNormalization)                                                                                 \n",
            "                                                                                                  \n",
            " activation_4 (Activation)   (None, 74, 74, 64)           0         ['batch_normalization_4[0][0]'\n",
            "                                                                    ]                             \n",
            "                                                                                                  \n",
            " separable_conv2d_4 (Separa  (None, 74, 74, 128)          8768      ['activation_4[0][0]']        \n",
            " bleConv2D)                                                                                       \n",
            "                                                                                                  \n",
            " batch_normalization_5 (Bat  (None, 74, 74, 128)          512       ['separable_conv2d_4[0][0]']  \n",
            " chNormalization)                                                                                 \n",
            "                                                                                                  \n",
            " activation_5 (Activation)   (None, 74, 74, 128)          0         ['batch_normalization_5[0][0]'\n",
            "                                                                    ]                             \n",
            "                                                                                                  \n",
            " separable_conv2d_5 (Separa  (None, 74, 74, 128)          17536     ['activation_5[0][0]']        \n",
            " bleConv2D)                                                                                       \n",
            "                                                                                                  \n",
            " max_pooling2d_2 (MaxPoolin  (None, 37, 37, 128)          0         ['separable_conv2d_5[0][0]']  \n",
            " g2D)                                                                                             \n",
            "                                                                                                  \n",
            " conv2d_3 (Conv2D)           (None, 37, 37, 128)          8192      ['add_1[0][0]']               \n",
            "                                                                                                  \n",
            " add_2 (Add)                 (None, 37, 37, 128)          0         ['max_pooling2d_2[0][0]',     \n",
            "                                                                     'conv2d_3[0][0]']            \n",
            "                                                                                                  \n",
            " batch_normalization_6 (Bat  (None, 37, 37, 128)          512       ['add_2[0][0]']               \n",
            " chNormalization)                                                                                 \n",
            "                                                                                                  \n",
            " activation_6 (Activation)   (None, 37, 37, 128)          0         ['batch_normalization_6[0][0]'\n",
            "                                                                    ]                             \n",
            "                                                                                                  \n",
            " separable_conv2d_6 (Separa  (None, 37, 37, 256)          33920     ['activation_6[0][0]']        \n",
            " bleConv2D)                                                                                       \n",
            "                                                                                                  \n",
            " batch_normalization_7 (Bat  (None, 37, 37, 256)          1024      ['separable_conv2d_6[0][0]']  \n",
            " chNormalization)                                                                                 \n",
            "                                                                                                  \n",
            " activation_7 (Activation)   (None, 37, 37, 256)          0         ['batch_normalization_7[0][0]'\n",
            "                                                                    ]                             \n",
            "                                                                                                  \n",
            " separable_conv2d_7 (Separa  (None, 37, 37, 256)          67840     ['activation_7[0][0]']        \n",
            " bleConv2D)                                                                                       \n",
            "                                                                                                  \n",
            " max_pooling2d_3 (MaxPoolin  (None, 19, 19, 256)          0         ['separable_conv2d_7[0][0]']  \n",
            " g2D)                                                                                             \n",
            "                                                                                                  \n",
            " conv2d_4 (Conv2D)           (None, 19, 19, 256)          32768     ['add_2[0][0]']               \n",
            "                                                                                                  \n",
            " add_3 (Add)                 (None, 19, 19, 256)          0         ['max_pooling2d_3[0][0]',     \n",
            "                                                                     'conv2d_4[0][0]']            \n",
            "                                                                                                  \n",
            " batch_normalization_8 (Bat  (None, 19, 19, 256)          1024      ['add_3[0][0]']               \n",
            " chNormalization)                                                                                 \n",
            "                                                                                                  \n",
            " activation_8 (Activation)   (None, 19, 19, 256)          0         ['batch_normalization_8[0][0]'\n",
            "                                                                    ]                             \n",
            "                                                                                                  \n",
            " separable_conv2d_8 (Separa  (None, 19, 19, 512)          133376    ['activation_8[0][0]']        \n",
            " bleConv2D)                                                                                       \n",
            "                                                                                                  \n",
            " batch_normalization_9 (Bat  (None, 19, 19, 512)          2048      ['separable_conv2d_8[0][0]']  \n",
            " chNormalization)                                                                                 \n",
            "                                                                                                  \n",
            " activation_9 (Activation)   (None, 19, 19, 512)          0         ['batch_normalization_9[0][0]'\n",
            "                                                                    ]                             \n",
            "                                                                                                  \n",
            " separable_conv2d_9 (Separa  (None, 19, 19, 512)          266752    ['activation_9[0][0]']        \n",
            " bleConv2D)                                                                                       \n",
            "                                                                                                  \n",
            " max_pooling2d_4 (MaxPoolin  (None, 10, 10, 512)          0         ['separable_conv2d_9[0][0]']  \n",
            " g2D)                                                                                             \n",
            "                                                                                                  \n",
            " conv2d_5 (Conv2D)           (None, 10, 10, 512)          131072    ['add_3[0][0]']               \n",
            "                                                                                                  \n",
            " add_4 (Add)                 (None, 10, 10, 512)          0         ['max_pooling2d_4[0][0]',     \n",
            "                                                                     'conv2d_5[0][0]']            \n",
            "                                                                                                  \n",
            " global_max_pooling2d (Glob  (None, 512)                  0         ['add_4[0][0]']               \n",
            " alMaxPooling2D)                                                                                  \n",
            "                                                                                                  \n",
            " dropout (Dropout)           (None, 512)                  0         ['global_max_pooling2d[0][0]']\n",
            "                                                                                                  \n",
            " dense (Dense)               (None, 4)                    2052      ['dropout[0][0]']             \n",
            "                                                                                                  \n",
            "==================================================================================================\n",
            "Total params: 721796 (2.75 MB)\n",
            "Trainable params: 718788 (2.74 MB)\n",
            "Non-trainable params: 3008 (11.75 KB)\n",
            "__________________________________________________________________________________________________\n"
          ]
        }
      ],
      "source": [
        "model.summary()"
      ]
    },
    {
      "cell_type": "code",
      "execution_count": null,
      "metadata": {
        "id": "6fpaOJoz_OkH"
      },
      "outputs": [],
      "source": [
        "callbacks = [\n",
        "    tf.keras.callbacks.ModelCheckpoint(filepath=\"Convolutivo.keras\", save_best_only=True, monitor=\"val_loss\"),  # salviamo i pesi dell'epoca con la val_loss minore\n",
        "]"
      ]
    },
    {
      "cell_type": "code",
      "source": [
        "lr_schedule = tf.keras.optimizers.schedules.ExponentialDecay(\n",
        "    0.008,                                                                        # learning rate iniziale\n",
        "    decay_steps=len(train_data)*5,                                                # ogni quanto si decrementa il learning rate\n",
        "    decay_rate=0.5,                                                               # tasso di decremento\n",
        "    staircase=True)                                                               # decrementa a intervalli discreti"
      ],
      "metadata": {
        "id": "VL18WTH9OIHJ"
      },
      "execution_count": null,
      "outputs": []
    },
    {
      "cell_type": "code",
      "execution_count": null,
      "metadata": {
        "id": "Zfh6oQwh_PUu"
      },
      "outputs": [],
      "source": [
        "model.compile(loss='kullback_leibler_divergence', optimizer=tf.keras.optimizers.Adamax(learning_rate=lr_schedule), metrics=['accuracy', tf.keras.metrics.Precision(), tf.keras.metrics.Recall(), tf.keras.metrics.F1Score()]) # Compila il modello"
      ]
    },
    {
      "cell_type": "code",
      "execution_count": null,
      "metadata": {
        "id": "uBxgSmB1zntW"
      },
      "outputs": [],
      "source": [
        "total_batches = tf.data.experimental.cardinality(train_data).numpy()              # calcola il numero totale di batch nel dataset\n",
        "\n",
        "validation_size = int(0.2 * total_batches)                                        # imposta una percentuale per il validation set (20%)\n",
        "\n",
        "# separa i dataset di training e validation\n",
        "validation_data = train_data.take(validation_size)\n",
        "train_data = train_data.skip(validation_size)"
      ]
    },
    {
      "cell_type": "code",
      "execution_count": null,
      "metadata": {
        "id": "Q_n396sR_QSu",
        "colab": {
          "base_uri": "https://localhost:8080/"
        },
        "outputId": "aaca267f-8ef8-43af-f547-8bafe8a4dbce"
      },
      "outputs": [
        {
          "output_type": "stream",
          "name": "stdout",
          "text": [
            "Epoch 1/20\n",
            "93/93 [==============================] - 46s 371ms/step - loss: 1.4466 - accuracy: 0.5382 - precision_3: 0.5803 - recall_3: 0.4527 - f1_score: 0.5345 - val_loss: 1.4598 - val_accuracy: 0.2609 - val_precision_3: 0.0000e+00 - val_recall_3: 0.0000e+00 - val_f1_score: 0.1036\n",
            "Epoch 2/20\n",
            "93/93 [==============================] - 36s 356ms/step - loss: 0.8081 - accuracy: 0.6885 - precision_3: 0.7316 - recall_3: 0.6372 - f1_score: 0.6821 - val_loss: 1.6213 - val_accuracy: 0.3723 - val_precision_3: 0.5056 - val_recall_3: 0.1223 - val_f1_score: 0.2658\n",
            "Epoch 3/20\n",
            "93/93 [==============================] - 38s 372ms/step - loss: 0.7907 - accuracy: 0.7064 - precision_3: 0.7365 - recall_3: 0.6686 - f1_score: 0.7010 - val_loss: 1.4761 - val_accuracy: 0.4728 - val_precision_3: 0.5034 - val_recall_3: 0.4062 - val_f1_score: 0.3873\n",
            "Epoch 4/20\n",
            "93/93 [==============================] - 38s 379ms/step - loss: 0.9235 - accuracy: 0.6726 - precision_3: 0.7032 - recall_3: 0.6355 - f1_score: 0.6671 - val_loss: 1.7598 - val_accuracy: 0.5177 - val_precision_3: 0.5279 - val_recall_3: 0.4878 - val_f1_score: 0.4112\n",
            "Epoch 5/20\n",
            "93/93 [==============================] - 39s 384ms/step - loss: 0.8958 - accuracy: 0.6794 - precision_3: 0.6998 - recall_3: 0.6449 - f1_score: 0.6719 - val_loss: 3.2254 - val_accuracy: 0.2962 - val_precision_3: 0.3116 - val_recall_3: 0.2921 - val_f1_score: 0.1478\n",
            "Epoch 6/20\n",
            "93/93 [==============================] - 39s 391ms/step - loss: 0.7037 - accuracy: 0.7490 - precision_3: 0.7771 - recall_3: 0.7186 - f1_score: 0.7426 - val_loss: 1.0027 - val_accuracy: 0.5965 - val_precision_3: 0.6403 - val_recall_3: 0.5272 - val_f1_score: 0.5412\n",
            "Epoch 7/20\n",
            "93/93 [==============================] - 39s 390ms/step - loss: 0.4763 - accuracy: 0.8220 - precision_3: 0.8471 - recall_3: 0.8014 - f1_score: 0.8168 - val_loss: 0.9857 - val_accuracy: 0.6114 - val_precision_3: 0.6282 - val_recall_3: 0.5992 - val_f1_score: 0.5395\n",
            "Epoch 8/20\n",
            "93/93 [==============================] - 38s 376ms/step - loss: 0.3646 - accuracy: 0.8642 - precision_3: 0.8752 - recall_3: 0.8503 - f1_score: 0.8596 - val_loss: 0.5236 - val_accuracy: 0.7921 - val_precision_3: 0.8045 - val_recall_3: 0.7772 - val_f1_score: 0.7609\n",
            "Epoch 9/20\n",
            "93/93 [==============================] - 38s 381ms/step - loss: 0.3282 - accuracy: 0.8791 - precision_3: 0.8908 - recall_3: 0.8625 - f1_score: 0.8755 - val_loss: 0.4865 - val_accuracy: 0.8084 - val_precision_3: 0.8222 - val_recall_3: 0.7853 - val_f1_score: 0.7888\n",
            "Epoch 10/20\n",
            "93/93 [==============================] - 38s 377ms/step - loss: 0.3048 - accuracy: 0.8855 - precision_3: 0.8950 - recall_3: 0.8780 - f1_score: 0.8821 - val_loss: 0.9693 - val_accuracy: 0.6087 - val_precision_3: 0.6393 - val_recall_3: 0.5924 - val_f1_score: 0.5376\n",
            "Epoch 11/20\n",
            "93/93 [==============================] - 38s 377ms/step - loss: 0.2883 - accuracy: 0.8929 - precision_3: 0.9023 - recall_3: 0.8828 - f1_score: 0.8895 - val_loss: 0.4344 - val_accuracy: 0.8356 - val_precision_3: 0.8487 - val_recall_3: 0.8234 - val_f1_score: 0.8264\n",
            "Epoch 12/20\n",
            "93/93 [==============================] - 38s 376ms/step - loss: 0.2856 - accuracy: 0.8936 - precision_3: 0.9011 - recall_3: 0.8865 - f1_score: 0.8910 - val_loss: 0.9987 - val_accuracy: 0.6685 - val_precision_3: 0.6740 - val_recall_3: 0.6658 - val_f1_score: 0.5943\n",
            "Epoch 13/20\n",
            "93/93 [==============================] - 38s 379ms/step - loss: 0.2542 - accuracy: 0.9095 - precision_3: 0.9151 - recall_3: 0.9030 - f1_score: 0.9073 - val_loss: 0.2718 - val_accuracy: 0.8777 - val_precision_3: 0.8951 - val_recall_3: 0.8696 - val_f1_score: 0.8709\n",
            "Epoch 14/20\n",
            "93/93 [==============================] - 38s 378ms/step - loss: 0.1345 - accuracy: 0.9557 - precision_3: 0.9576 - recall_3: 0.9527 - f1_score: 0.9545 - val_loss: 0.3826 - val_accuracy: 0.8465 - val_precision_3: 0.8534 - val_recall_3: 0.8383 - val_f1_score: 0.8212\n",
            "Epoch 15/20\n",
            "93/93 [==============================] - 38s 379ms/step - loss: 0.1036 - accuracy: 0.9639 - precision_3: 0.9681 - recall_3: 0.9625 - f1_score: 0.9626 - val_loss: 0.2208 - val_accuracy: 0.9361 - val_precision_3: 0.9370 - val_recall_3: 0.9293 - val_f1_score: 0.9323\n",
            "Epoch 16/20\n",
            "93/93 [==============================] - 38s 374ms/step - loss: 0.0941 - accuracy: 0.9679 - precision_3: 0.9698 - recall_3: 0.9649 - f1_score: 0.9670 - val_loss: 0.2519 - val_accuracy: 0.9130 - val_precision_3: 0.9253 - val_recall_3: 0.9090 - val_f1_score: 0.9089\n",
            "Epoch 17/20\n",
            "93/93 [==============================] - 38s 375ms/step - loss: 0.1074 - accuracy: 0.9618 - precision_3: 0.9637 - recall_3: 0.9595 - f1_score: 0.9607 - val_loss: 0.3302 - val_accuracy: 0.9062 - val_precision_3: 0.9093 - val_recall_3: 0.8995 - val_f1_score: 0.9016\n",
            "Epoch 18/20\n",
            "93/93 [==============================] - 38s 376ms/step - loss: 0.0906 - accuracy: 0.9699 - precision_3: 0.9709 - recall_3: 0.9689 - f1_score: 0.9690 - val_loss: 0.2631 - val_accuracy: 0.9239 - val_precision_3: 0.9263 - val_recall_3: 0.9226 - val_f1_score: 0.9189\n",
            "Epoch 19/20\n",
            "93/93 [==============================] - 38s 381ms/step - loss: 0.0723 - accuracy: 0.9753 - precision_3: 0.9789 - recall_3: 0.9740 - f1_score: 0.9747 - val_loss: 0.2119 - val_accuracy: 0.9280 - val_precision_3: 0.9292 - val_recall_3: 0.9266 - val_f1_score: 0.9230\n",
            "Epoch 20/20\n",
            "93/93 [==============================] - 38s 378ms/step - loss: 0.0308 - accuracy: 0.9892 - precision_3: 0.9899 - recall_3: 0.9892 - f1_score: 0.9888 - val_loss: 0.1713 - val_accuracy: 0.9429 - val_precision_3: 0.9467 - val_recall_3: 0.9416 - val_f1_score: 0.9403\n"
          ]
        }
      ],
      "source": [
        "epochs = 20\n",
        "history = model.fit(train_data, epochs=epochs, validation_data=validation_data, callbacks=callbacks)"
      ]
    },
    {
      "cell_type": "markdown",
      "metadata": {
        "id": "eNGdbzZ6dpvH"
      },
      "source": [
        "Per ricaricare i pesi che hanno performato meglio durante l'addestramento:"
      ]
    },
    {
      "cell_type": "code",
      "execution_count": null,
      "metadata": {
        "id": "blvDMilYB8I2"
      },
      "outputs": [],
      "source": [
        "model = tf.keras.models.load_model(\"Convolutivo.keras\")"
      ]
    },
    {
      "cell_type": "markdown",
      "metadata": {
        "id": "iNxyAAbDduAO"
      },
      "source": [
        "Se invece si volessero caricare dei pesi da Google Drive:"
      ]
    },
    {
      "cell_type": "code",
      "execution_count": null,
      "metadata": {
        "id": "ncC_Z7XnON5D"
      },
      "outputs": [],
      "source": [
        "print(\"Inserire il nome del file di salvataggio:\")\n",
        "name = input()\n",
        "loadWeights(name)\n",
        "model.load_weights(name)"
      ]
    },
    {
      "cell_type": "markdown",
      "metadata": {
        "id": "s9UWv3DmfE2x"
      },
      "source": [
        "Per valutare le performance del modello:"
      ]
    },
    {
      "cell_type": "code",
      "execution_count": null,
      "metadata": {
        "colab": {
          "base_uri": "https://localhost:8080/"
        },
        "id": "-RHYNYbvnoHs",
        "outputId": "4456306a-cca3-4ba1-d2d2-2f5338ff23a4"
      },
      "outputs": [
        {
          "output_type": "stream",
          "name": "stdout",
          "text": [
            "41/41 [==============================] - 3s 75ms/step - loss: 0.0918 - accuracy: 0.9756 - precision_1: 0.9763 - recall_1: 0.9756 - f1_score: 0.9744\n",
            "Loss: 0.09181986004114151\n",
            "Accuracy: 0.9755911231040955\n",
            "Precision: 0.976335883140564\n",
            "Recall: 0.9755911231040955\n",
            "F1-score: 0.9744447469711304\n"
          ]
        }
      ],
      "source": [
        "test_loss, test_accuracy, test_precision, test_recall, test_f1 =  model.evaluate(test_data)\n",
        "\n",
        "print(f\"Loss: {test_loss}\")\n",
        "print(f\"Accuracy: {test_accuracy}\")\n",
        "print(f\"Precision: {test_precision}\")\n",
        "print(f\"Recall: {test_recall}\")\n",
        "print(f\"F1-score: {np.mean(test_f1)}\")"
      ]
    },
    {
      "cell_type": "markdown",
      "source": [
        "## Salvataggio dei dati"
      ],
      "metadata": {
        "id": "iXsgwW-5HDtf"
      }
    },
    {
      "cell_type": "markdown",
      "source": [
        "Per salvare i pesi del modello attuale su Google Drive:"
      ],
      "metadata": {
        "id": "eCNtEmUcea8F"
      }
    },
    {
      "cell_type": "code",
      "source": [
        "print(\"Inserire il nome del file di salvataggio (deve terminare con .keras):\")\n",
        "name = input()\n",
        "model.save_weights(name)\n",
        "saveWeights(name)"
      ],
      "metadata": {
        "id": "7m29kh_VeiMt"
      },
      "execution_count": null,
      "outputs": []
    },
    {
      "cell_type": "markdown",
      "source": [
        "Qualora si voglia salvare la history in un file .csv:"
      ],
      "metadata": {
        "id": "LvSFbBURG6Fg"
      }
    },
    {
      "cell_type": "code",
      "source": [
        "nome = input()\n",
        "saveHistory(history, nome)"
      ],
      "metadata": {
        "id": "3ee7jdjb3-cj"
      },
      "execution_count": null,
      "outputs": []
    },
    {
      "cell_type": "markdown",
      "source": [
        "Qualora si voglia salvare l'evaluation in un file .csv:"
      ],
      "metadata": {
        "id": "ITA7ao01G88X"
      }
    },
    {
      "cell_type": "code",
      "source": [
        "nome = input()\n",
        "saveEvaluation(test_loss, test_accuracy, test_f1, nome)"
      ],
      "metadata": {
        "id": "HCoGk5hl5Ac0"
      },
      "execution_count": null,
      "outputs": []
    },
    {
      "cell_type": "markdown",
      "metadata": {
        "id": "DruPGdce0mBH"
      },
      "source": [
        "<a name=\"4\"></a>\n",
        "# Risultati dell'addestramento"
      ]
    },
    {
      "cell_type": "markdown",
      "metadata": {
        "id": "Fhr0sng6mLjq"
      },
      "source": [
        "## History dell'addestramento appena concluso"
      ]
    },
    {
      "cell_type": "code",
      "execution_count": null,
      "metadata": {
        "id": "L21tXdY5mPUU"
      },
      "outputs": [],
      "source": [
        "acc = history.history['accuracy']\n",
        "val_acc = history.history['val_accuracy']\n",
        "loss = history.history['loss']\n",
        "val_loss = history.history['val_loss']\n",
        "f1_score = []\n",
        "val_f1_score = []\n",
        "\n",
        "epochs = range(1, len(acc) + 1)\n",
        "\n",
        "for i in range(len(acc)):\n",
        "  f1_score.append(np.mean(history.history['f1_score'][i]))\n",
        "  val_f1_score.append(np.mean(history.history['val_f1_score'][i]))"
      ]
    },
    {
      "cell_type": "markdown",
      "metadata": {
        "id": "dNxf6FuBmPhk"
      },
      "source": [
        "## History di un addestramento passato (da caricare)"
      ]
    },
    {
      "cell_type": "markdown",
      "metadata": {
        "id": "WDsXnHaXfo73"
      },
      "source": [
        "Per ricaricare una history precedente:"
      ]
    },
    {
      "cell_type": "code",
      "execution_count": null,
      "metadata": {
        "id": "YLBGeqpnfrfN"
      },
      "outputs": [],
      "source": [
        "print(\"Inserire il nome del file history da caricare:\")\n",
        "nomeFile = input()\n",
        "history = loadHistory(nomeFile)"
      ]
    },
    {
      "cell_type": "code",
      "execution_count": null,
      "metadata": {
        "id": "1jqWOtbXkgOL"
      },
      "outputs": [],
      "source": [
        "acc, val_acc, loss, val_loss = [], [], [], []\n",
        "for i in range(0, len(history['accuracy'])):\n",
        "  acc.append(history['accuracy'][i])\n",
        "  val_acc.append(history['val_accuracy'][i])\n",
        "  loss.append(history['loss'][i])\n",
        "  val_loss.append(history['val_loss'][i])\n",
        "\n",
        "epochs = range(1, len(acc)+1)\n",
        "\n",
        "f1_score, val_f1_score = [], []\n",
        "\n",
        "for i in range(len(acc)):\n",
        "  f1_score.append(np.mean([float(x) for x in history['f1_score'][i].replace('[', '').replace(']', '').split()]))\n",
        "  val_f1_score.append(np.mean([float(x) for x in history['val_f1_score'][i].replace('[', '').replace(']', '').split()]))"
      ]
    },
    {
      "cell_type": "markdown",
      "metadata": {
        "id": "iqqFqvLwmTRb"
      },
      "source": [
        "## Plot dei risultati"
      ]
    },
    {
      "cell_type": "code",
      "execution_count": null,
      "metadata": {
        "colab": {
          "base_uri": "https://localhost:8080/",
          "height": 565
        },
        "id": "mRSWHzz9iANi",
        "outputId": "81bee544-ad5f-4b69-ff14-5d942452ea49"
      },
      "outputs": [
        {
          "output_type": "display_data",
          "data": {
            "text/plain": [
              "<Figure size 2100x600 with 3 Axes>"
            ],
            "image/png": "[encoded data removed]"
          },
          "metadata": {}
        }
      ],
      "source": [
        "# Creazione del grafico per l'accuracy\n",
        "plt.figure(figsize=(21, 6))\n",
        "plt.subplot(1, 3, 1)\n",
        "plt.plot(epochs, acc, 'r', label='Training accuracy')\n",
        "plt.plot(epochs, val_acc, 'b', label='Validation accuracy')\n",
        "plt.title('Accuracy')\n",
        "\n",
        "plt.plot(np.argmax((val_acc))+1, np.max(val_acc), 'o', color='#00b050', label='Best Epoch')\n",
        "\n",
        "plt.legend()\n",
        "plt.xlim([1, np.max(epochs)])\n",
        "plt.ylim([0.82, 1])\n",
        "plt.grid()\n",
        "\n",
        "# Creazione del grafico per il loss\n",
        "plt.subplot(1, 3, 2)\n",
        "plt.plot(epochs, loss, 'r', label='Training loss')\n",
        "plt.plot(epochs, val_loss, 'b', label='Validation loss')\n",
        "plt.title('Loss')\n",
        "\n",
        "plt.plot(np.argmin((val_loss))+1, np.min(val_loss), 'o', color='#00b050', label='Best Epoch')\n",
        "\n",
        "plt.legend()\n",
        "plt.xlim([1, np.max(epochs)])\n",
        "plt.ylim([0, 0.4])\n",
        "plt.grid()\n",
        "\n",
        "# Creazione del grafico per l'F1 score\n",
        "plt.subplot(1, 3, 3)\n",
        "plt.plot(epochs, f1_score, 'r', label='Training F1 score')\n",
        "plt.plot(epochs, val_f1_score, 'b', label='Validation F1 score')\n",
        "plt.title('F1 score')\n",
        "\n",
        "plt.plot(np.argmax((val_f1_score))+1, np.max(val_f1_score), 'o', color='#00b050', label='Best Epoch')\n",
        "\n",
        "plt.legend()\n",
        "plt.xlim([1, np.max(epochs)])\n",
        "plt.ylim([0.82, 1])\n",
        "plt.grid()\n",
        "\n",
        "plt.show()"
      ]
    },
    {
      "cell_type": "markdown",
      "source": [
        "<a name=\"5\"></a>\n",
        "# Modello finale"
      ],
      "metadata": {
        "id": "pyxqQ7UUX0EA"
      }
    },
    {
      "cell_type": "markdown",
      "source": [
        "Una volta valutate i migliori iperparametri per il nostro modello, lo riaddestriamo interamente sul training set senza nessun validation.\n",
        "<font color='#c00000'>**ATTENZIONE**:</font> Ricaricare il test data se è stato splittato precedentemente per il validation!"
      ],
      "metadata": {
        "id": "VaRGjlpCX2nH"
      }
    },
    {
      "cell_type": "code",
      "execution_count": null,
      "metadata": {
        "id": "HPeooqwEZo3q"
      },
      "outputs": [],
      "source": [
        "def residual_block(x, filters):\n",
        "  residual = x\n",
        "  x = tf.keras.layers.BatchNormalization()(x)\n",
        "  x = tf.keras.layers.Activation(\"relu\")(x)\n",
        "  x = tf.keras.layers.SeparableConv2D(filters, 3, padding=\"same\", use_bias=False)(x)\n",
        "  x = tf.keras.layers.BatchNormalization()(x)\n",
        "  x = tf.keras.layers.Activation(\"relu\")(x)\n",
        "  x = tf.keras.layers.SeparableConv2D(filters, 3, padding=\"same\", use_bias=False)(x)\n",
        "  x = tf.keras.layers.MaxPooling2D(3, strides=2, padding=\"same\")(x)\n",
        "  residual = tf.keras.layers.Conv2D(filters, 1, strides=2, padding=\"same\", use_bias=False)(residual)\n",
        "  x = tf.keras.layers.add([x, residual])\n",
        "  return x"
      ]
    },
    {
      "cell_type": "code",
      "execution_count": null,
      "metadata": {
        "id": "XnuhJG-QZo3q"
      },
      "outputs": [],
      "source": [
        "inputs = tf.keras.Input(shape=IMAGE_SHAPE)\n",
        "x = tf.keras.layers.Rescaling(1./255)(inputs)\n",
        "\n",
        "x = tf.keras.layers.Conv2D(filters=32, kernel_size=5, use_bias=False)(x)\n",
        "\n",
        "for filters in [32, 64, 128, 256, 512]:\n",
        "  x = residual_block(x, filters)\n",
        "\n",
        "x = tf.keras.layers.GlobalMaxPooling2D()(x)\n",
        "x = tf.keras.layers.Dropout(0.5)(x)\n",
        "\n",
        "outputs = tf.keras.layers.Dense(4, activation=\"softmax\")(x)\n",
        "model = tf.keras.Model(inputs=inputs, outputs=outputs)"
      ]
    },
    {
      "cell_type": "code",
      "execution_count": null,
      "metadata": {
        "id": "A8wXLEnnZo3r"
      },
      "outputs": [],
      "source": [
        "callbacks = [\n",
        "    tf.keras.callbacks.ModelCheckpoint(filepath=\"Convolutivo_Finale.keras\", save_best_only=True, monitor=\"loss\"),  # salviamo i pesi dell'epoca con la loss minore\n",
        "]"
      ]
    },
    {
      "cell_type": "code",
      "source": [
        "lr_schedule = tf.keras.optimizers.schedules.ExponentialDecay(\n",
        "    0.008,\n",
        "    decay_steps=len(train_data)*5,\n",
        "    decay_rate=0.5,\n",
        "    staircase=True)"
      ],
      "metadata": {
        "id": "QmigtfGiZo3r"
      },
      "execution_count": null,
      "outputs": []
    },
    {
      "cell_type": "code",
      "execution_count": null,
      "metadata": {
        "id": "EmJ9rMQzZo3r"
      },
      "outputs": [],
      "source": [
        "model.compile(loss='kullback_leibler_divergence', optimizer=tf.keras.optimizers.Adamax(learning_rate=lr_schedule), metrics=['accuracy', tf.keras.metrics.Precision(), tf.keras.metrics.Recall(), tf.keras.metrics.F1Score()]) # Compila il modello"
      ]
    },
    {
      "cell_type": "code",
      "execution_count": null,
      "metadata": {
        "id": "YS8iOpGtZo3r"
      },
      "outputs": [],
      "source": [
        "epochs = 20\n",
        "history = model.fit(train_data, epochs=epochs, callbacks=callbacks)"
      ]
    },
    {
      "cell_type": "markdown",
      "source": [
        "Per ricaricare i pesi che hanno performato meglio durante l'addestramento:"
      ],
      "metadata": {
        "id": "eVYEq0Bi4KrM"
      }
    },
    {
      "cell_type": "code",
      "source": [
        "model = tf.keras.models.load_model(\"Convolutivo_Finale.keras\")"
      ],
      "metadata": {
        "id": "qlgo1xozaUn5"
      },
      "execution_count": null,
      "outputs": []
    },
    {
      "cell_type": "markdown",
      "source": [
        "Se invece si volessero caricare dei pesi da Google Drive:"
      ],
      "metadata": {
        "id": "ExRX5_yYvrzD"
      }
    },
    {
      "cell_type": "code",
      "source": [
        "print(\"Inserire il nome del file di salvataggio:\")\n",
        "name = input()\n",
        "loadWeights(name)\n",
        "model.load_weights(name)"
      ],
      "metadata": {
        "id": "muS-40RivrzD"
      },
      "execution_count": null,
      "outputs": []
    },
    {
      "cell_type": "markdown",
      "source": [
        "Per valutare le performance del modello:"
      ],
      "metadata": {
        "id": "JIl704yH4Rxc"
      }
    },
    {
      "cell_type": "code",
      "source": [
        "test_loss, test_accuracy, test_precision, test_recall, test_f1 =  model.evaluate(test_data)\n",
        "\n",
        "print(f\"Loss: {test_loss}\")\n",
        "print(f\"Accuracy: {test_accuracy}\")\n",
        "print(f\"Precision: {test_precision}\")\n",
        "print(f\"Recall: {test_recall}\")\n",
        "print(f\"F1-score: {np.mean(test_f1)}\")"
      ],
      "metadata": {
        "colab": {
          "base_uri": "https://localhost:8080/"
        },
        "id": "OtbS8qWNZyKG",
        "outputId": "c6f46f9c-6a6c-4c54-cb54-15fb2ca9a9c4"
      },
      "execution_count": null,
      "outputs": [
        {
          "output_type": "stream",
          "name": "stdout",
          "text": [
            "41/41 [==============================] - 4s 71ms/step - loss: 0.0715 - accuracy: 0.9840 - precision_2: 0.9840 - recall_2: 0.9832 - f1_score: 0.9830\n",
            "Loss: 0.07145624607801437\n",
            "Accuracy: 0.9839816689491272\n",
            "Precision: 0.9839694499969482\n",
            "Recall: 0.9832189083099365\n",
            "F1-score: 0.9829752445220947\n"
          ]
        }
      ]
    },
    {
      "cell_type": "markdown",
      "source": [
        "##Matrice di confusione"
      ],
      "metadata": {
        "id": "xeqNGnDJBDme"
      }
    },
    {
      "cell_type": "markdown",
      "source": [
        "Creazione della matrice di confusione:"
      ],
      "metadata": {
        "id": "nQlquJARBXrH"
      }
    },
    {
      "cell_type": "code",
      "source": [
        "previsioni_classe = []\n",
        "verita_terreno = []\n",
        "\n",
        "# Effettuare le previsioni su ogni batch\n",
        "for immagini, etichette in test_data:\n",
        "    preds = model.predict(immagini, verbose=0)\n",
        "    previsioni_classe.extend(np.argmax(preds, axis=1))\n",
        "    verita_terreno.extend(np.argmax(etichette.numpy(), axis=1))\n",
        "\n",
        "# Calcolare la matrice di confusione\n",
        "matrice_confusione = confusion_matrix(verita_terreno, previsioni_classe)"
      ],
      "metadata": {
        "id": "OBrqV9rRA-j2"
      },
      "execution_count": null,
      "outputs": []
    },
    {
      "cell_type": "markdown",
      "source": [
        "Creazione del plot della matrice di confusione:"
      ],
      "metadata": {
        "id": "7WS7WkghBOHJ"
      }
    },
    {
      "cell_type": "code",
      "source": [
        "plt.figure(figsize=(10, 8))\n",
        "plt.imshow(matrice_confusione, interpolation='nearest', cmap=plt.cm.Blues)\n",
        "plt.title('Matrice di Confusione')\n",
        "plt.colorbar()\n",
        "\n",
        "# Aggiungere le etichette agli assi\n",
        "plt.xticks(np.arange(len(class_names)), class_names, rotation=45)\n",
        "plt.yticks(np.arange(len(class_names)), class_names)\n",
        "\n",
        "# Etichettare gli assi\n",
        "plt.xlabel('Previsioni')\n",
        "plt.ylabel('Verità Terreno')\n",
        "\n",
        "# Mostrare i numeri all'interno delle celle\n",
        "thresh = matrice_confusione.max() / 2.\n",
        "for i in range(matrice_confusione.shape[0]):\n",
        "    for j in range(matrice_confusione.shape[1]):\n",
        "        plt.text(j, i, format(matrice_confusione[i, j], 'd'),\n",
        "             horizontalalignment=\"center\",\n",
        "             color=\"white\" if matrice_confusione[i, j] > thresh else \"black\")\n",
        "\n",
        "plt.tight_layout()\n",
        "plt.show()"
      ],
      "metadata": {
        "colab": {
          "base_uri": "https://localhost:8080/",
          "height": 807
        },
        "id": "A5kOBgZ8BMhx",
        "outputId": "8e1507b2-1c7e-4faf-cd54-a980bd7bc3f5"
      },
      "execution_count": null,
      "outputs": [
        {
          "output_type": "display_data",
          "data": {
            "text/plain": [
              "<Figure size 1000x800 with 2 Axes>"
            ],
            "image/png": "[encoded data removed]"
          },
          "metadata": {}
        }
      ]
    },
    {
      "cell_type": "markdown",
      "metadata": {
        "id": "xaSF2cIOvrzE"
      },
      "source": [
        "## Salvataggio dei dati"
      ]
    },
    {
      "cell_type": "markdown",
      "metadata": {
        "id": "JZC1SV8vvrzE"
      },
      "source": [
        "Per salvare i pesi del modello attuale su Google Drive:"
      ]
    },
    {
      "cell_type": "code",
      "execution_count": null,
      "metadata": {
        "id": "Gf23ttDCvrzF"
      },
      "outputs": [],
      "source": [
        "print(\"Inserire il nome del file di salvataggio (deve terminare con .keras):\")\n",
        "name = input()\n",
        "model.save_weights(name)\n",
        "saveWeights(name)"
      ]
    },
    {
      "cell_type": "markdown",
      "metadata": {
        "id": "yECF2VuUvrzF"
      },
      "source": [
        "Qualora si voglia salvare la history in un file .csv:"
      ]
    },
    {
      "cell_type": "code",
      "execution_count": null,
      "metadata": {
        "id": "XhzoDLAYvrzF"
      },
      "outputs": [],
      "source": [
        "nome = input()\n",
        "saveHistory(history, nome)"
      ]
    },
    {
      "cell_type": "markdown",
      "metadata": {
        "id": "ciNyOX0YvrzF"
      },
      "source": [
        "Qualora si voglia salvare l'evaluation in un file .csv:"
      ]
    },
    {
      "cell_type": "code",
      "execution_count": null,
      "metadata": {
        "id": "zKfRse4evrzF"
      },
      "outputs": [],
      "source": [
        "nome = input()\n",
        "saveEvaluation(test_loss, test_accuracy, test_f1, nome)"
      ]
    }
  ],
  "metadata": {
    "accelerator": "GPU",
    "colab": {
      "provenance": [],
      "include_colab_link": true
    },
    "kernelspec": {
      "display_name": "Python 3",
      "name": "python3"
    },
    "language_info": {
      "name": "python"
    }
  },
  "nbformat": 4,
  "nbformat_minor": 0
}