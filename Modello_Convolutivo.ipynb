{
  "cells": [
    {
      "cell_type": "markdown",
      "metadata": {
        "id": "view-in-github",
        "colab_type": "text"
      },
      "source": [
        "<a href=\"https://colab.research.google.com/github/TheRoberto2512/DeepBrainMRI/blob/main/Modello_Convolutivo.ipynb\" target=\"_parent\"><img src=\"https://colab.research.google.com/assets/colab-badge.svg\" alt=\"Open In Colab\"/></a>"
      ]
    },
    {
      "cell_type": "markdown",
      "metadata": {
        "id": "B-fgOvz6tw0S"
      },
      "source": [
        "<font size=6>**SOMMARIO DEL NOTEBOOK**</font>\n",
        "\n",
        "In questo notebook viene costruito un modello Convolutivo sfruttando tutte le best practices per le reti convolutive: connessioni residue, normalizzazione batch e convoluzioni separabili. Per maggiori informazioni riguardo le scelte intraprese fare riferimento al report finale.\n",
        "\n",
        "\n",
        "**Indice:**\n",
        "*   [Installazioni, import librerie e funzioni utili](#1)\n",
        "*   [Caricamento del Dataset](#2)\n",
        "*   [Modello Convolutivo](#3)\n",
        "*   [Risultati dell'addestramento](#4)\n",
        "*   [Modello Finale](#5)\n",
        "\n"
      ]
    },
    {
      "cell_type": "markdown",
      "metadata": {
        "id": "RbFNuOqQumCH"
      },
      "source": [
        "<a name=\"1\"></a>\n",
        "# Installazioni, import librerie e funzioni utili"
      ]
    },
    {
      "cell_type": "code",
      "execution_count": null,
      "metadata": {
        "id": "g2FjUBluZ4WL"
      },
      "outputs": [],
      "source": [
        "! pip install tensorflow-gpu==2.8.3"
      ]
    },
    {
      "cell_type": "code",
      "execution_count": null,
      "metadata": {
        "id": "vHEXJnfs4sAg"
      },
      "outputs": [],
      "source": [
        "from sklearn.metrics import confusion_matrix                                      # per la matrice di confusione\n",
        "from google.colab import drive, files\n",
        "import matplotlib.pyplot as plt\n",
        "import tensorflow as tf\n",
        "import pandas as pd                                                               # per gestire la serializzazione/deserializzazione dei risultati\n",
        "import numpy as np\n",
        "import shutil                                                                     # per fare spostamenti e copie tra drive e colab\n",
        "import os                                                                         # per gestire le cartelle dei dataset"
      ]
    },
    {
      "cell_type": "code",
      "execution_count": null,
      "metadata": {
        "id": "0gyHgKp1kXUl"
      },
      "outputs": [],
      "source": [
        "drive.mount(\"/content/drive\", force_remount=True)                                 # montiamo il drive per prelevare i dataset"
      ]
    },
    {
      "cell_type": "markdown",
      "metadata": {
        "id": "2KlCXPLPauIc"
      },
      "source": [
        "Qualora la cartella principale del progetto non si trovi nella home di Google Drive, personalizzare la seguente stringa:"
      ]
    },
    {
      "cell_type": "code",
      "execution_count": null,
      "metadata": {
        "id": "-ydu4EeZarbW",
        "cellView": "form"
      },
      "outputs": [],
      "source": [
        "#@title Qualora la cartella principale del progetto non si trovi nella home di Google Drive, personalizzare la seguente stringa:\n",
        "\n",
        "main_folder_path = '/content/drive/MyDrive/DeepBrainMRI' #@param {type:\"string\"}"
      ]
    },
    {
      "cell_type": "markdown",
      "metadata": {
        "id": "R3FTjVxC2Q1e"
      },
      "source": [
        "Le seguenti funzioni servono per salvare/caricare facilmente le history, le evaluation e i pesi del modello su Google Drive."
      ]
    },
    {
      "cell_type": "code",
      "execution_count": null,
      "metadata": {
        "id": "jMTtYWk3ofu6"
      },
      "outputs": [],
      "source": [
        "result_folder_path = f\"{main_folder_path}/Risultati vari/Convolutivo\"\n",
        "saved_weights_path = f\"{main_folder_path}/Saved Weights/Convolutivo\"\n",
        "dataset_directory = ''\n",
        "\n",
        "def saveHistory(history, nomeFile):                                               # funzione per salvare la history di un addestramento\n",
        "  if not os.path.exists(result_folder_path):\n",
        "     os.makedirs(result_folder_path)\n",
        "  history_df = pd.DataFrame.from_dict(history.history)\n",
        "  history_df.to_csv(result_folder_path + f\"/{dataset_directory}_{nomeFile}_history.csv\", index=False)\n",
        "\n",
        "def loadHistory(nomeFile):                                                        # funzione per caricare la history di un addestramento\n",
        "  if os.path.exists(result_folder_path):\n",
        "    return pd.read_csv(f\"{result_folder_path}/{dataset_directory}_{nomeFile}_history.csv\").to_dict()\n",
        "  else:\n",
        "    raise Exception(\"Cartella inesistente!\")\n",
        "\n",
        "def saveEvaluation(loss, acc, f1, nomeFile):                                      # funzione per salvare il risultato di un evaluation\n",
        "  if not os.path.exists(result_folder_path):\n",
        "     os.makedirs(result_folder_path)\n",
        "  evaluation = {}\n",
        "  evaluation['loss'] = loss\n",
        "  evaluation['accuracy'] = acc\n",
        "  evaluation['f1_score'] = f1\n",
        "  evaluation_df = pd.DataFrame.from_dict(evaluation)\n",
        "  evaluation_df.to_csv(result_folder_path + f\"/{dataset_directory}_{nomeFile}_evaluation.csv\", index=False)\n",
        "\n",
        "def loadEvaluation(nomeFile):                                                     # funzione per caricare il risultato di un evaluation\n",
        "  if os.path.exists(result_folder_path):\n",
        "    return pd.read_csv(f\"{result_folder_path}/{dataset_directory}_{nomeFile}_evaluation.csv\").to_dict()\n",
        "  else:\n",
        "    raise Exception(\"Cartella inesistente!\")\n",
        "\n",
        "def saveWeights(nomeFile):                                                        # funzione per salvare il file dei pesi su drive\n",
        "  if not os.path.exists(saved_weights_path):\n",
        "    os.makedirs(saved_weights_path)\n",
        "  shutil.copy(nomeFile, f\"{saved_weights_path}\")\n",
        "\n",
        "def loadWeights(nomeFile):                                                        # funzione per caricare il file dei pesi da drive\n",
        "  if os.path.exists(saved_weights_path):\n",
        "    shutil.copy(f\"{saved_weights_path}/{nomeFile}\", '/content/')\n",
        "  else:\n",
        "    raise Exception(\"Cartella inesistente!\")"
      ]
    },
    {
      "cell_type": "markdown",
      "metadata": {
        "id": "CoAIb0btOJ3v"
      },
      "source": [
        "<a name=\"2\"></a>\n",
        "# Caricamento del Dataset\n"
      ]
    },
    {
      "cell_type": "markdown",
      "metadata": {
        "id": "bV7HEE24wtaN"
      },
      "source": [
        "Impostiamo dei valori costanti per la corretta esecuzione del notebook."
      ]
    },
    {
      "cell_type": "code",
      "execution_count": null,
      "metadata": {
        "id": "Xa9Wu8OTkI6L",
        "cellView": "form"
      },
      "outputs": [],
      "source": [
        "#@title Impostiamo dei valori costanti per la corretta esecuzione del notebook.\n",
        "base_datasets_path = f\"{main_folder_path}/Datasets/\"\n",
        "\n",
        "BATCH_SIZE = 32 #@param {type: \"integer\"}                       # specifichiamo la grandezza dei batch\n",
        "IMAGE_WIDTH = 299 #@param {type: \"integer\"}\n",
        "IMAGE_HEIGHT = 299 #@param {type: \"integer\"}\n",
        "\n",
        "IMAGE_SHAPE = (IMAGE_WIDTH, IMAGE_HEIGHT, 1)                    # c'è solamente un canale perché importiamo in scala di grigi\n",
        "\n",
        "SEED = 2680 #@param {type: \"integer\"}                           # seme per poter replicare le stesse condizioni del dataset"
      ]
    },
    {
      "cell_type": "markdown",
      "metadata": {
        "id": "RmNoR6GQV3Ip"
      },
      "source": [
        "Scegliere il tipo di dataset (train_data) che si vuole importare:"
      ]
    },
    {
      "cell_type": "code",
      "execution_count": null,
      "metadata": {
        "id": "7tz8Z7CVUHa5"
      },
      "outputs": [],
      "source": [
        "dataset_directory = 'under+aug'                                 # dataset con undersampling e data augmentation"
      ]
    },
    {
      "cell_type": "code",
      "execution_count": null,
      "metadata": {
        "id": "sItt93jMUHTx"
      },
      "outputs": [],
      "source": [
        "dataset_directory = 'only_under'                                # dataset con SOLO undersampling"
      ]
    },
    {
      "cell_type": "code",
      "execution_count": null,
      "metadata": {
        "id": "2KMRhjrZUHFC"
      },
      "outputs": [],
      "source": [
        "dataset_directory = 'only_aug'                                  # dataset con solo data augmentation"
      ]
    },
    {
      "cell_type": "code",
      "execution_count": null,
      "metadata": {
        "id": "KCYbpUL9UOJx"
      },
      "outputs": [],
      "source": [
        "dataset_directory = 'base'                                      # dataset base (non pre-processato)"
      ]
    },
    {
      "cell_type": "markdown",
      "metadata": {
        "id": "o15rMj1yW4dx"
      },
      "source": [
        "Istruzioni per importare il dataset. **Sono richiesti fino a 2-3 minuti a seconda del dataset!**"
      ]
    },
    {
      "cell_type": "code",
      "execution_count": null,
      "metadata": {
        "colab": {
          "base_uri": "https://localhost:8080/"
        },
        "id": "OxiN7dfF1ppu",
        "outputId": "bd7903d7-46b7-4e61-df15-3889cb6c6c49"
      },
      "outputs": [
        {
          "output_type": "stream",
          "name": "stdout",
          "text": [
            "Ho importato il training set 'only_aug' nella cartella /content/dataset/only_aug/Training\n",
            "Ho importato il test set nella cartella /content/dataset/only_aug/Testing\n"
          ]
        }
      ],
      "source": [
        "destinazione = f\"/content/dataset/{dataset_directory}\"\n",
        "\n",
        "if dataset_directory != 'base':\n",
        "  shutil.copytree(f'{base_datasets_path}{dataset_directory}', f'{destinazione}/Training', dirs_exist_ok=True)     # train_data pre-processato\n",
        "else:\n",
        "  shutil.copytree(f'{base_datasets_path}DATASET_BASE/Training', f'{destinazione}/Training', dirs_exist_ok=True)   # train_data base\n",
        "print(f\"Ho importato il training set \\'{dataset_directory}\\' nella cartella {destinazione}/Training\")\n",
        "\n",
        "shutil.copytree(f'{base_datasets_path}DATASET_BASE/Testing', f'{destinazione}/Testing', dirs_exist_ok=True)       # importa il test_data\n",
        "print(f\"Ho importato il test set nella cartella {destinazione}/Testing\")"
      ]
    },
    {
      "cell_type": "code",
      "execution_count": null,
      "metadata": {
        "colab": {
          "base_uri": "https://localhost:8080/"
        },
        "id": "AuOXlzlTUgRZ",
        "outputId": "62465890-cc94-4513-d8ac-cf4abd6057aa"
      },
      "outputs": [
        {
          "output_type": "stream",
          "name": "stdout",
          "text": [
            "Found 6380 files belonging to 4 classes.\n",
            "Found 1311 files belonging to 4 classes.\n",
            "\n",
            "Ho caricato train_data e test_data dalla cartella /content/dataset/only_aug\n"
          ]
        }
      ],
      "source": [
        "train_data = tf.keras.utils.image_dataset_from_directory(\n",
        "    directory = f'{destinazione}/Training',\n",
        "    labels='inferred',\n",
        "    label_mode='categorical',\n",
        "    color_mode='grayscale',\n",
        "    image_size=(IMAGE_WIDTH, IMAGE_HEIGHT),\n",
        "    batch_size = BATCH_SIZE,\n",
        "    shuffle=True,\n",
        "    seed=SEED,\n",
        "    crop_to_aspect_ratio=True,\n",
        ")\n",
        "\n",
        "test_data = tf.keras.utils.image_dataset_from_directory(\n",
        "    directory = f'{destinazione}/Testing',\n",
        "    labels='inferred',\n",
        "    label_mode='categorical',\n",
        "    color_mode='grayscale',\n",
        "    image_size=(IMAGE_WIDTH, IMAGE_HEIGHT),\n",
        "    batch_size = BATCH_SIZE,\n",
        "    shuffle=True,\n",
        "    seed=SEED,\n",
        "    crop_to_aspect_ratio=True,\n",
        ")\n",
        "\n",
        "class_names = test_data.class_names\n",
        "print(\"\\nHo caricato train_data e test_data dalla cartella %s\" % destinazione)"
      ]
    },
    {
      "cell_type": "markdown",
      "metadata": {
        "id": "43vS2nFkl2EK"
      },
      "source": [
        "Stampando la shape di un batch di immagini possiamo notare che corrisponderà a:\n",
        "\n",
        "(**BATCH_SIZE**, **IMAGE_WIDTH**, **IMAGE_HEIGHT**, **1**)"
      ]
    },
    {
      "cell_type": "code",
      "execution_count": null,
      "metadata": {
        "colab": {
          "base_uri": "https://localhost:8080/"
        },
        "id": "bKzBxP6sPW_5",
        "outputId": "3cb91a23-185e-4524-9435-7fd9f576b5e5"
      },
      "outputs": [
        {
          "output_type": "stream",
          "name": "stdout",
          "text": [
            "(32, 256, 256, 1)\n"
          ]
        }
      ],
      "source": [
        "for img, lbl in train_data.take(1):\n",
        "  print(img.shape)"
      ]
    },
    {
      "cell_type": "markdown",
      "metadata": {
        "id": "yscm2LUE_FIY"
      },
      "source": [
        "<a name=\"3\"></a>\n",
        "# Modello Convolutivo"
      ]
    },
    {
      "cell_type": "code",
      "execution_count": null,
      "metadata": {
        "id": "qRpYcwiFUsyi"
      },
      "outputs": [],
      "source": [
        "def residual_block(x, filters): # funzione per applicare un blocco convoluzionale con una connessione residua, con l'opzione per aggiungere il max pooling\n",
        "  residual = x\n",
        "  x = tf.keras.layers.BatchNormalization()(x)\n",
        "  x = tf.keras.layers.Activation(\"relu\")(x)\n",
        "  x = tf.keras.layers.SeparableConv2D(filters, 3, padding=\"same\", use_bias=False)(x)\n",
        "  x = tf.keras.layers.BatchNormalization()(x)\n",
        "  x = tf.keras.layers.Activation(\"relu\")(x)\n",
        "  x = tf.keras.layers.SeparableConv2D(filters, 3, padding=\"same\", use_bias=False)(x)\n",
        "  x = tf.keras.layers.MaxPooling2D(3, strides=2, padding=\"same\")(x)\n",
        "  residual = tf.keras.layers.Conv2D(filters, 1, strides=2, padding=\"same\", use_bias=False)(residual)\n",
        "  x = tf.keras.layers.add([x, residual])\n",
        "  return x"
      ]
    },
    {
      "cell_type": "code",
      "execution_count": null,
      "metadata": {
        "id": "Eoq65pDQ_LHu"
      },
      "outputs": [],
      "source": [
        "inputs = tf.keras.Input(shape=IMAGE_SHAPE)\n",
        "x = tf.keras.layers.Rescaling(1./255)(inputs)\n",
        "\n",
        "x = tf.keras.layers.Conv2D(filters=32, kernel_size=5, use_bias=False)(x)\n",
        "\n",
        "for filters in [32, 64, 128, 256, 512]:\n",
        "  x = residual_block(x, filters)\n",
        "\n",
        "x = tf.keras.layers.GlobalMaxPooling2D()(x)\n",
        "x = tf.keras.layers.Dropout(0.5)(x)\n",
        "\n",
        "outputs = tf.keras.layers.Dense(4, activation=\"softmax\")(x)\n",
        "model = tf.keras.Model(inputs=inputs, outputs=outputs)"
      ]
    },
    {
      "cell_type": "code",
      "execution_count": null,
      "metadata": {
        "id": "6qItqXVPaFtE",
        "colab": {
          "base_uri": "https://localhost:8080/"
        },
        "outputId": "7f4f5653-172e-4514-d942-c93b886659a6"
      },
      "outputs": [
        {
          "output_type": "stream",
          "name": "stdout",
          "text": [
            "Model: \"model\"\n",
            "__________________________________________________________________________________________________\n",
            " Layer (type)                Output Shape                 Param #   Connected to                  \n",
            "==================================================================================================\n",
            " input_1 (InputLayer)        [(None, 299, 299, 1)]        0         []                            \n",
            "                                                                                                  \n",
            " rescaling (Rescaling)       (None, 299, 299, 1)          0         ['input_1[0][0]']             \n",
            "                                                                                                  \n",
            " conv2d (Conv2D)             (None, 295, 295, 32)         800       ['rescaling[0][0]']           \n",
            "                                                                                                  \n",
            " batch_normalization (Batch  (None, 295, 295, 32)         128       ['conv2d[0][0]']              \n",
            " Normalization)                                                                                   \n",
            "                                                                                                  \n",
            " activation (Activation)     (None, 295, 295, 32)         0         ['batch_normalization[0][0]'] \n",
            "                                                                                                  \n",
            " separable_conv2d (Separabl  (None, 295, 295, 32)         1312      ['activation[0][0]']          \n",
            " eConv2D)                                                                                         \n",
            "                                                                                                  \n",
            " batch_normalization_1 (Bat  (None, 295, 295, 32)         128       ['separable_conv2d[0][0]']    \n",
            " chNormalization)                                                                                 \n",
            "                                                                                                  \n",
            " activation_1 (Activation)   (None, 295, 295, 32)         0         ['batch_normalization_1[0][0]'\n",
            "                                                                    ]                             \n",
            "                                                                                                  \n",
            " separable_conv2d_1 (Separa  (None, 295, 295, 32)         1312      ['activation_1[0][0]']        \n",
            " bleConv2D)                                                                                       \n",
            "                                                                                                  \n",
            " max_pooling2d (MaxPooling2  (None, 148, 148, 32)         0         ['separable_conv2d_1[0][0]']  \n",
            " D)                                                                                               \n",
            "                                                                                                  \n",
            " conv2d_1 (Conv2D)           (None, 148, 148, 32)         1024      ['conv2d[0][0]']              \n",
            "                                                                                                  \n",
            " add (Add)                   (None, 148, 148, 32)         0         ['max_pooling2d[0][0]',       \n",
            "                                                                     'conv2d_1[0][0]']            \n",
            "                                                                                                  \n",
            " batch_normalization_2 (Bat  (None, 148, 148, 32)         128       ['add[0][0]']                 \n",
            " chNormalization)                                                                                 \n",
            "                                                                                                  \n",
            " activation_2 (Activation)   (None, 148, 148, 32)         0         ['batch_normalization_2[0][0]'\n",
            "                                                                    ]                             \n",
            "                                                                                                  \n",
            " separable_conv2d_2 (Separa  (None, 148, 148, 64)         2336      ['activation_2[0][0]']        \n",
            " bleConv2D)                                                                                       \n",
            "                                                                                                  \n",
            " batch_normalization_3 (Bat  (None, 148, 148, 64)         256       ['separable_conv2d_2[0][0]']  \n",
            " chNormalization)                                                                                 \n",
            "                                                                                                  \n",
            " activation_3 (Activation)   (None, 148, 148, 64)         0         ['batch_normalization_3[0][0]'\n",
            "                                                                    ]                             \n",
            "                                                                                                  \n",
            " separable_conv2d_3 (Separa  (None, 148, 148, 64)         4672      ['activation_3[0][0]']        \n",
            " bleConv2D)                                                                                       \n",
            "                                                                                                  \n",
            " max_pooling2d_1 (MaxPoolin  (None, 74, 74, 64)           0         ['separable_conv2d_3[0][0]']  \n",
            " g2D)                                                                                             \n",
            "                                                                                                  \n",
            " conv2d_2 (Conv2D)           (None, 74, 74, 64)           2048      ['add[0][0]']                 \n",
            "                                                                                                  \n",
            " add_1 (Add)                 (None, 74, 74, 64)           0         ['max_pooling2d_1[0][0]',     \n",
            "                                                                     'conv2d_2[0][0]']            \n",
            "                                                                                                  \n",
            " batch_normalization_4 (Bat  (None, 74, 74, 64)           256       ['add_1[0][0]']               \n",
            " chNormalization)                                                                                 \n",
            "                                                                                                  \n",
            " activation_4 (Activation)   (None, 74, 74, 64)           0         ['batch_normalization_4[0][0]'\n",
            "                                                                    ]                             \n",
            "                                                                                                  \n",
            " separable_conv2d_4 (Separa  (None, 74, 74, 128)          8768      ['activation_4[0][0]']        \n",
            " bleConv2D)                                                                                       \n",
            "                                                                                                  \n",
            " batch_normalization_5 (Bat  (None, 74, 74, 128)          512       ['separable_conv2d_4[0][0]']  \n",
            " chNormalization)                                                                                 \n",
            "                                                                                                  \n",
            " activation_5 (Activation)   (None, 74, 74, 128)          0         ['batch_normalization_5[0][0]'\n",
            "                                                                    ]                             \n",
            "                                                                                                  \n",
            " separable_conv2d_5 (Separa  (None, 74, 74, 128)          17536     ['activation_5[0][0]']        \n",
            " bleConv2D)                                                                                       \n",
            "                                                                                                  \n",
            " max_pooling2d_2 (MaxPoolin  (None, 37, 37, 128)          0         ['separable_conv2d_5[0][0]']  \n",
            " g2D)                                                                                             \n",
            "                                                                                                  \n",
            " conv2d_3 (Conv2D)           (None, 37, 37, 128)          8192      ['add_1[0][0]']               \n",
            "                                                                                                  \n",
            " add_2 (Add)                 (None, 37, 37, 128)          0         ['max_pooling2d_2[0][0]',     \n",
            "                                                                     'conv2d_3[0][0]']            \n",
            "                                                                                                  \n",
            " batch_normalization_6 (Bat  (None, 37, 37, 128)          512       ['add_2[0][0]']               \n",
            " chNormalization)                                                                                 \n",
            "                                                                                                  \n",
            " activation_6 (Activation)   (None, 37, 37, 128)          0         ['batch_normalization_6[0][0]'\n",
            "                                                                    ]                             \n",
            "                                                                                                  \n",
            " separable_conv2d_6 (Separa  (None, 37, 37, 256)          33920     ['activation_6[0][0]']        \n",
            " bleConv2D)                                                                                       \n",
            "                                                                                                  \n",
            " batch_normalization_7 (Bat  (None, 37, 37, 256)          1024      ['separable_conv2d_6[0][0]']  \n",
            " chNormalization)                                                                                 \n",
            "                                                                                                  \n",
            " activation_7 (Activation)   (None, 37, 37, 256)          0         ['batch_normalization_7[0][0]'\n",
            "                                                                    ]                             \n",
            "                                                                                                  \n",
            " separable_conv2d_7 (Separa  (None, 37, 37, 256)          67840     ['activation_7[0][0]']        \n",
            " bleConv2D)                                                                                       \n",
            "                                                                                                  \n",
            " max_pooling2d_3 (MaxPoolin  (None, 19, 19, 256)          0         ['separable_conv2d_7[0][0]']  \n",
            " g2D)                                                                                             \n",
            "                                                                                                  \n",
            " conv2d_4 (Conv2D)           (None, 19, 19, 256)          32768     ['add_2[0][0]']               \n",
            "                                                                                                  \n",
            " add_3 (Add)                 (None, 19, 19, 256)          0         ['max_pooling2d_3[0][0]',     \n",
            "                                                                     'conv2d_4[0][0]']            \n",
            "                                                                                                  \n",
            " batch_normalization_8 (Bat  (None, 19, 19, 256)          1024      ['add_3[0][0]']               \n",
            " chNormalization)                                                                                 \n",
            "                                                                                                  \n",
            " activation_8 (Activation)   (None, 19, 19, 256)          0         ['batch_normalization_8[0][0]'\n",
            "                                                                    ]                             \n",
            "                                                                                                  \n",
            " separable_conv2d_8 (Separa  (None, 19, 19, 512)          133376    ['activation_8[0][0]']        \n",
            " bleConv2D)                                                                                       \n",
            "                                                                                                  \n",
            " batch_normalization_9 (Bat  (None, 19, 19, 512)          2048      ['separable_conv2d_8[0][0]']  \n",
            " chNormalization)                                                                                 \n",
            "                                                                                                  \n",
            " activation_9 (Activation)   (None, 19, 19, 512)          0         ['batch_normalization_9[0][0]'\n",
            "                                                                    ]                             \n",
            "                                                                                                  \n",
            " separable_conv2d_9 (Separa  (None, 19, 19, 512)          266752    ['activation_9[0][0]']        \n",
            " bleConv2D)                                                                                       \n",
            "                                                                                                  \n",
            " max_pooling2d_4 (MaxPoolin  (None, 10, 10, 512)          0         ['separable_conv2d_9[0][0]']  \n",
            " g2D)                                                                                             \n",
            "                                                                                                  \n",
            " conv2d_5 (Conv2D)           (None, 10, 10, 512)          131072    ['add_3[0][0]']               \n",
            "                                                                                                  \n",
            " add_4 (Add)                 (None, 10, 10, 512)          0         ['max_pooling2d_4[0][0]',     \n",
            "                                                                     'conv2d_5[0][0]']            \n",
            "                                                                                                  \n",
            " global_max_pooling2d (Glob  (None, 512)                  0         ['add_4[0][0]']               \n",
            " alMaxPooling2D)                                                                                  \n",
            "                                                                                                  \n",
            " dropout (Dropout)           (None, 512)                  0         ['global_max_pooling2d[0][0]']\n",
            "                                                                                                  \n",
            " dense (Dense)               (None, 4)                    2052      ['dropout[0][0]']             \n",
            "                                                                                                  \n",
            "==================================================================================================\n",
            "Total params: 721796 (2.75 MB)\n",
            "Trainable params: 718788 (2.74 MB)\n",
            "Non-trainable params: 3008 (11.75 KB)\n",
            "__________________________________________________________________________________________________\n"
          ]
        }
      ],
      "source": [
        "model.summary()"
      ]
    },
    {
      "cell_type": "code",
      "execution_count": null,
      "metadata": {
        "id": "6fpaOJoz_OkH"
      },
      "outputs": [],
      "source": [
        "callbacks = [\n",
        "    tf.keras.callbacks.ModelCheckpoint(filepath=\"Convolutivo.keras\", save_best_only=True, monitor=\"val_loss\"),  # salviamo i pesi dell'epoca con la val_loss minore\n",
        "]"
      ]
    },
    {
      "cell_type": "code",
      "source": [
        "lr_schedule = tf.keras.optimizers.schedules.ExponentialDecay(\n",
        "    0.008,                                                                        # learning rate iniziale\n",
        "    decay_steps=len(train_data)*5,                                                # ogni quanto si decrementa il learning rate\n",
        "    decay_rate=0.5,                                                               # tasso di decremento\n",
        "    staircase=True)                                                               # decrementa a intervalli discreti"
      ],
      "metadata": {
        "id": "VL18WTH9OIHJ"
      },
      "execution_count": null,
      "outputs": []
    },
    {
      "cell_type": "code",
      "execution_count": null,
      "metadata": {
        "id": "Zfh6oQwh_PUu"
      },
      "outputs": [],
      "source": [
        "model.compile(loss='kullback_leibler_divergence', optimizer=tf.keras.optimizers.Adamax(learning_rate=lr_schedule), metrics=['accuracy', tf.keras.metrics.Precision(), tf.keras.metrics.Recall(), tf.keras.metrics.F1Score()]) # Compila il modello"
      ]
    },
    {
      "cell_type": "code",
      "execution_count": null,
      "metadata": {
        "id": "uBxgSmB1zntW"
      },
      "outputs": [],
      "source": [
        "total_batches = tf.data.experimental.cardinality(train_data).numpy()              # calcola il numero totale di batch nel dataset\n",
        "\n",
        "validation_size = int(0.2 * total_batches)                                        # imposta una percentuale per il validation set (20%)\n",
        "\n",
        "# separa i dataset di training e validation\n",
        "validation_data = train_data.take(validation_size)\n",
        "train_data = train_data.skip(validation_size)"
      ]
    },
    {
      "cell_type": "code",
      "execution_count": null,
      "metadata": {
        "id": "Q_n396sR_QSu",
        "colab": {
          "base_uri": "https://localhost:8080/"
        },
        "outputId": "c0afa380-32c0-463b-a2ea-d5eef63dc425"
      },
      "outputs": [
        {
          "output_type": "stream",
          "name": "stdout",
          "text": [
            "Epoch 1/20\n",
            "160/160 [==============================] - 54s 274ms/step - loss: 0.9028 - accuracy: 0.6608 - precision_15: 0.7083 - recall_15: 0.5914 - f1_score: 0.6603 - val_loss: 1.4285 - val_accuracy: 0.2977 - val_precision_15: 0.3493 - val_recall_15: 0.2742 - val_f1_score: 0.1497\n",
            "Epoch 2/20\n",
            "160/160 [==============================] - 41s 244ms/step - loss: 0.4827 - accuracy: 0.8188 - precision_15: 0.8393 - recall_15: 0.7945 - f1_score: 0.8179 - val_loss: 1.7373 - val_accuracy: 0.2812 - val_precision_15: 0.2861 - val_recall_15: 0.2758 - val_f1_score: 0.1209\n",
            "Epoch 3/20\n",
            "160/160 [==============================] - 42s 252ms/step - loss: 0.3523 - accuracy: 0.8706 - precision_15: 0.8824 - recall_15: 0.8596 - f1_score: 0.8703 - val_loss: 0.7551 - val_accuracy: 0.7484 - val_precision_15: 0.7651 - val_recall_15: 0.7227 - val_f1_score: 0.7464\n",
            "Epoch 4/20\n",
            "160/160 [==============================] - 41s 249ms/step - loss: 0.2467 - accuracy: 0.9086 - precision_15: 0.9181 - recall_15: 0.9012 - f1_score: 0.9085 - val_loss: 0.6111 - val_accuracy: 0.8117 - val_precision_15: 0.8204 - val_recall_15: 0.8031 - val_f1_score: 0.8090\n",
            "Epoch 5/20\n",
            "160/160 [==============================] - 41s 249ms/step - loss: 0.2322 - accuracy: 0.9200 - precision_15: 0.9247 - recall_15: 0.9106 - f1_score: 0.9200 - val_loss: 0.7059 - val_accuracy: 0.7805 - val_precision_15: 0.7917 - val_recall_15: 0.7719 - val_f1_score: 0.7705\n",
            "Epoch 6/20\n",
            "160/160 [==============================] - 41s 250ms/step - loss: 0.1801 - accuracy: 0.9371 - precision_15: 0.9412 - recall_15: 0.9322 - f1_score: 0.9370 - val_loss: 0.4105 - val_accuracy: 0.8586 - val_precision_15: 0.8745 - val_recall_15: 0.8492 - val_f1_score: 0.8595\n",
            "Epoch 7/20\n",
            "160/160 [==============================] - 41s 251ms/step - loss: 0.1396 - accuracy: 0.9506 - precision_15: 0.9538 - recall_15: 0.9480 - f1_score: 0.9505 - val_loss: 0.1219 - val_accuracy: 0.9555 - val_precision_15: 0.9591 - val_recall_15: 0.9523 - val_f1_score: 0.9549\n",
            "Epoch 8/20\n",
            "160/160 [==============================] - 41s 252ms/step - loss: 0.0570 - accuracy: 0.9804 - precision_15: 0.9819 - recall_15: 0.9794 - f1_score: 0.9804 - val_loss: 0.0950 - val_accuracy: 0.9672 - val_precision_15: 0.9671 - val_recall_15: 0.9648 - val_f1_score: 0.9670\n",
            "Epoch 9/20\n",
            "160/160 [==============================] - 41s 248ms/step - loss: 0.0554 - accuracy: 0.9818 - precision_15: 0.9829 - recall_15: 0.9814 - f1_score: 0.9818 - val_loss: 0.2630 - val_accuracy: 0.9109 - val_precision_15: 0.9122 - val_recall_15: 0.9094 - val_f1_score: 0.9111\n",
            "Epoch 10/20\n",
            "160/160 [==============================] - 41s 250ms/step - loss: 0.0328 - accuracy: 0.9867 - precision_15: 0.9874 - recall_15: 0.9861 - f1_score: 0.9867 - val_loss: 0.0811 - val_accuracy: 0.9688 - val_precision_15: 0.9703 - val_recall_15: 0.9688 - val_f1_score: 0.9687\n",
            "Epoch 11/20\n",
            "160/160 [==============================] - 41s 247ms/step - loss: 0.0358 - accuracy: 0.9888 - precision_15: 0.9892 - recall_15: 0.9880 - f1_score: 0.9888 - val_loss: 0.0820 - val_accuracy: 0.9680 - val_precision_15: 0.9687 - val_recall_15: 0.9680 - val_f1_score: 0.9676\n",
            "Epoch 12/20\n",
            "160/160 [==============================] - 41s 248ms/step - loss: 0.0315 - accuracy: 0.9922 - precision_15: 0.9927 - recall_15: 0.9918 - f1_score: 0.9922 - val_loss: 0.1020 - val_accuracy: 0.9688 - val_precision_15: 0.9709 - val_recall_15: 0.9648 - val_f1_score: 0.9685\n",
            "Epoch 13/20\n",
            "160/160 [==============================] - 41s 250ms/step - loss: 0.0214 - accuracy: 0.9935 - precision_15: 0.9935 - recall_15: 0.9935 - f1_score: 0.9935 - val_loss: 0.0558 - val_accuracy: 0.9758 - val_precision_15: 0.9758 - val_recall_15: 0.9758 - val_f1_score: 0.9757\n",
            "Epoch 14/20\n",
            "160/160 [==============================] - 42s 253ms/step - loss: 0.0105 - accuracy: 0.9959 - precision_15: 0.9961 - recall_15: 0.9959 - f1_score: 0.9959 - val_loss: 0.0587 - val_accuracy: 0.9828 - val_precision_15: 0.9836 - val_recall_15: 0.9828 - val_f1_score: 0.9828\n",
            "Epoch 15/20\n",
            "160/160 [==============================] - 42s 247ms/step - loss: 0.0061 - accuracy: 0.9984 - precision_15: 0.9984 - recall_15: 0.9982 - f1_score: 0.9984 - val_loss: 0.0522 - val_accuracy: 0.9852 - val_precision_15: 0.9852 - val_recall_15: 0.9852 - val_f1_score: 0.9851\n",
            "Epoch 16/20\n",
            "160/160 [==============================] - 42s 250ms/step - loss: 0.0028 - accuracy: 0.9998 - precision_15: 0.9998 - recall_15: 0.9998 - f1_score: 0.9998 - val_loss: 0.0625 - val_accuracy: 0.9852 - val_precision_15: 0.9852 - val_recall_15: 0.9852 - val_f1_score: 0.9852\n",
            "Epoch 17/20\n",
            "160/160 [==============================] - 42s 253ms/step - loss: 0.0019 - accuracy: 0.9998 - precision_15: 0.9998 - recall_15: 0.9998 - f1_score: 0.9998 - val_loss: 0.0614 - val_accuracy: 0.9828 - val_precision_15: 0.9836 - val_recall_15: 0.9820 - val_f1_score: 0.9828\n",
            "Epoch 18/20\n",
            "160/160 [==============================] - 41s 247ms/step - loss: 0.0063 - accuracy: 0.9984 - precision_15: 0.9984 - recall_15: 0.9984 - f1_score: 0.9984 - val_loss: 0.0611 - val_accuracy: 0.9883 - val_precision_15: 0.9883 - val_recall_15: 0.9883 - val_f1_score: 0.9882\n",
            "Epoch 19/20\n",
            "160/160 [==============================] - 41s 247ms/step - loss: 0.0049 - accuracy: 0.9982 - precision_15: 0.9982 - recall_15: 0.9982 - f1_score: 0.9982 - val_loss: 0.0554 - val_accuracy: 0.9859 - val_precision_15: 0.9859 - val_recall_15: 0.9859 - val_f1_score: 0.9858\n",
            "Epoch 20/20\n",
            "160/160 [==============================] - 41s 250ms/step - loss: 0.0016 - accuracy: 0.9998 - precision_15: 0.9998 - recall_15: 0.9998 - f1_score: 0.9998 - val_loss: 0.0510 - val_accuracy: 0.9875 - val_precision_15: 0.9875 - val_recall_15: 0.9875 - val_f1_score: 0.9875\n"
          ]
        }
      ],
      "source": [
        "epochs = 20\n",
        "history = model.fit(train_data, epochs=epochs, validation_data=validation_data, callbacks=callbacks)"
      ]
    },
    {
      "cell_type": "markdown",
      "metadata": {
        "id": "eNGdbzZ6dpvH"
      },
      "source": [
        "Per ricaricare i pesi che hanno performato meglio durante l'addestramento:"
      ]
    },
    {
      "cell_type": "code",
      "execution_count": null,
      "metadata": {
        "id": "blvDMilYB8I2"
      },
      "outputs": [],
      "source": [
        "model = tf.keras.models.load_model(\"Convolutivo.keras\")"
      ]
    },
    {
      "cell_type": "markdown",
      "metadata": {
        "id": "iNxyAAbDduAO"
      },
      "source": [
        "Se invece si volessero caricare dei pesi da Google Drive:"
      ]
    },
    {
      "cell_type": "code",
      "execution_count": null,
      "metadata": {
        "id": "ncC_Z7XnON5D"
      },
      "outputs": [],
      "source": [
        "print(\"Inserire il nome del file di salvataggio:\")\n",
        "name = input()\n",
        "loadWeights(name)\n",
        "model.load_weights(name)"
      ]
    },
    {
      "cell_type": "markdown",
      "metadata": {
        "id": "s9UWv3DmfE2x"
      },
      "source": [
        "Per valutare le performance del modello:"
      ]
    },
    {
      "cell_type": "code",
      "execution_count": null,
      "metadata": {
        "colab": {
          "base_uri": "https://localhost:8080/"
        },
        "id": "-RHYNYbvnoHs",
        "outputId": "1c7747f4-1a95-4969-e7c1-0fb94d698daf"
      },
      "outputs": [
        {
          "output_type": "stream",
          "name": "stdout",
          "text": [
            "41/41 [==============================] - 3s 68ms/step - loss: 0.0564 - accuracy: 0.9832 - precision_15: 0.9840 - recall_15: 0.9832 - f1_score: 0.9820\n",
            "Loss: 0.0563955083489418\n",
            "Accuracy: 0.9832189083099365\n",
            "Precision: 0.9839694499969482\n",
            "Recall: 0.9832189083099365\n",
            "F1-score: 0.9819724559783936\n"
          ]
        }
      ],
      "source": [
        "test_loss, test_accuracy, test_precision, test_recall, test_f1 =  model.evaluate(test_data)\n",
        "\n",
        "print(f\"Loss: {test_loss}\")\n",
        "print(f\"Accuracy: {test_accuracy}\")\n",
        "print(f\"Precision: {test_precision}\")\n",
        "print(f\"Recall: {test_recall}\")\n",
        "print(f\"F1-score: {np.mean(test_f1)}\")"
      ]
    },
    {
      "cell_type": "markdown",
      "source": [
        "## Salvataggio dei dati"
      ],
      "metadata": {
        "id": "iXsgwW-5HDtf"
      }
    },
    {
      "cell_type": "markdown",
      "source": [
        "Per salvare i pesi del modello attuale su Google Drive:"
      ],
      "metadata": {
        "id": "eCNtEmUcea8F"
      }
    },
    {
      "cell_type": "code",
      "source": [
        "print(\"Inserire il nome del file di salvataggio (deve terminare con .keras):\")\n",
        "name = input()\n",
        "model.save_weights(name)\n",
        "saveWeights(name)"
      ],
      "metadata": {
        "id": "7m29kh_VeiMt"
      },
      "execution_count": null,
      "outputs": []
    },
    {
      "cell_type": "markdown",
      "source": [
        "Qualora si voglia salvare la history in un file .csv:"
      ],
      "metadata": {
        "id": "LvSFbBURG6Fg"
      }
    },
    {
      "cell_type": "code",
      "source": [
        "nome = input()\n",
        "saveHistory(history, nome)"
      ],
      "metadata": {
        "id": "3ee7jdjb3-cj"
      },
      "execution_count": null,
      "outputs": []
    },
    {
      "cell_type": "markdown",
      "source": [
        "Qualora si voglia salvare l'evaluation in un file .csv:"
      ],
      "metadata": {
        "id": "ITA7ao01G88X"
      }
    },
    {
      "cell_type": "code",
      "source": [
        "nome = input()\n",
        "saveEvaluation(test_loss, test_accuracy, test_f1, nome)"
      ],
      "metadata": {
        "id": "HCoGk5hl5Ac0"
      },
      "execution_count": null,
      "outputs": []
    },
    {
      "cell_type": "markdown",
      "metadata": {
        "id": "DruPGdce0mBH"
      },
      "source": [
        "<a name=\"4\"></a>\n",
        "# Risultati dell'addestramento"
      ]
    },
    {
      "cell_type": "markdown",
      "metadata": {
        "id": "Fhr0sng6mLjq"
      },
      "source": [
        "## History dell'addestramento appena concluso"
      ]
    },
    {
      "cell_type": "code",
      "execution_count": null,
      "metadata": {
        "id": "L21tXdY5mPUU"
      },
      "outputs": [],
      "source": [
        "acc = history.history['accuracy']\n",
        "val_acc = history.history['val_accuracy']\n",
        "loss = history.history['loss']\n",
        "val_loss = history.history['val_loss']\n",
        "f1_score = []\n",
        "val_f1_score = []\n",
        "\n",
        "epochs = range(1, len(acc) + 1)\n",
        "\n",
        "for i in range(len(acc)):\n",
        "  f1_score.append(np.mean(history.history['f1_score'][i]))\n",
        "  val_f1_score.append(np.mean(history.history['val_f1_score'][i]))"
      ]
    },
    {
      "cell_type": "markdown",
      "metadata": {
        "id": "dNxf6FuBmPhk"
      },
      "source": [
        "## History di un addestramento passato (da caricare)"
      ]
    },
    {
      "cell_type": "markdown",
      "metadata": {
        "id": "WDsXnHaXfo73"
      },
      "source": [
        "Per ricaricare una history precedente:"
      ]
    },
    {
      "cell_type": "code",
      "execution_count": null,
      "metadata": {
        "id": "YLBGeqpnfrfN"
      },
      "outputs": [],
      "source": [
        "print(\"Inserire il nome del file history da caricare:\")\n",
        "nomeFile = input()\n",
        "history = loadHistory(nomeFile)"
      ]
    },
    {
      "cell_type": "code",
      "execution_count": null,
      "metadata": {
        "id": "1jqWOtbXkgOL"
      },
      "outputs": [],
      "source": [
        "acc, val_acc, loss, val_loss = [], [], [], []\n",
        "for i in range(0, len(history['accuracy'])):\n",
        "  acc.append(history['accuracy'][i])\n",
        "  val_acc.append(history['val_accuracy'][i])\n",
        "  loss.append(history['loss'][i])\n",
        "  val_loss.append(history['val_loss'][i])\n",
        "\n",
        "epochs = range(1, len(acc)+1)\n",
        "\n",
        "f1_score, val_f1_score = [], []\n",
        "\n",
        "for i in range(len(acc)):\n",
        "  f1_score.append(np.mean([float(x) for x in history['f1_score'][i].replace('[', '').replace(']', '').split()]))\n",
        "  val_f1_score.append(np.mean([float(x) for x in history['val_f1_score'][i].replace('[', '').replace(']', '').split()]))"
      ]
    },
    {
      "cell_type": "markdown",
      "metadata": {
        "id": "iqqFqvLwmTRb"
      },
      "source": [
        "## Plot dei risultati"
      ]
    },
    {
      "cell_type": "code",
      "execution_count": null,
      "metadata": {
        "colab": {
          "base_uri": "https://localhost:8080/",
          "height": 410
        },
        "id": "mRSWHzz9iANi",
        "outputId": "6d3050fc-1e7d-43eb-b898-5fa22631fde0"
      },
      "outputs": [
        {
          "output_type": "display_data",
          "data": {
            "text/plain": [
              "<Figure size 2100x600 with 3 Axes>"
            ],
            "image/png": "[encoded data removed]"
          },
          "metadata": {}
        }
      ],
      "source": [
        "# Creazione del grafico per l'accuracy\n",
        "plt.figure(figsize=(21, 6))\n",
        "plt.subplot(1, 3, 1)\n",
        "plt.plot(epochs, acc, 'r', label='Training accuracy')\n",
        "plt.plot(epochs, val_acc, 'b', label='Validation accuracy')\n",
        "plt.title('Accuracy')\n",
        "\n",
        "plt.plot(np.argmax((val_acc))+1, np.max(val_acc), 'o', color='#00b050', label='Best Epoch')\n",
        "\n",
        "plt.legend()\n",
        "plt.xlim([1, np.max(epochs)])\n",
        "plt.ylim([0.82, 1])\n",
        "plt.grid()\n",
        "\n",
        "# Creazione del grafico per il loss\n",
        "plt.subplot(1, 3, 2)\n",
        "plt.plot(epochs, loss, 'r', label='Training loss')\n",
        "plt.plot(epochs, val_loss, 'b', label='Validation loss')\n",
        "plt.title('Loss')\n",
        "\n",
        "plt.plot(np.argmin((val_loss))+1, np.min(val_loss), 'o', color='#00b050', label='Best Epoch')\n",
        "\n",
        "plt.legend()\n",
        "plt.xlim([1, np.max(epochs)])\n",
        "plt.ylim([0, 0.4])\n",
        "plt.grid()\n",
        "\n",
        "# Creazione del grafico per l'F1 score\n",
        "plt.subplot(1, 3, 3)\n",
        "plt.plot(epochs, f1_score, 'r', label='Training F1 score')\n",
        "plt.plot(epochs, val_f1_score, 'b', label='Validation F1 score')\n",
        "plt.title('F1 score')\n",
        "\n",
        "plt.plot(np.argmax((val_f1_score))+1, np.max(val_f1_score), 'o', color='#00b050', label='Best Epoch')\n",
        "\n",
        "plt.legend()\n",
        "plt.xlim([1, np.max(epochs)])\n",
        "plt.ylim([0.82, 1])\n",
        "plt.grid()\n",
        "\n",
        "plt.show()"
      ]
    },
    {
      "cell_type": "markdown",
      "source": [
        "<a name=\"5\"></a>\n",
        "# Modello finale"
      ],
      "metadata": {
        "id": "pyxqQ7UUX0EA"
      }
    },
    {
      "cell_type": "markdown",
      "source": [
        "Una volta valutate i migliori iperparametri per il nostro modello, lo riaddestriamo interamente sul training set senza nessun validation.\n",
        "<font color='#c00000'>**ATTENZIONE**:</font> Ricaricaricare il test data se è stato splittato precedentemente per il validation!"
      ],
      "metadata": {
        "id": "VaRGjlpCX2nH"
      }
    },
    {
      "cell_type": "code",
      "execution_count": null,
      "metadata": {
        "id": "HPeooqwEZo3q"
      },
      "outputs": [],
      "source": [
        "def residual_block(x, filters):\n",
        "  residual = x\n",
        "  x = tf.keras.layers.BatchNormalization()(x)\n",
        "  x = tf.keras.layers.Activation(\"relu\")(x)\n",
        "  x = tf.keras.layers.SeparableConv2D(filters, 3, padding=\"same\", use_bias=False)(x)\n",
        "  x = tf.keras.layers.BatchNormalization()(x)\n",
        "  x = tf.keras.layers.Activation(\"relu\")(x)\n",
        "  x = tf.keras.layers.SeparableConv2D(filters, 3, padding=\"same\", use_bias=False)(x)\n",
        "  x = tf.keras.layers.MaxPooling2D(3, strides=2, padding=\"same\")(x)\n",
        "  residual = tf.keras.layers.Conv2D(filters, 1, strides=2, padding=\"same\", use_bias=False)(residual)\n",
        "  x = tf.keras.layers.add([x, residual])\n",
        "  return x"
      ]
    },
    {
      "cell_type": "code",
      "execution_count": null,
      "metadata": {
        "id": "XnuhJG-QZo3q"
      },
      "outputs": [],
      "source": [
        "inputs = tf.keras.Input(shape=IMAGE_SHAPE)\n",
        "x = tf.keras.layers.Rescaling(1./255)(inputs)\n",
        "\n",
        "x = tf.keras.layers.Conv2D(filters=32, kernel_size=5, use_bias=False)(x)\n",
        "\n",
        "for filters in [32, 64, 128, 256, 512]:\n",
        "  x = residual_block(x, filters)\n",
        "\n",
        "x = tf.keras.layers.GlobalMaxPooling2D()(x)\n",
        "x = tf.keras.layers.Dropout(0.5)(x)\n",
        "\n",
        "outputs = tf.keras.layers.Dense(4, activation=\"softmax\")(x)\n",
        "model = tf.keras.Model(inputs=inputs, outputs=outputs)"
      ]
    },
    {
      "cell_type": "code",
      "execution_count": null,
      "metadata": {
        "id": "A8wXLEnnZo3r"
      },
      "outputs": [],
      "source": [
        "callbacks = [\n",
        "    tf.keras.callbacks.ModelCheckpoint(filepath=\"Convolutivo_Finale.keras\", save_best_only=True, monitor=\"loss\"),  # salviamo i pesi dell'epoca con la val_loss minore\n",
        "]"
      ]
    },
    {
      "cell_type": "code",
      "source": [
        "lr_schedule = tf.keras.optimizers.schedules.ExponentialDecay(\n",
        "    0.008,\n",
        "    decay_steps=len(train_data)*5,\n",
        "    decay_rate=0.5,\n",
        "    staircase=True)"
      ],
      "metadata": {
        "id": "QmigtfGiZo3r"
      },
      "execution_count": null,
      "outputs": []
    },
    {
      "cell_type": "code",
      "execution_count": null,
      "metadata": {
        "id": "EmJ9rMQzZo3r"
      },
      "outputs": [],
      "source": [
        "model.compile(loss='kullback_leibler_divergence', optimizer=tf.keras.optimizers.Adamax(learning_rate=lr_schedule), metrics=['accuracy', tf.keras.metrics.Precision(), tf.keras.metrics.Recall(), tf.keras.metrics.F1Score()]) # Compila il modello"
      ]
    },
    {
      "cell_type": "code",
      "execution_count": null,
      "metadata": {
        "colab": {
          "base_uri": "https://localhost:8080/"
        },
        "outputId": "161da9c0-44ee-4a16-e7f0-9488d45ce253",
        "id": "YS8iOpGtZo3r"
      },
      "outputs": [
        {
          "output_type": "stream",
          "name": "stdout",
          "text": [
            "Epoch 1/20\n",
            "160/160 [==============================] - 46s 240ms/step - loss: 0.7633 - accuracy: 0.7176 - precision_17: 0.7631 - recall_17: 0.6663 - f1_score: 0.7168\n",
            "Epoch 2/20\n",
            "160/160 [==============================] - 39s 234ms/step - loss: 0.4329 - accuracy: 0.8431 - precision_17: 0.8627 - recall_17: 0.8243 - f1_score: 0.8425\n",
            "Epoch 3/20\n",
            "160/160 [==============================] - 40s 236ms/step - loss: 0.3049 - accuracy: 0.8888 - precision_17: 0.9004 - recall_17: 0.8773 - f1_score: 0.8886\n",
            "Epoch 4/20\n",
            "160/160 [==============================] - 40s 235ms/step - loss: 0.2356 - accuracy: 0.9155 - precision_17: 0.9224 - recall_17: 0.9069 - f1_score: 0.9153\n",
            "Epoch 5/20\n",
            "160/160 [==============================] - 40s 235ms/step - loss: 0.1939 - accuracy: 0.9278 - precision_17: 0.9328 - recall_17: 0.9247 - f1_score: 0.9277\n",
            "Epoch 6/20\n",
            "160/160 [==============================] - 39s 235ms/step - loss: 0.1122 - accuracy: 0.9625 - precision_17: 0.9653 - recall_17: 0.9598 - f1_score: 0.9625\n",
            "Epoch 7/20\n",
            "160/160 [==============================] - 39s 235ms/step - loss: 0.0653 - accuracy: 0.9784 - precision_17: 0.9809 - recall_17: 0.9767 - f1_score: 0.9784\n",
            "Epoch 8/20\n",
            "160/160 [==============================] - 39s 235ms/step - loss: 0.0581 - accuracy: 0.9788 - precision_17: 0.9803 - recall_17: 0.9778 - f1_score: 0.9788\n",
            "Epoch 9/20\n",
            "160/160 [==============================] - 39s 236ms/step - loss: 0.0425 - accuracy: 0.9863 - precision_17: 0.9867 - recall_17: 0.9857 - f1_score: 0.9863\n",
            "Epoch 10/20\n",
            "160/160 [==============================] - 39s 234ms/step - loss: 0.0352 - accuracy: 0.9898 - precision_17: 0.9904 - recall_17: 0.9892 - f1_score: 0.9898\n",
            "Epoch 11/20\n",
            "160/160 [==============================] - 39s 236ms/step - loss: 0.0155 - accuracy: 0.9951 - precision_17: 0.9955 - recall_17: 0.9949 - f1_score: 0.9951\n",
            "Epoch 12/20\n",
            "160/160 [==============================] - 39s 235ms/step - loss: 0.0114 - accuracy: 0.9965 - precision_17: 0.9965 - recall_17: 0.9963 - f1_score: 0.9965\n",
            "Epoch 13/20\n",
            "160/160 [==============================] - 39s 235ms/step - loss: 0.0066 - accuracy: 0.9986 - precision_17: 0.9988 - recall_17: 0.9984 - f1_score: 0.9986\n",
            "Epoch 14/20\n",
            "160/160 [==============================] - 39s 235ms/step - loss: 0.0052 - accuracy: 0.9988 - precision_17: 0.9988 - recall_17: 0.9988 - f1_score: 0.9988\n",
            "Epoch 15/20\n",
            "160/160 [==============================] - 39s 235ms/step - loss: 0.0036 - accuracy: 0.9996 - precision_17: 0.9998 - recall_17: 0.9996 - f1_score: 0.9996\n",
            "Epoch 16/20\n",
            "160/160 [==============================] - 39s 233ms/step - loss: 0.0037 - accuracy: 0.9992 - precision_17: 0.9992 - recall_17: 0.9992 - f1_score: 0.9992\n",
            "Epoch 17/20\n",
            "160/160 [==============================] - 39s 235ms/step - loss: 0.0017 - accuracy: 0.9998 - precision_17: 0.9998 - recall_17: 0.9998 - f1_score: 0.9998\n",
            "Epoch 18/20\n",
            "160/160 [==============================] - 39s 236ms/step - loss: 0.0015 - accuracy: 0.9998 - precision_17: 0.9998 - recall_17: 0.9998 - f1_score: 0.9998\n",
            "Epoch 19/20\n",
            "160/160 [==============================] - 39s 235ms/step - loss: 0.0013 - accuracy: 1.0000 - precision_17: 1.0000 - recall_17: 1.0000 - f1_score: 1.0000\n",
            "Epoch 20/20\n",
            "160/160 [==============================] - 39s 234ms/step - loss: 0.0020 - accuracy: 0.9996 - precision_17: 0.9996 - recall_17: 0.9996 - f1_score: 0.9996\n"
          ]
        }
      ],
      "source": [
        "epochs = 20\n",
        "history = model.fit(train_data, epochs=epochs, callbacks=callbacks)"
      ]
    },
    {
      "cell_type": "markdown",
      "source": [
        "Per ricaricare i pesi che hanno performato meglio durante l'addestramento:"
      ],
      "metadata": {
        "id": "eVYEq0Bi4KrM"
      }
    },
    {
      "cell_type": "code",
      "source": [
        "model = tf.keras.models.load_model(\"Convolutivo_Finale.keras\")"
      ],
      "metadata": {
        "id": "qlgo1xozaUn5"
      },
      "execution_count": null,
      "outputs": []
    },
    {
      "cell_type": "markdown",
      "source": [
        "Se invece si volessero caricare dei pesi da Google Drive:"
      ],
      "metadata": {
        "id": "ExRX5_yYvrzD"
      }
    },
    {
      "cell_type": "code",
      "source": [
        "print(\"Inserire il nome del file di salvataggio:\")\n",
        "name = input()\n",
        "loadWeights(name)\n",
        "model.load_weights(name)"
      ],
      "metadata": {
        "id": "muS-40RivrzD"
      },
      "execution_count": null,
      "outputs": []
    },
    {
      "cell_type": "markdown",
      "source": [
        "Per valutare le performance del modello:"
      ],
      "metadata": {
        "id": "JIl704yH4Rxc"
      }
    },
    {
      "cell_type": "code",
      "source": [
        "test_loss, test_accuracy, test_precision, test_recall, test_f1 =  model.evaluate(test_data)\n",
        "\n",
        "print(f\"Loss: {test_loss}\")\n",
        "print(f\"Accuracy: {test_accuracy}\")\n",
        "print(f\"Precision: {test_precision}\")\n",
        "print(f\"Recall: {test_recall}\")\n",
        "print(f\"F1-score: {np.mean(test_f1)}\")"
      ],
      "metadata": {
        "colab": {
          "base_uri": "https://localhost:8080/"
        },
        "id": "OtbS8qWNZyKG",
        "outputId": "a4384728-c555-443b-b75e-6aba7713381f"
      },
      "execution_count": null,
      "outputs": [
        {
          "output_type": "stream",
          "name": "stdout",
          "text": [
            "41/41 [==============================] - 3s 54ms/step - loss: 0.0499 - accuracy: 0.9901 - precision_17: 0.9901 - recall_17: 0.9893 - f1_score: 0.9893\n",
            "Loss: 0.04989611729979515\n",
            "Accuracy: 0.9900839328765869\n",
            "Precision: 0.9900763630867004\n",
            "Recall: 0.9893211126327515\n",
            "F1-score: 0.9893459677696228\n"
          ]
        }
      ]
    },
    {
      "cell_type": "markdown",
      "source": [
        "##Matrice di confusione"
      ],
      "metadata": {
        "id": "xeqNGnDJBDme"
      }
    },
    {
      "cell_type": "markdown",
      "source": [
        "Creazione della matrice di confusione:"
      ],
      "metadata": {
        "id": "nQlquJARBXrH"
      }
    },
    {
      "cell_type": "code",
      "source": [
        "previsioni_classe = []\n",
        "verita_terreno = []\n",
        "\n",
        "# Effettuare le previsioni su ogni batch\n",
        "for immagini, etichette in test_data:\n",
        "    preds = model.predict(immagini, verbose=0)\n",
        "    previsioni_classe.extend(np.argmax(preds, axis=1))\n",
        "    verita_terreno.extend(np.argmax(etichette.numpy(), axis=1))\n",
        "\n",
        "# Calcolare la matrice di confusione\n",
        "matrice_confusione = confusion_matrix(verita_terreno, previsioni_classe)"
      ],
      "metadata": {
        "id": "OBrqV9rRA-j2"
      },
      "execution_count": null,
      "outputs": []
    },
    {
      "cell_type": "markdown",
      "source": [
        "Creazione del plot della matrice di confusione:"
      ],
      "metadata": {
        "id": "7WS7WkghBOHJ"
      }
    },
    {
      "cell_type": "code",
      "source": [
        "plt.figure(figsize=(10, 8))\n",
        "plt.imshow(matrice_confusione, interpolation='nearest', cmap=plt.cm.Blues)\n",
        "plt.title('Matrice di Confusione')\n",
        "plt.colorbar()\n",
        "\n",
        "# Aggiungere le etichette agli assi\n",
        "plt.xticks(np.arange(len(class_names)), class_names, rotation=45)\n",
        "plt.yticks(np.arange(len(class_names)), class_names)\n",
        "\n",
        "# Etichettare gli assi\n",
        "plt.xlabel('Previsioni')\n",
        "plt.ylabel('Verità Terreno')\n",
        "\n",
        "# Mostrare i numeri all'interno delle celle\n",
        "thresh = matrice_confusione.max() / 2.\n",
        "for i in range(matrice_confusione.shape[0]):\n",
        "    for j in range(matrice_confusione.shape[1]):\n",
        "        plt.text(j, i, format(matrice_confusione[i, j], 'd'),\n",
        "             horizontalalignment=\"center\",\n",
        "             color=\"white\" if matrice_confusione[i, j] > thresh else \"black\")\n",
        "\n",
        "plt.tight_layout()\n",
        "plt.show()"
      ],
      "metadata": {
        "colab": {
          "base_uri": "https://localhost:8080/",
          "height": 807
        },
        "id": "A5kOBgZ8BMhx",
        "outputId": "69f1282e-2146-4192-f61a-44967325c14a"
      },
      "execution_count": null,
      "outputs": [
        {
          "output_type": "display_data",
          "data": {
            "text/plain": [
              "<Figure size 1000x800 with 2 Axes>"
            ],
            "image/png": "[encoded data removed]"
          },
          "metadata": {}
        }
      ]
    },
    {
      "cell_type": "markdown",
      "metadata": {
        "id": "xaSF2cIOvrzE"
      },
      "source": [
        "## Salvataggio dei dati"
      ]
    },
    {
      "cell_type": "markdown",
      "metadata": {
        "id": "JZC1SV8vvrzE"
      },
      "source": [
        "Per salvare i pesi del modello attuale su Google Drive:"
      ]
    },
    {
      "cell_type": "code",
      "execution_count": null,
      "metadata": {
        "id": "Gf23ttDCvrzF"
      },
      "outputs": [],
      "source": [
        "print(\"Inserire il nome del file di salvataggio (deve terminare con .keras):\")\n",
        "name = input()\n",
        "model.save_weights(name)\n",
        "saveWeights(name)"
      ]
    },
    {
      "cell_type": "markdown",
      "metadata": {
        "id": "yECF2VuUvrzF"
      },
      "source": [
        "Qualora si voglia salvare la history in un file .csv:"
      ]
    },
    {
      "cell_type": "code",
      "execution_count": null,
      "metadata": {
        "id": "XhzoDLAYvrzF"
      },
      "outputs": [],
      "source": [
        "nome = input()\n",
        "saveHistory(history, nome)"
      ]
    },
    {
      "cell_type": "markdown",
      "metadata": {
        "id": "ciNyOX0YvrzF"
      },
      "source": [
        "Qualora si voglia salvare l'evaluation in un file .csv:"
      ]
    },
    {
      "cell_type": "code",
      "execution_count": null,
      "metadata": {
        "id": "zKfRse4evrzF"
      },
      "outputs": [],
      "source": [
        "nome = input()\n",
        "saveEvaluation(test_loss, test_accuracy, test_f1, nome)"
      ]
    }
  ],
  "metadata": {
    "accelerator": "GPU",
    "colab": {
      "collapsed_sections": [
        "DruPGdce0mBH"
      ],
      "provenance": [],
      "include_colab_link": true
    },
    "kernelspec": {
      "display_name": "Python 3",
      "name": "python3"
    },
    "language_info": {
      "name": "python"
    }
  },
  "nbformat": 4,
  "nbformat_minor": 0
}